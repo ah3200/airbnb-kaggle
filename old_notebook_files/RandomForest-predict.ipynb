{
 "cells": [
  {
   "cell_type": "code",
   "execution_count": 1,
   "metadata": {
    "collapsed": true
   },
   "outputs": [],
   "source": [
    "import numpy as np\n",
    "import pandas as pd"
   ]
  },
  {
   "cell_type": "code",
   "execution_count": 2,
   "metadata": {
    "collapsed": true
   },
   "outputs": [],
   "source": [
    "# Load the data into DataFrames\n",
    "train_users = pd.read_csv('./data/train_users_2.csv')\n",
    "test_users = pd.read_csv('./data/test_users.csv')"
   ]
  },
  {
   "cell_type": "code",
   "execution_count": 3,
   "metadata": {
    "collapsed": false
   },
   "outputs": [
    {
     "data": {
      "text/html": [
       "<div>\n",
       "<table border=\"1\" class=\"dataframe\">\n",
       "  <thead>\n",
       "    <tr style=\"text-align: right;\">\n",
       "      <th></th>\n",
       "      <th>id</th>\n",
       "      <th>date_account_created</th>\n",
       "      <th>timestamp_first_active</th>\n",
       "      <th>date_first_booking</th>\n",
       "      <th>gender</th>\n",
       "      <th>age</th>\n",
       "      <th>signup_method</th>\n",
       "      <th>signup_flow</th>\n",
       "      <th>language</th>\n",
       "      <th>affiliate_channel</th>\n",
       "      <th>affiliate_provider</th>\n",
       "      <th>first_affiliate_tracked</th>\n",
       "      <th>signup_app</th>\n",
       "      <th>first_device_type</th>\n",
       "      <th>first_browser</th>\n",
       "      <th>country_destination</th>\n",
       "    </tr>\n",
       "  </thead>\n",
       "  <tbody>\n",
       "    <tr>\n",
       "      <th>0</th>\n",
       "      <td>gxn3p5htnn</td>\n",
       "      <td>2010-06-28</td>\n",
       "      <td>20090319043255</td>\n",
       "      <td>NaN</td>\n",
       "      <td>-unknown-</td>\n",
       "      <td>NaN</td>\n",
       "      <td>facebook</td>\n",
       "      <td>0</td>\n",
       "      <td>en</td>\n",
       "      <td>direct</td>\n",
       "      <td>direct</td>\n",
       "      <td>untracked</td>\n",
       "      <td>Web</td>\n",
       "      <td>Mac Desktop</td>\n",
       "      <td>Chrome</td>\n",
       "      <td>NDF</td>\n",
       "    </tr>\n",
       "    <tr>\n",
       "      <th>1</th>\n",
       "      <td>820tgsjxq7</td>\n",
       "      <td>2011-05-25</td>\n",
       "      <td>20090523174809</td>\n",
       "      <td>NaN</td>\n",
       "      <td>MALE</td>\n",
       "      <td>38</td>\n",
       "      <td>facebook</td>\n",
       "      <td>0</td>\n",
       "      <td>en</td>\n",
       "      <td>seo</td>\n",
       "      <td>google</td>\n",
       "      <td>untracked</td>\n",
       "      <td>Web</td>\n",
       "      <td>Mac Desktop</td>\n",
       "      <td>Chrome</td>\n",
       "      <td>NDF</td>\n",
       "    </tr>\n",
       "    <tr>\n",
       "      <th>2</th>\n",
       "      <td>4ft3gnwmtx</td>\n",
       "      <td>2010-09-28</td>\n",
       "      <td>20090609231247</td>\n",
       "      <td>2010-08-02</td>\n",
       "      <td>FEMALE</td>\n",
       "      <td>56</td>\n",
       "      <td>basic</td>\n",
       "      <td>3</td>\n",
       "      <td>en</td>\n",
       "      <td>direct</td>\n",
       "      <td>direct</td>\n",
       "      <td>untracked</td>\n",
       "      <td>Web</td>\n",
       "      <td>Windows Desktop</td>\n",
       "      <td>IE</td>\n",
       "      <td>US</td>\n",
       "    </tr>\n",
       "    <tr>\n",
       "      <th>3</th>\n",
       "      <td>bjjt8pjhuk</td>\n",
       "      <td>2011-12-05</td>\n",
       "      <td>20091031060129</td>\n",
       "      <td>2012-09-08</td>\n",
       "      <td>FEMALE</td>\n",
       "      <td>42</td>\n",
       "      <td>facebook</td>\n",
       "      <td>0</td>\n",
       "      <td>en</td>\n",
       "      <td>direct</td>\n",
       "      <td>direct</td>\n",
       "      <td>untracked</td>\n",
       "      <td>Web</td>\n",
       "      <td>Mac Desktop</td>\n",
       "      <td>Firefox</td>\n",
       "      <td>other</td>\n",
       "    </tr>\n",
       "    <tr>\n",
       "      <th>4</th>\n",
       "      <td>87mebub9p4</td>\n",
       "      <td>2010-09-14</td>\n",
       "      <td>20091208061105</td>\n",
       "      <td>2010-02-18</td>\n",
       "      <td>-unknown-</td>\n",
       "      <td>41</td>\n",
       "      <td>basic</td>\n",
       "      <td>0</td>\n",
       "      <td>en</td>\n",
       "      <td>direct</td>\n",
       "      <td>direct</td>\n",
       "      <td>untracked</td>\n",
       "      <td>Web</td>\n",
       "      <td>Mac Desktop</td>\n",
       "      <td>Chrome</td>\n",
       "      <td>US</td>\n",
       "    </tr>\n",
       "  </tbody>\n",
       "</table>\n",
       "</div>"
      ],
      "text/plain": [
       "           id date_account_created  timestamp_first_active date_first_booking  \\\n",
       "0  gxn3p5htnn           2010-06-28          20090319043255                NaN   \n",
       "1  820tgsjxq7           2011-05-25          20090523174809                NaN   \n",
       "2  4ft3gnwmtx           2010-09-28          20090609231247         2010-08-02   \n",
       "3  bjjt8pjhuk           2011-12-05          20091031060129         2012-09-08   \n",
       "4  87mebub9p4           2010-09-14          20091208061105         2010-02-18   \n",
       "\n",
       "      gender  age signup_method  signup_flow language affiliate_channel  \\\n",
       "0  -unknown-  NaN      facebook            0       en            direct   \n",
       "1       MALE   38      facebook            0       en               seo   \n",
       "2     FEMALE   56         basic            3       en            direct   \n",
       "3     FEMALE   42      facebook            0       en            direct   \n",
       "4  -unknown-   41         basic            0       en            direct   \n",
       "\n",
       "  affiliate_provider first_affiliate_tracked signup_app first_device_type  \\\n",
       "0             direct               untracked        Web       Mac Desktop   \n",
       "1             google               untracked        Web       Mac Desktop   \n",
       "2             direct               untracked        Web   Windows Desktop   \n",
       "3             direct               untracked        Web       Mac Desktop   \n",
       "4             direct               untracked        Web       Mac Desktop   \n",
       "\n",
       "  first_browser country_destination  \n",
       "0        Chrome                 NDF  \n",
       "1        Chrome                 NDF  \n",
       "2            IE                  US  \n",
       "3       Firefox               other  \n",
       "4        Chrome                  US  "
      ]
     },
     "execution_count": 3,
     "metadata": {},
     "output_type": "execute_result"
    }
   ],
   "source": [
    "train_users.head()"
   ]
  },
  {
   "cell_type": "code",
   "execution_count": 4,
   "metadata": {
    "collapsed": true
   },
   "outputs": [],
   "source": [
    "# Replace null\n",
    "train_users.gender.replace('-unknown-', np.nan, inplace=True)"
   ]
  },
  {
   "cell_type": "code",
   "execution_count": 4,
   "metadata": {
    "collapsed": true
   },
   "outputs": [],
   "source": [
    "cat_features = ['gender','age','signup_method','signup_flow','language','affiliate_channel','affiliate_provider', \\\n",
    "                'first_affiliate_tracked','signup_app','first_device_type','first_browser']\n",
    "target = ['country_destination']"
   ]
  },
  {
   "cell_type": "code",
   "execution_count": 5,
   "metadata": {
    "collapsed": false
   },
   "outputs": [
    {
     "name": "stdout",
     "output_type": "stream",
     "text": [
      "-unknown-    95688\n",
      "FEMALE       63041\n",
      "MALE         54440\n",
      "OTHER          282\n",
      "Name: gender, dtype: int64\n",
      "30      6124\n",
      "31      6016\n",
      "29      5963\n",
      "28      5939\n",
      "32      5855\n",
      "27      5738\n",
      "33      5527\n",
      "26      5044\n",
      "34      5029\n",
      "35      4860\n",
      "25      4459\n",
      "36      4083\n",
      "37      3694\n",
      "38      3384\n",
      "24      3220\n",
      "39      2998\n",
      "40      2766\n",
      "41      2538\n",
      "23      2462\n",
      "42      2243\n",
      "45      2149\n",
      "44      2137\n",
      "43      2056\n",
      "46      1875\n",
      "22      1702\n",
      "47      1646\n",
      "48      1469\n",
      "50      1387\n",
      "51      1337\n",
      "49      1331\n",
      "        ... \n",
      "94        12\n",
      "97        10\n",
      "15         8\n",
      "2          7\n",
      "113        4\n",
      "4          3\n",
      "1932       3\n",
      "1949       3\n",
      "1931       3\n",
      "1947       2\n",
      "1936       2\n",
      "1          2\n",
      "1929       2\n",
      "1928       2\n",
      "111        2\n",
      "1924       2\n",
      "2008       1\n",
      "112        1\n",
      "132        1\n",
      "150        1\n",
      "1925       1\n",
      "1995       1\n",
      "1935       1\n",
      "1953       1\n",
      "1952       1\n",
      "1926       1\n",
      "1927       1\n",
      "1942       1\n",
      "1938       1\n",
      "1933       1\n",
      "Name: age, dtype: int64\n",
      "basic       152897\n",
      "facebook     60008\n",
      "google         546\n",
      "Name: signup_method, dtype: int64\n",
      "0     164739\n",
      "25     14659\n",
      "12      9329\n",
      "3       8822\n",
      "2       6881\n",
      "24      4328\n",
      "23      2835\n",
      "1       1047\n",
      "6        301\n",
      "8        240\n",
      "21       196\n",
      "5         36\n",
      "20        14\n",
      "16        11\n",
      "15        10\n",
      "10         2\n",
      "4          1\n",
      "Name: signup_flow, dtype: int64\n",
      "en    206314\n",
      "zh      1632\n",
      "fr      1172\n",
      "es       915\n",
      "ko       747\n",
      "de       732\n",
      "it       514\n",
      "ru       389\n",
      "pt       240\n",
      "ja       225\n",
      "sv       122\n",
      "nl        97\n",
      "tr        64\n",
      "da        58\n",
      "pl        54\n",
      "cs        32\n",
      "no        30\n",
      "el        24\n",
      "th        24\n",
      "id        22\n",
      "hu        18\n",
      "fi        14\n",
      "is         5\n",
      "ca         5\n",
      "hr         2\n",
      "Name: language, dtype: int64\n",
      "direct           137727\n",
      "sem-brand         26045\n",
      "sem-non-brand     18844\n",
      "other              8961\n",
      "seo                8663\n",
      "api                8167\n",
      "content            3948\n",
      "remarketing        1096\n",
      "Name: affiliate_channel, dtype: int64\n",
      "direct                 137426\n",
      "google                  51693\n",
      "other                   12549\n",
      "craigslist               3471\n",
      "bing                     2328\n",
      "facebook                 2273\n",
      "vast                      829\n",
      "padmapper                 768\n",
      "facebook-open-graph       545\n",
      "yahoo                     496\n",
      "gsp                       453\n",
      "meetup                    347\n",
      "email-marketing           166\n",
      "naver                      52\n",
      "baidu                      29\n",
      "yandex                     17\n",
      "wayn                        8\n",
      "daum                        1\n",
      "Name: affiliate_provider, dtype: int64\n",
      "untracked        109232\n",
      "linked            46287\n",
      "omg               43982\n",
      "tracked-other      6156\n",
      "product            1556\n",
      "marketing           139\n",
      "local ops            34\n",
      "Name: first_affiliate_tracked, dtype: int64\n",
      "Web        182717\n",
      "iOS         19019\n",
      "Moweb        6261\n",
      "Android      5454\n",
      "Name: signup_app, dtype: int64\n",
      "Mac Desktop           89600\n",
      "Windows Desktop       72716\n",
      "iPhone                20759\n",
      "iPad                  14339\n",
      "Other/Unknown         10667\n",
      "Android Phone          2803\n",
      "Android Tablet         1292\n",
      "Desktop (Other)        1199\n",
      "SmartPhone (Other)       76\n",
      "Name: first_device_type, dtype: int64\n",
      "Chrome                  63845\n",
      "Safari                  45169\n",
      "Firefox                 33655\n",
      "-unknown-               27266\n",
      "IE                      21068\n",
      "Mobile Safari           19274\n",
      "Chrome Mobile            1270\n",
      "Android Browser           851\n",
      "AOL Explorer              245\n",
      "Opera                     188\n",
      "Silk                      124\n",
      "Chromium                   73\n",
      "BlackBerry Browser         53\n",
      "Maxthon                    46\n",
      "IE Mobile                  36\n",
      "Apple Mail                 36\n",
      "Sogou Explorer             33\n",
      "Mobile Firefox             30\n",
      "SiteKiosk                  24\n",
      "RockMelt                   24\n",
      "Iron                       17\n",
      "IceWeasel                  13\n",
      "Pale Moon                  12\n",
      "Yandex.Browser             11\n",
      "SeaMonkey                  11\n",
      "CometBird                  11\n",
      "Camino                      9\n",
      "TenFourFox                  8\n",
      "wOSBrowser                  6\n",
      "CoolNovo                    6\n",
      "Avant Browser               4\n",
      "Opera Mini                  4\n",
      "Mozilla                     3\n",
      "Comodo Dragon               2\n",
      "Flock                       2\n",
      "Opera Mobile                2\n",
      "SlimBrowser                 2\n",
      "OmniWeb                     2\n",
      "Crazy Browser               2\n",
      "TheWorld Browser            2\n",
      "PS Vita browser             1\n",
      "Googlebot                   1\n",
      "IceDragon                   1\n",
      "Stainless                   1\n",
      "Conkeror                    1\n",
      "Outlook 2007                1\n",
      "Palm Pre web browser        1\n",
      "Kindle Browser              1\n",
      "Epic                        1\n",
      "Google Earth                1\n",
      "Arora                       1\n",
      "NetNewsWire                 1\n",
      "Name: first_browser, dtype: int64\n"
     ]
    }
   ],
   "source": [
    "for feature in cat_features:\n",
    "    print train_users[feature].value_counts()"
   ]
  },
  {
   "cell_type": "code",
   "execution_count": 6,
   "metadata": {
    "collapsed": false
   },
   "outputs": [
    {
     "data": {
      "text/plain": [
       "id                              0\n",
       "date_account_created            0\n",
       "timestamp_first_active          0\n",
       "date_first_booking         124543\n",
       "gender                          0\n",
       "age                         87990\n",
       "signup_method                   0\n",
       "signup_flow                     0\n",
       "language                        0\n",
       "affiliate_channel               0\n",
       "affiliate_provider              0\n",
       "first_affiliate_tracked      6065\n",
       "signup_app                      0\n",
       "first_device_type               0\n",
       "first_browser                   0\n",
       "country_destination             0\n",
       "dtype: int64"
      ]
     },
     "execution_count": 6,
     "metadata": {},
     "output_type": "execute_result"
    }
   ],
   "source": [
    "train_users.isnull().sum()"
   ]
  },
  {
   "cell_type": "code",
   "execution_count": 7,
   "metadata": {
    "collapsed": false
   },
   "outputs": [
    {
     "data": {
      "text/plain": [
       "(213451, 16)"
      ]
     },
     "execution_count": 7,
     "metadata": {},
     "output_type": "execute_result"
    }
   ],
   "source": [
    "train_users.shape"
   ]
  },
  {
   "cell_type": "code",
   "execution_count": 8,
   "metadata": {
    "collapsed": false
   },
   "outputs": [
    {
     "data": {
      "text/plain": [
       "id                         213451\n",
       "date_account_created       213451\n",
       "timestamp_first_active     213451\n",
       "date_first_booking          88908\n",
       "gender                     213451\n",
       "age                        125461\n",
       "signup_method              213451\n",
       "signup_flow                213451\n",
       "language                   213451\n",
       "affiliate_channel          213451\n",
       "affiliate_provider         213451\n",
       "first_affiliate_tracked    207386\n",
       "signup_app                 213451\n",
       "first_device_type          213451\n",
       "first_browser              213451\n",
       "country_destination        213451\n",
       "dtype: int64"
      ]
     },
     "execution_count": 8,
     "metadata": {},
     "output_type": "execute_result"
    }
   ],
   "source": [
    "train_users.count()"
   ]
  },
  {
   "cell_type": "code",
   "execution_count": 9,
   "metadata": {
    "collapsed": false
   },
   "outputs": [
    {
     "data": {
      "text/plain": [
       "(2543, 122900, 87990)"
      ]
     },
     "execution_count": 9,
     "metadata": {},
     "output_type": "execute_result"
    }
   ],
   "source": [
    "len(train_users[train_users['age'] > 90]), len(train_users[train_users['age'] < 90]), len(train_users[train_users['age'].isnull()])"
   ]
  },
  {
   "cell_type": "code",
   "execution_count": 10,
   "metadata": {
    "collapsed": true
   },
   "outputs": [],
   "source": [
    "train_users = train_users.fillna({'age':0})"
   ]
  },
  {
   "cell_type": "code",
   "execution_count": 11,
   "metadata": {
    "collapsed": false
   },
   "outputs": [
    {
     "data": {
      "text/plain": [
       "(2543, 210890, 0)"
      ]
     },
     "execution_count": 11,
     "metadata": {},
     "output_type": "execute_result"
    }
   ],
   "source": [
    "len(train_users[train_users['age'] > 90]), len(train_users[train_users['age'] < 90]), len(train_users[train_users['age'].isnull()])"
   ]
  },
  {
   "cell_type": "code",
   "execution_count": 12,
   "metadata": {
    "collapsed": true
   },
   "outputs": [],
   "source": [
    "train_users = train_users[train_users['age'] < 90]"
   ]
  },
  {
   "cell_type": "code",
   "execution_count": 13,
   "metadata": {
    "collapsed": false
   },
   "outputs": [
    {
     "data": {
      "text/plain": [
       "(210890, 16)"
      ]
     },
     "execution_count": 13,
     "metadata": {},
     "output_type": "execute_result"
    }
   ],
   "source": [
    "train_users.shape"
   ]
  },
  {
   "cell_type": "code",
   "execution_count": 14,
   "metadata": {
    "collapsed": true
   },
   "outputs": [],
   "source": [
    "train_data = pd.get_dummies(train_users[cat_features])"
   ]
  },
  {
   "cell_type": "code",
   "execution_count": 15,
   "metadata": {
    "collapsed": false
   },
   "outputs": [
    {
     "data": {
      "text/plain": [
       "(10, 132)"
      ]
     },
     "execution_count": 15,
     "metadata": {},
     "output_type": "execute_result"
    }
   ],
   "source": [
    "train_data.head(10).shape"
   ]
  },
  {
   "cell_type": "code",
   "execution_count": 16,
   "metadata": {
    "collapsed": false
   },
   "outputs": [
    {
     "data": {
      "text/plain": [
       "age                                   0\n",
       "signup_flow                           0\n",
       "gender_-unknown-                      0\n",
       "gender_FEMALE                         0\n",
       "gender_MALE                           0\n",
       "gender_OTHER                          0\n",
       "signup_method_basic                   0\n",
       "signup_method_facebook                0\n",
       "signup_method_google                  0\n",
       "language_ca                           0\n",
       "language_cs                           0\n",
       "language_da                           0\n",
       "language_de                           0\n",
       "language_el                           0\n",
       "language_en                           0\n",
       "language_es                           0\n",
       "language_fi                           0\n",
       "language_fr                           0\n",
       "language_hr                           0\n",
       "language_hu                           0\n",
       "language_id                           0\n",
       "language_is                           0\n",
       "language_it                           0\n",
       "language_ja                           0\n",
       "language_ko                           0\n",
       "language_nl                           0\n",
       "language_no                           0\n",
       "language_pl                           0\n",
       "language_pt                           0\n",
       "language_ru                           0\n",
       "                                     ..\n",
       "first_browser_IE Mobile               0\n",
       "first_browser_IceDragon               0\n",
       "first_browser_IceWeasel               0\n",
       "first_browser_Iron                    0\n",
       "first_browser_Kindle Browser          0\n",
       "first_browser_Maxthon                 0\n",
       "first_browser_Mobile Firefox          0\n",
       "first_browser_Mobile Safari           0\n",
       "first_browser_Mozilla                 0\n",
       "first_browser_NetNewsWire             0\n",
       "first_browser_OmniWeb                 0\n",
       "first_browser_Opera                   0\n",
       "first_browser_Opera Mini              0\n",
       "first_browser_Opera Mobile            0\n",
       "first_browser_Outlook 2007            0\n",
       "first_browser_PS Vita browser         0\n",
       "first_browser_Pale Moon               0\n",
       "first_browser_Palm Pre web browser    0\n",
       "first_browser_RockMelt                0\n",
       "first_browser_Safari                  0\n",
       "first_browser_SeaMonkey               0\n",
       "first_browser_Silk                    0\n",
       "first_browser_SiteKiosk               0\n",
       "first_browser_SlimBrowser             0\n",
       "first_browser_Sogou Explorer          0\n",
       "first_browser_Stainless               0\n",
       "first_browser_TenFourFox              0\n",
       "first_browser_TheWorld Browser        0\n",
       "first_browser_Yandex.Browser          0\n",
       "first_browser_wOSBrowser              0\n",
       "dtype: int64"
      ]
     },
     "execution_count": 16,
     "metadata": {},
     "output_type": "execute_result"
    }
   ],
   "source": [
    "train_data.isnull().sum()"
   ]
  },
  {
   "cell_type": "code",
   "execution_count": 17,
   "metadata": {
    "collapsed": false
   },
   "outputs": [],
   "source": [
    "#train_data = train_data.fillna({'age':0})"
   ]
  },
  {
   "cell_type": "code",
   "execution_count": 18,
   "metadata": {
    "collapsed": false
   },
   "outputs": [
    {
     "name": "stderr",
     "output_type": "stream",
     "text": [
      "/usr/local/lib/python2.7/dist-packages/ipykernel/__main__.py:3: DataConversionWarning: A column-vector y was passed when a 1d array was expected. Please change the shape of y to (n_samples,), for example using ravel().\n",
      "  app.launch_new_instance()\n"
     ]
    },
    {
     "data": {
      "text/plain": [
       "RandomForestClassifier(bootstrap=True, class_weight=None, criterion='gini',\n",
       "            max_depth=None, max_features='auto', max_leaf_nodes=None,\n",
       "            min_samples_leaf=1, min_samples_split=2,\n",
       "            min_weight_fraction_leaf=0.0, n_estimators=10, n_jobs=1,\n",
       "            oob_score=False, random_state=None, verbose=0,\n",
       "            warm_start=False)"
      ]
     },
     "execution_count": 18,
     "metadata": {},
     "output_type": "execute_result"
    }
   ],
   "source": [
    "from sklearn.ensemble import RandomForestClassifier\n",
    "model1 = RandomForestClassifier(n_estimators=10)\n",
    "model1.fit(train_data, train_users[target])"
   ]
  },
  {
   "cell_type": "code",
   "execution_count": 19,
   "metadata": {
    "collapsed": false
   },
   "outputs": [
    {
     "data": {
      "text/plain": [
       "(132,)"
      ]
     },
     "execution_count": 19,
     "metadata": {},
     "output_type": "execute_result"
    }
   ],
   "source": [
    "model1.feature_importances_.shape"
   ]
  },
  {
   "cell_type": "code",
   "execution_count": 20,
   "metadata": {
    "collapsed": false
   },
   "outputs": [
    {
     "data": {
      "text/plain": [
       "[('age', 0.59311254540744),\n",
       " ('signup_flow', 0.05604890828794147),\n",
       " ('gender_-unknown-', 0.036488961277635804),\n",
       " ('signup_method_facebook', 0.027167371790925033),\n",
       " ('signup_method_basic', 0.02181720423555077),\n",
       " ('gender_FEMALE', 0.019008759533083334),\n",
       " ('gender_MALE', 0.014151136122209673),\n",
       " ('first_affiliate_tracked_untracked', 0.013898140114303284),\n",
       " ('first_affiliate_tracked_linked', 0.009927072811649226),\n",
       " ('first_browser_Chrome', 0.00931768284281363),\n",
       " ('first_affiliate_tracked_omg', 0.009063546456920396),\n",
       " ('first_browser_-unknown-', 0.00845473708794252),\n",
       " ('first_browser_Firefox', 0.008102990071948068),\n",
       " ('first_device_type_Mac Desktop', 0.007937410068649915),\n",
       " ('language_en', 0.007557978446616041),\n",
       " ('affiliate_channel_content', 0.007118901848859452),\n",
       " ('first_device_type_Windows Desktop', 0.0070095681505426876),\n",
       " ('first_browser_Safari', 0.006136364287327568),\n",
       " ('affiliate_channel_sem-brand', 0.006005748501432789),\n",
       " ('affiliate_channel_sem-non-brand', 0.0059912025601636726)]"
      ]
     },
     "execution_count": 20,
     "metadata": {},
     "output_type": "execute_result"
    }
   ],
   "source": [
    "sorted(zip(train_data.columns.tolist(), model1.feature_importances_.tolist()), key=lambda x: x[1], reverse=True)[:20]"
   ]
  },
  {
   "cell_type": "code",
   "execution_count": 21,
   "metadata": {
    "collapsed": false
   },
   "outputs": [
    {
     "data": {
      "text/plain": [
       "0.71695196547963391"
      ]
     },
     "execution_count": 21,
     "metadata": {},
     "output_type": "execute_result"
    }
   ],
   "source": [
    "model1.score(train_data.values,train_users[target].values)"
   ]
  },
  {
   "cell_type": "code",
   "execution_count": 22,
   "metadata": {
    "collapsed": false
   },
   "outputs": [],
   "source": [
    "from sklearn.cross_validation import train_test_split\n",
    "X_train, X_test, y_train, y_test = train_test_split(train_data.values, train_users[target].values, test_size=0.33, random_state=42)"
   ]
  },
  {
   "cell_type": "code",
   "execution_count": 23,
   "metadata": {
    "collapsed": false
   },
   "outputs": [
    {
     "data": {
      "text/plain": [
       "((141296, 132), (69594, 132), (141296, 1), (69594, 1))"
      ]
     },
     "execution_count": 23,
     "metadata": {},
     "output_type": "execute_result"
    }
   ],
   "source": [
    "X_train.shape, X_test.shape, y_train.shape, y_test.shape"
   ]
  },
  {
   "cell_type": "code",
   "execution_count": 24,
   "metadata": {
    "collapsed": false
   },
   "outputs": [
    {
     "name": "stderr",
     "output_type": "stream",
     "text": [
      "/usr/local/lib/python2.7/dist-packages/ipykernel/__main__.py:2: DataConversionWarning: A column-vector y was passed when a 1d array was expected. Please change the shape of y to (n_samples,), for example using ravel().\n",
      "  from ipykernel import kernelapp as app\n"
     ]
    },
    {
     "data": {
      "text/plain": [
       "RandomForestClassifier(bootstrap=True, class_weight=None, criterion='gini',\n",
       "            max_depth=None, max_features='auto', max_leaf_nodes=None,\n",
       "            min_samples_leaf=1, min_samples_split=2,\n",
       "            min_weight_fraction_leaf=0.0, n_estimators=10, n_jobs=1,\n",
       "            oob_score=False, random_state=None, verbose=0,\n",
       "            warm_start=False)"
      ]
     },
     "execution_count": 24,
     "metadata": {},
     "output_type": "execute_result"
    }
   ],
   "source": [
    "model2 = RandomForestClassifier(n_estimators=10)\n",
    "model2.fit(X_train, y_train)"
   ]
  },
  {
   "cell_type": "code",
   "execution_count": 25,
   "metadata": {
    "collapsed": false
   },
   "outputs": [
    {
     "data": {
      "text/plain": [
       "0.72844241875212323"
      ]
     },
     "execution_count": 25,
     "metadata": {},
     "output_type": "execute_result"
    }
   ],
   "source": [
    "model2.score(X_train, y_train)"
   ]
  },
  {
   "cell_type": "code",
   "execution_count": 26,
   "metadata": {
    "collapsed": false
   },
   "outputs": [
    {
     "data": {
      "text/plain": [
       "0.59564042877259538"
      ]
     },
     "execution_count": 26,
     "metadata": {},
     "output_type": "execute_result"
    }
   ],
   "source": [
    "model2.score(X_test, y_test)"
   ]
  },
  {
   "cell_type": "code",
   "execution_count": 27,
   "metadata": {
    "collapsed": false
   },
   "outputs": [
    {
     "data": {
      "text/plain": [
       "[('age', 0.59311254540744),\n",
       " ('signup_flow', 0.05604890828794147),\n",
       " ('gender_-unknown-', 0.036488961277635804),\n",
       " ('signup_method_facebook', 0.027167371790925033),\n",
       " ('signup_method_basic', 0.02181720423555077),\n",
       " ('gender_FEMALE', 0.019008759533083334),\n",
       " ('gender_MALE', 0.014151136122209673),\n",
       " ('first_affiliate_tracked_untracked', 0.013898140114303284),\n",
       " ('first_affiliate_tracked_linked', 0.009927072811649226),\n",
       " ('first_browser_Chrome', 0.00931768284281363)]"
      ]
     },
     "execution_count": 27,
     "metadata": {},
     "output_type": "execute_result"
    }
   ],
   "source": [
    "sorted(zip(train_data.columns.tolist(), model1.feature_importances_.tolist()), key=lambda x: x[1], reverse=True)[:10]"
   ]
  },
  {
   "cell_type": "code",
   "execution_count": 28,
   "metadata": {
    "collapsed": false
   },
   "outputs": [],
   "source": [
    "from sklearn.cross_validation import cross_val_score"
   ]
  },
  {
   "cell_type": "code",
   "execution_count": 29,
   "metadata": {
    "collapsed": false
   },
   "outputs": [
    {
     "data": {
      "text/plain": [
       "((141296, 132), (141296, 1))"
      ]
     },
     "execution_count": 29,
     "metadata": {},
     "output_type": "execute_result"
    }
   ],
   "source": [
    "X_train.shape, y_train.shape"
   ]
  },
  {
   "cell_type": "code",
   "execution_count": 30,
   "metadata": {
    "collapsed": false
   },
   "outputs": [],
   "source": [
    "c, r = y_train.shape\n",
    "y_train = y_train.reshape(c,)"
   ]
  },
  {
   "cell_type": "code",
   "execution_count": 31,
   "metadata": {
    "collapsed": false
   },
   "outputs": [],
   "source": [
    "model3 = RandomForestClassifier(n_estimators=10)\n",
    "scores = cross_val_score(model3, X_train, y_train, cv=5)"
   ]
  },
  {
   "cell_type": "code",
   "execution_count": 32,
   "metadata": {
    "collapsed": false
   },
   "outputs": [
    {
     "data": {
      "text/plain": [
       "array([ 0.59291628,  0.59290188,  0.59348903,  0.59460703,  0.59361506])"
      ]
     },
     "execution_count": 32,
     "metadata": {},
     "output_type": "execute_result"
    }
   ],
   "source": [
    "scores"
   ]
  },
  {
   "cell_type": "code",
   "execution_count": 33,
   "metadata": {
    "collapsed": false
   },
   "outputs": [
    {
     "name": "stdout",
     "output_type": "stream",
     "text": [
      "[ 0.60986484  0.60755104  0.60651097  0.61028345  0.61046224]\n"
     ]
    }
   ],
   "source": [
    "from sklearn.linear_model import LogisticRegression\n",
    "model4 = LogisticRegression()\n",
    "scores = cross_val_score(model4, X_train, y_train, cv=5)\n",
    "print scores"
   ]
  },
  {
   "cell_type": "code",
   "execution_count": 44,
   "metadata": {
    "collapsed": false
   },
   "outputs": [
    {
     "data": {
      "text/plain": [
       "LogisticRegression(C=1.0, class_weight=None, dual=False, fit_intercept=True,\n",
       "          intercept_scaling=1, max_iter=100, multi_class='ovr', n_jobs=1,\n",
       "          penalty='l2', random_state=None, solver='liblinear', tol=0.0001,\n",
       "          verbose=0, warm_start=False)"
      ]
     },
     "execution_count": 44,
     "metadata": {},
     "output_type": "execute_result"
    }
   ],
   "source": [
    "model4.fit(X_train,y_train)"
   ]
  },
  {
   "cell_type": "code",
   "execution_count": 50,
   "metadata": {
    "collapsed": false
   },
   "outputs": [
    {
     "data": {
      "text/plain": [
       "((12, 131), (141296, 131))"
      ]
     },
     "execution_count": 50,
     "metadata": {},
     "output_type": "execute_result"
    }
   ],
   "source": [
    "model4.coef_.shape, X_train.shape"
   ]
  },
  {
   "cell_type": "code",
   "execution_count": 56,
   "metadata": {
    "collapsed": true
   },
   "outputs": [],
   "source": [
    "#from sklearn.svm import LinearSVC\n",
    "#model5 = LinearSVC()\n",
    "#model5 = cross_val_score(model5, X_train, y_train, cv=5)"
   ]
  },
  {
   "cell_type": "code",
   "execution_count": 57,
   "metadata": {
    "collapsed": false
   },
   "outputs": [
    {
     "data": {
      "text/plain": [
       "array([ 0.58435355,  0.59311419,  0.5604034 ,  0.58452175,  0.55730162])"
      ]
     },
     "execution_count": 57,
     "metadata": {},
     "output_type": "execute_result"
    }
   ],
   "source": [
    "#model5"
   ]
  },
  {
   "cell_type": "code",
   "execution_count": null,
   "metadata": {
    "collapsed": true
   },
   "outputs": [],
   "source": []
  }
 ],
 "metadata": {
  "kernelspec": {
   "display_name": "Python 2",
   "language": "python",
   "name": "python2"
  },
  "language_info": {
   "codemirror_mode": {
    "name": "ipython",
    "version": 2
   },
   "file_extension": ".py",
   "mimetype": "text/x-python",
   "name": "python",
   "nbconvert_exporter": "python",
   "pygments_lexer": "ipython2",
   "version": "2.7.10"
  }
 },
 "nbformat": 4,
 "nbformat_minor": 0
}
