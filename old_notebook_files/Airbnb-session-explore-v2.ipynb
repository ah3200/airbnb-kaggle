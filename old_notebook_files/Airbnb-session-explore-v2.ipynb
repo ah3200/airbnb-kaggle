{
 "cells": [
  {
   "cell_type": "code",
   "execution_count": 1,
   "metadata": {
    "collapsed": true
   },
   "outputs": [],
   "source": [
    "import numpy as np\n",
    "import pandas as pd"
   ]
  },
  {
   "cell_type": "code",
   "execution_count": 2,
   "metadata": {
    "collapsed": true
   },
   "outputs": [],
   "source": [
    "session = pd.read_csv('./data/sessions.csv')"
   ]
  },
  {
   "cell_type": "code",
   "execution_count": 3,
   "metadata": {
    "collapsed": false
   },
   "outputs": [
    {
     "data": {
      "text/html": [
       "<div>\n",
       "<table border=\"1\" class=\"dataframe\">\n",
       "  <thead>\n",
       "    <tr style=\"text-align: right;\">\n",
       "      <th></th>\n",
       "      <th>user_id</th>\n",
       "      <th>action</th>\n",
       "      <th>action_type</th>\n",
       "      <th>action_detail</th>\n",
       "      <th>device_type</th>\n",
       "      <th>secs_elapsed</th>\n",
       "    </tr>\n",
       "  </thead>\n",
       "  <tbody>\n",
       "    <tr>\n",
       "      <th>0</th>\n",
       "      <td>d1mm9tcy42</td>\n",
       "      <td>lookup</td>\n",
       "      <td>NaN</td>\n",
       "      <td>NaN</td>\n",
       "      <td>Windows Desktop</td>\n",
       "      <td>319.0</td>\n",
       "    </tr>\n",
       "    <tr>\n",
       "      <th>1</th>\n",
       "      <td>d1mm9tcy42</td>\n",
       "      <td>search_results</td>\n",
       "      <td>click</td>\n",
       "      <td>view_search_results</td>\n",
       "      <td>Windows Desktop</td>\n",
       "      <td>67753.0</td>\n",
       "    </tr>\n",
       "    <tr>\n",
       "      <th>2</th>\n",
       "      <td>d1mm9tcy42</td>\n",
       "      <td>lookup</td>\n",
       "      <td>NaN</td>\n",
       "      <td>NaN</td>\n",
       "      <td>Windows Desktop</td>\n",
       "      <td>301.0</td>\n",
       "    </tr>\n",
       "    <tr>\n",
       "      <th>3</th>\n",
       "      <td>d1mm9tcy42</td>\n",
       "      <td>search_results</td>\n",
       "      <td>click</td>\n",
       "      <td>view_search_results</td>\n",
       "      <td>Windows Desktop</td>\n",
       "      <td>22141.0</td>\n",
       "    </tr>\n",
       "    <tr>\n",
       "      <th>4</th>\n",
       "      <td>d1mm9tcy42</td>\n",
       "      <td>lookup</td>\n",
       "      <td>NaN</td>\n",
       "      <td>NaN</td>\n",
       "      <td>Windows Desktop</td>\n",
       "      <td>435.0</td>\n",
       "    </tr>\n",
       "  </tbody>\n",
       "</table>\n",
       "</div>"
      ],
      "text/plain": [
       "      user_id          action action_type        action_detail  \\\n",
       "0  d1mm9tcy42          lookup         NaN                  NaN   \n",
       "1  d1mm9tcy42  search_results       click  view_search_results   \n",
       "2  d1mm9tcy42          lookup         NaN                  NaN   \n",
       "3  d1mm9tcy42  search_results       click  view_search_results   \n",
       "4  d1mm9tcy42          lookup         NaN                  NaN   \n",
       "\n",
       "       device_type  secs_elapsed  \n",
       "0  Windows Desktop         319.0  \n",
       "1  Windows Desktop       67753.0  \n",
       "2  Windows Desktop         301.0  \n",
       "3  Windows Desktop       22141.0  \n",
       "4  Windows Desktop         435.0  "
      ]
     },
     "execution_count": 3,
     "metadata": {},
     "output_type": "execute_result"
    }
   ],
   "source": [
    "session.head(5)"
   ]
  },
  {
   "cell_type": "code",
   "execution_count": 4,
   "metadata": {
    "collapsed": false
   },
   "outputs": [
    {
     "data": {
      "text/plain": [
       "(10567737, 6)"
      ]
     },
     "execution_count": 4,
     "metadata": {},
     "output_type": "execute_result"
    }
   ],
   "source": [
    "session.shape"
   ]
  },
  {
   "cell_type": "code",
   "execution_count": 5,
   "metadata": {
    "collapsed": false
   },
   "outputs": [
    {
     "data": {
      "text/plain": [
       "view_search_results            1776885\n",
       "p3                             1376550\n",
       "-unknown-                      1031141\n",
       "wishlist_content_update         706824\n",
       "user_profile                    656839\n",
       "change_trip_characteristics     487744\n",
       "similar_listings                364624\n",
       "user_social_connections         336799\n",
       "update_listing                  269779\n",
       "listing_reviews                 269021\n",
       "dashboard                       152952\n",
       "user_wishlists                  152672\n",
       "header_userpic                  141830\n",
       "message_thread                  132395\n",
       "edit_profile                    108686\n",
       "message_post                     87103\n",
       "contact_host                     81041\n",
       "unavailable_dates                77795\n",
       "confirm_email_link               58422\n",
       "create_user                      54878\n",
       "change_contact_host_dates        52517\n",
       "user_profile_content_update      50434\n",
       "user_reviews                     49665\n",
       "p5                               48167\n",
       "login                            38378\n",
       "your_trips                       38195\n",
       "p1                               37976\n",
       "notifications                    37355\n",
       "profile_verifications            33434\n",
       "reservations                     32481\n",
       "Name: action_detail, dtype: int64"
      ]
     },
     "execution_count": 5,
     "metadata": {},
     "output_type": "execute_result"
    }
   ],
   "source": [
    "session.action_detail.value_counts()[:30]"
   ]
  },
  {
   "cell_type": "code",
   "execution_count": 6,
   "metadata": {
    "collapsed": false
   },
   "outputs": [
    {
     "data": {
      "text/plain": [
       "user_id            34496\n",
       "action             79626\n",
       "action_type      1126204\n",
       "action_detail    1126204\n",
       "device_type            0\n",
       "secs_elapsed      136031\n",
       "dtype: int64"
      ]
     },
     "execution_count": 6,
     "metadata": {},
     "output_type": "execute_result"
    }
   ],
   "source": [
    "session.isnull().sum()"
   ]
  },
  {
   "cell_type": "code",
   "execution_count": 7,
   "metadata": {
    "collapsed": true
   },
   "outputs": [],
   "source": [
    "user_session_detail = pd.pivot_table(session, index='user_id', columns='action_detail', values='secs_elapsed', aggfunc=np.sum)"
   ]
  },
  {
   "cell_type": "code",
   "execution_count": 8,
   "metadata": {
    "collapsed": true
   },
   "outputs": [],
   "source": [
    "user_devices = pd.pivot_table(session, index='user_id', columns='device_type', values='secs_elapsed', aggfunc=np.sum)"
   ]
  },
  {
   "cell_type": "code",
   "execution_count": 9,
   "metadata": {
    "collapsed": true
   },
   "outputs": [],
   "source": [
    "user_session_detail = user_session_detail.reset_index()\n",
    "user_devices = user_devices.reset_index()"
   ]
  },
  {
   "cell_type": "code",
   "execution_count": 10,
   "metadata": {
    "collapsed": false
   },
   "outputs": [
    {
     "data": {
      "text/html": [
       "<div>\n",
       "<table border=\"1\" class=\"dataframe\">\n",
       "  <thead>\n",
       "    <tr style=\"text-align: right;\">\n",
       "      <th>action_detail</th>\n",
       "      <th>user_id</th>\n",
       "      <th>-unknown-</th>\n",
       "      <th>account_notification_settings</th>\n",
       "      <th>account_payment_methods</th>\n",
       "      <th>account_payout_preferences</th>\n",
       "      <th>account_privacy_settings</th>\n",
       "      <th>account_transaction_history</th>\n",
       "      <th>admin_templates</th>\n",
       "      <th>airbnb_picks_wishlists</th>\n",
       "      <th>alteration_field</th>\n",
       "      <th>...</th>\n",
       "      <th>view_resolutions</th>\n",
       "      <th>view_search_results</th>\n",
       "      <th>view_security_checks</th>\n",
       "      <th>view_user_real_names</th>\n",
       "      <th>wishlist</th>\n",
       "      <th>wishlist_content_update</th>\n",
       "      <th>wishlist_note</th>\n",
       "      <th>your_listings</th>\n",
       "      <th>your_reservations</th>\n",
       "      <th>your_trips</th>\n",
       "    </tr>\n",
       "  </thead>\n",
       "  <tbody>\n",
       "    <tr>\n",
       "      <th>0</th>\n",
       "      <td>00023iyk9l</td>\n",
       "      <td>NaN</td>\n",
       "      <td>NaN</td>\n",
       "      <td>NaN</td>\n",
       "      <td>NaN</td>\n",
       "      <td>NaN</td>\n",
       "      <td>NaN</td>\n",
       "      <td>NaN</td>\n",
       "      <td>NaN</td>\n",
       "      <td>NaN</td>\n",
       "      <td>...</td>\n",
       "      <td>NaN</td>\n",
       "      <td>54791.0</td>\n",
       "      <td>NaN</td>\n",
       "      <td>NaN</td>\n",
       "      <td>NaN</td>\n",
       "      <td>3515.0</td>\n",
       "      <td>NaN</td>\n",
       "      <td>NaN</td>\n",
       "      <td>NaN</td>\n",
       "      <td>1466.0</td>\n",
       "    </tr>\n",
       "    <tr>\n",
       "      <th>1</th>\n",
       "      <td>0010k6l0om</td>\n",
       "      <td>123033.0</td>\n",
       "      <td>NaN</td>\n",
       "      <td>NaN</td>\n",
       "      <td>NaN</td>\n",
       "      <td>NaN</td>\n",
       "      <td>NaN</td>\n",
       "      <td>NaN</td>\n",
       "      <td>NaN</td>\n",
       "      <td>NaN</td>\n",
       "      <td>...</td>\n",
       "      <td>NaN</td>\n",
       "      <td>75951.0</td>\n",
       "      <td>NaN</td>\n",
       "      <td>NaN</td>\n",
       "      <td>NaN</td>\n",
       "      <td>135661.0</td>\n",
       "      <td>NaN</td>\n",
       "      <td>NaN</td>\n",
       "      <td>NaN</td>\n",
       "      <td>NaN</td>\n",
       "    </tr>\n",
       "    <tr>\n",
       "      <th>2</th>\n",
       "      <td>001wyh0pz8</td>\n",
       "      <td>22181.0</td>\n",
       "      <td>NaN</td>\n",
       "      <td>NaN</td>\n",
       "      <td>NaN</td>\n",
       "      <td>NaN</td>\n",
       "      <td>NaN</td>\n",
       "      <td>NaN</td>\n",
       "      <td>NaN</td>\n",
       "      <td>NaN</td>\n",
       "      <td>...</td>\n",
       "      <td>NaN</td>\n",
       "      <td>158796.0</td>\n",
       "      <td>NaN</td>\n",
       "      <td>NaN</td>\n",
       "      <td>NaN</td>\n",
       "      <td>NaN</td>\n",
       "      <td>NaN</td>\n",
       "      <td>NaN</td>\n",
       "      <td>NaN</td>\n",
       "      <td>NaN</td>\n",
       "    </tr>\n",
       "    <tr>\n",
       "      <th>3</th>\n",
       "      <td>0028jgx1x1</td>\n",
       "      <td>489.0</td>\n",
       "      <td>NaN</td>\n",
       "      <td>NaN</td>\n",
       "      <td>NaN</td>\n",
       "      <td>NaN</td>\n",
       "      <td>NaN</td>\n",
       "      <td>NaN</td>\n",
       "      <td>NaN</td>\n",
       "      <td>NaN</td>\n",
       "      <td>...</td>\n",
       "      <td>NaN</td>\n",
       "      <td>199802.0</td>\n",
       "      <td>NaN</td>\n",
       "      <td>NaN</td>\n",
       "      <td>NaN</td>\n",
       "      <td>NaN</td>\n",
       "      <td>NaN</td>\n",
       "      <td>NaN</td>\n",
       "      <td>NaN</td>\n",
       "      <td>NaN</td>\n",
       "    </tr>\n",
       "    <tr>\n",
       "      <th>4</th>\n",
       "      <td>002qnbzfs5</td>\n",
       "      <td>738169.0</td>\n",
       "      <td>NaN</td>\n",
       "      <td>NaN</td>\n",
       "      <td>NaN</td>\n",
       "      <td>NaN</td>\n",
       "      <td>NaN</td>\n",
       "      <td>NaN</td>\n",
       "      <td>NaN</td>\n",
       "      <td>NaN</td>\n",
       "      <td>...</td>\n",
       "      <td>NaN</td>\n",
       "      <td>493417.0</td>\n",
       "      <td>NaN</td>\n",
       "      <td>NaN</td>\n",
       "      <td>NaN</td>\n",
       "      <td>NaN</td>\n",
       "      <td>NaN</td>\n",
       "      <td>NaN</td>\n",
       "      <td>NaN</td>\n",
       "      <td>NaN</td>\n",
       "    </tr>\n",
       "  </tbody>\n",
       "</table>\n",
       "<p>5 rows × 156 columns</p>\n",
       "</div>"
      ],
      "text/plain": [
       "action_detail     user_id  -unknown-  account_notification_settings  \\\n",
       "0              00023iyk9l        NaN                            NaN   \n",
       "1              0010k6l0om   123033.0                            NaN   \n",
       "2              001wyh0pz8    22181.0                            NaN   \n",
       "3              0028jgx1x1      489.0                            NaN   \n",
       "4              002qnbzfs5   738169.0                            NaN   \n",
       "\n",
       "action_detail  account_payment_methods  account_payout_preferences  \\\n",
       "0                                  NaN                         NaN   \n",
       "1                                  NaN                         NaN   \n",
       "2                                  NaN                         NaN   \n",
       "3                                  NaN                         NaN   \n",
       "4                                  NaN                         NaN   \n",
       "\n",
       "action_detail  account_privacy_settings  account_transaction_history  \\\n",
       "0                                   NaN                          NaN   \n",
       "1                                   NaN                          NaN   \n",
       "2                                   NaN                          NaN   \n",
       "3                                   NaN                          NaN   \n",
       "4                                   NaN                          NaN   \n",
       "\n",
       "action_detail  admin_templates  airbnb_picks_wishlists  alteration_field  \\\n",
       "0                          NaN                     NaN               NaN   \n",
       "1                          NaN                     NaN               NaN   \n",
       "2                          NaN                     NaN               NaN   \n",
       "3                          NaN                     NaN               NaN   \n",
       "4                          NaN                     NaN               NaN   \n",
       "\n",
       "action_detail     ...      view_resolutions  view_search_results  \\\n",
       "0                 ...                   NaN              54791.0   \n",
       "1                 ...                   NaN              75951.0   \n",
       "2                 ...                   NaN             158796.0   \n",
       "3                 ...                   NaN             199802.0   \n",
       "4                 ...                   NaN             493417.0   \n",
       "\n",
       "action_detail  view_security_checks  view_user_real_names  wishlist  \\\n",
       "0                               NaN                   NaN       NaN   \n",
       "1                               NaN                   NaN       NaN   \n",
       "2                               NaN                   NaN       NaN   \n",
       "3                               NaN                   NaN       NaN   \n",
       "4                               NaN                   NaN       NaN   \n",
       "\n",
       "action_detail  wishlist_content_update  wishlist_note  your_listings  \\\n",
       "0                               3515.0            NaN            NaN   \n",
       "1                             135661.0            NaN            NaN   \n",
       "2                                  NaN            NaN            NaN   \n",
       "3                                  NaN            NaN            NaN   \n",
       "4                                  NaN            NaN            NaN   \n",
       "\n",
       "action_detail  your_reservations  your_trips  \n",
       "0                            NaN      1466.0  \n",
       "1                            NaN         NaN  \n",
       "2                            NaN         NaN  \n",
       "3                            NaN         NaN  \n",
       "4                            NaN         NaN  \n",
       "\n",
       "[5 rows x 156 columns]"
      ]
     },
     "execution_count": 10,
     "metadata": {},
     "output_type": "execute_result"
    }
   ],
   "source": [
    "user_session_detail.head()"
   ]
  },
  {
   "cell_type": "code",
   "execution_count": 11,
   "metadata": {
    "collapsed": false
   },
   "outputs": [
    {
     "data": {
      "text/plain": [
       "['user_id',\n",
       " '-unknown-',\n",
       " 'account_notification_settings',\n",
       " 'account_payment_methods',\n",
       " 'account_payout_preferences',\n",
       " 'account_privacy_settings',\n",
       " 'account_transaction_history',\n",
       " 'admin_templates',\n",
       " 'airbnb_picks_wishlists',\n",
       " 'alteration_field',\n",
       " 'alteration_request',\n",
       " 'apply_coupon',\n",
       " 'apply_coupon_click',\n",
       " 'apply_coupon_click_success',\n",
       " 'apply_coupon_error',\n",
       " 'at_checkpoint',\n",
       " 'book_it',\n",
       " 'booking',\n",
       " 'calculate_worth',\n",
       " 'cancellation_policies',\n",
       " 'cancellation_policy',\n",
       " 'cancellation_policy_click',\n",
       " 'change_availability',\n",
       " 'change_contact_host_dates',\n",
       " 'change_or_alter',\n",
       " 'change_password',\n",
       " 'change_trip_characteristics',\n",
       " 'click_about_host',\n",
       " 'click_amenities',\n",
       " 'click_reviews',\n",
       " 'complete_booking',\n",
       " 'confirm_email',\n",
       " 'confirm_email_link',\n",
       " 'contact_host',\n",
       " 'coupon_code_click',\n",
       " 'coupon_field_focus',\n",
       " 'create_alteration_request',\n",
       " 'create_listing',\n",
       " 'create_payment_instrument',\n",
       " 'create_phone_numbers',\n",
       " 'create_user',\n",
       " 'dashboard',\n",
       " 'deactivate_user_account',\n",
       " 'delete_listing',\n",
       " 'delete_listing_description',\n",
       " 'delete_payment_instrument',\n",
       " 'delete_phone_numbers',\n",
       " 'edit_profile',\n",
       " 'email_wishlist',\n",
       " 'email_wishlist_button',\n",
       " 'forgot_password',\n",
       " 'friends_wishlists',\n",
       " 'guest_cancellation',\n",
       " 'guest_itinerary',\n",
       " 'guest_receipt',\n",
       " 'header_userpic',\n",
       " 'homepage',\n",
       " 'host_guarantee',\n",
       " 'host_home',\n",
       " 'host_refund_guest',\n",
       " 'host_respond',\n",
       " 'host_respond_page',\n",
       " 'host_standard_suspension',\n",
       " 'instant_book',\n",
       " 'list_your_space',\n",
       " 'listing_descriptions',\n",
       " 'listing_recommendations',\n",
       " 'listing_reviews',\n",
       " 'listing_reviews_page',\n",
       " 'login',\n",
       " 'login_modal',\n",
       " 'login_page',\n",
       " 'lookup_message_thread',\n",
       " 'manage_listing',\n",
       " 'message_inbox',\n",
       " 'message_post',\n",
       " 'message_thread',\n",
       " 'message_to_host_change',\n",
       " 'message_to_host_focus',\n",
       " 'modify_reservations',\n",
       " 'modify_users',\n",
       " 'move_map',\n",
       " 'notifications',\n",
       " 'oauth_login',\n",
       " 'oauth_response',\n",
       " 'p1',\n",
       " 'p3',\n",
       " 'p4',\n",
       " 'p4_refund_policy_terms',\n",
       " 'p4_terms',\n",
       " 'p5',\n",
       " 'payment_instruments',\n",
       " 'pending',\n",
       " 'phone_numbers',\n",
       " 'phone_verification_success',\n",
       " 'photos',\n",
       " 'place_worth',\n",
       " 'popular_wishlists',\n",
       " 'post_checkout_action',\n",
       " 'previous_trips',\n",
       " 'profile_references',\n",
       " 'profile_reviews',\n",
       " 'profile_verifications',\n",
       " 'read_policy_click',\n",
       " 'remove_dashboard_alert',\n",
       " 'request_new_confirm_email',\n",
       " 'request_to_book',\n",
       " 'reservations',\n",
       " 'respond_to_alteration_request',\n",
       " 'send_message',\n",
       " 'set_default_payment_instrument',\n",
       " 'set_password',\n",
       " 'set_password_page',\n",
       " 'share',\n",
       " 'signup',\n",
       " 'signup_login_page',\n",
       " 'signup_modal',\n",
       " 'similar_listings',\n",
       " 'special_offer_field',\n",
       " 'terms_and_privacy',\n",
       " 'toggle_archived_thread',\n",
       " 'toggle_starred_thread',\n",
       " 'tos_2014',\n",
       " 'translate_listing_reviews',\n",
       " 'translations',\n",
       " 'trip_availability',\n",
       " 'unavailable_dates',\n",
       " 'update_listing',\n",
       " 'update_listing_description',\n",
       " 'update_user',\n",
       " 'update_user_profile',\n",
       " 'user_friend_recommendations',\n",
       " 'user_languages',\n",
       " 'user_listings',\n",
       " 'user_profile',\n",
       " 'user_profile_content_update',\n",
       " 'user_reviews',\n",
       " 'user_social_connections',\n",
       " 'user_tax_forms',\n",
       " 'user_wishlists',\n",
       " 'view_ghosting_reasons',\n",
       " 'view_ghostings',\n",
       " 'view_identity_verifications',\n",
       " 'view_listing',\n",
       " 'view_locations',\n",
       " 'view_reservations',\n",
       " 'view_resolutions',\n",
       " 'view_search_results',\n",
       " 'view_security_checks',\n",
       " 'view_user_real_names',\n",
       " 'wishlist',\n",
       " 'wishlist_content_update',\n",
       " 'wishlist_note',\n",
       " 'your_listings',\n",
       " 'your_reservations',\n",
       " 'your_trips']"
      ]
     },
     "execution_count": 11,
     "metadata": {},
     "output_type": "execute_result"
    }
   ],
   "source": [
    "user_session_detail.columns.tolist()"
   ]
  },
  {
   "cell_type": "code",
   "execution_count": 14,
   "metadata": {
    "collapsed": false
   },
   "outputs": [],
   "source": [
    "user_session_detail = user_session_detail.fillna(0.)\n",
    "user_devices = user_devices.fillna(0.)"
   ]
  },
  {
   "cell_type": "code",
   "execution_count": 22,
   "metadata": {
    "collapsed": false
   },
   "outputs": [
    {
     "data": {
      "text/plain": [
       "(135478,)"
      ]
     },
     "execution_count": 22,
     "metadata": {},
     "output_type": "execute_result"
    }
   ],
   "source": [
    "user_session_detail.ix[:,1:].sum(axis=1).shape"
   ]
  },
  {
   "cell_type": "code",
   "execution_count": 23,
   "metadata": {
    "collapsed": true
   },
   "outputs": [],
   "source": [
    "user_session_detail['total_time'] = user_session_detail.ix[:,1:].sum(axis=1)"
   ]
  },
  {
   "cell_type": "code",
   "execution_count": 28,
   "metadata": {
    "collapsed": false
   },
   "outputs": [
    {
     "data": {
      "text/plain": [
       "(1498, 157)"
      ]
     },
     "execution_count": 28,
     "metadata": {},
     "output_type": "execute_result"
    }
   ],
   "source": [
    "user_session_detail[user_session_detail['total_time'] == 0].shape"
   ]
  },
  {
   "cell_type": "code",
   "execution_count": 29,
   "metadata": {
    "collapsed": true
   },
   "outputs": [],
   "source": [
    "user_session_type = pd.pivot_table(session, index='user_id', columns='action_type', values='secs_elapsed', aggfunc=np.sum)\n",
    "user_session_summary = pd.pivot_table(session, index='user_id', columns='action', values='secs_elapsed', aggfunc=np.sum)"
   ]
  },
  {
   "cell_type": "code",
   "execution_count": 30,
   "metadata": {
    "collapsed": true
   },
   "outputs": [],
   "source": [
    "user_session_type = user_session_type.reset_index()\n",
    "user_session_summary = user_session_summary.reset_index()\n",
    "user_session_type = user_session_type.fillna(0.)\n",
    "user_session_summary = user_session_summary.fillna(0.)"
   ]
  },
  {
   "cell_type": "code",
   "execution_count": 33,
   "metadata": {
    "collapsed": false
   },
   "outputs": [],
   "source": [
    "user_session_type['total_time'] = user_session_type.ix[:,1:].sum(axis=1)\n",
    "user_session_summary['total_time'] = user_session_summary.ix[:,1:].sum(axis=1)"
   ]
  },
  {
   "cell_type": "code",
   "execution_count": 37,
   "metadata": {
    "collapsed": false
   },
   "outputs": [
    {
     "data": {
      "text/plain": [
       "(1498, 12)"
      ]
     },
     "execution_count": 37,
     "metadata": {},
     "output_type": "execute_result"
    }
   ],
   "source": [
    "user_session_type[user_session_type['total_time']==0].shape"
   ]
  },
  {
   "cell_type": "code",
   "execution_count": 36,
   "metadata": {
    "collapsed": false
   },
   "outputs": [
    {
     "data": {
      "text/plain": [
       "(1186, 361)"
      ]
     },
     "execution_count": 36,
     "metadata": {},
     "output_type": "execute_result"
    }
   ],
   "source": [
    "user_session_summary[user_session_summary['total_time']==0].shape"
   ]
  },
  {
   "cell_type": "code",
   "execution_count": 40,
   "metadata": {
    "collapsed": false
   },
   "outputs": [
    {
     "data": {
      "text/plain": [
       "count    1.354780e+05\n",
       "mean     1.409445e+06\n",
       "std      1.803187e+06\n",
       "min      0.000000e+00\n",
       "25%      2.398285e+05\n",
       "50%      7.895830e+05\n",
       "75%      1.896721e+06\n",
       "max      3.784269e+07\n",
       "Name: total_time, dtype: float64"
      ]
     },
     "execution_count": 40,
     "metadata": {},
     "output_type": "execute_result"
    }
   ],
   "source": [
    "user_session_detail['total_time'].describe()"
   ]
  },
  {
   "cell_type": "code",
   "execution_count": 41,
   "metadata": {
    "collapsed": false
   },
   "outputs": [
    {
     "data": {
      "text/plain": [
       "count    1.354780e+05\n",
       "mean     1.409445e+06\n",
       "std      1.803187e+06\n",
       "min      0.000000e+00\n",
       "25%      2.398285e+05\n",
       "50%      7.895830e+05\n",
       "75%      1.896721e+06\n",
       "max      3.784269e+07\n",
       "Name: total_time, dtype: float64"
      ]
     },
     "execution_count": 41,
     "metadata": {},
     "output_type": "execute_result"
    }
   ],
   "source": [
    "user_session_type['total_time'].describe()"
   ]
  },
  {
   "cell_type": "code",
   "execution_count": 42,
   "metadata": {
    "collapsed": false
   },
   "outputs": [
    {
     "data": {
      "text/plain": [
       "count    1.350430e+05\n",
       "mean     1.442588e+06\n",
       "std      1.836646e+06\n",
       "min      0.000000e+00\n",
       "25%      2.498105e+05\n",
       "50%      8.194350e+05\n",
       "75%      1.938298e+06\n",
       "max      2.927072e+07\n",
       "Name: total_time, dtype: float64"
      ]
     },
     "execution_count": 42,
     "metadata": {},
     "output_type": "execute_result"
    }
   ],
   "source": [
    "user_session_summary['total_time'].describe()"
   ]
  },
  {
   "cell_type": "code",
   "execution_count": 43,
   "metadata": {
    "collapsed": false
   },
   "outputs": [
    {
     "data": {
      "text/plain": [
       "['user_id',\n",
       " '10',\n",
       " '11',\n",
       " '12',\n",
       " '15',\n",
       " 'about_us',\n",
       " 'accept_decline',\n",
       " 'account',\n",
       " 'acculynk_bin_check_failed',\n",
       " 'acculynk_bin_check_success',\n",
       " 'acculynk_load_pin_pad',\n",
       " 'acculynk_pin_pad_error',\n",
       " 'acculynk_pin_pad_inactive',\n",
       " 'acculynk_pin_pad_success',\n",
       " 'acculynk_session_obtained',\n",
       " 'active',\n",
       " 'add_business_address_colorbox',\n",
       " 'add_guest_colorbox',\n",
       " 'add_guests',\n",
       " 'add_note',\n",
       " 'agree_terms_check',\n",
       " 'agree_terms_uncheck',\n",
       " 'airbnb_picks',\n",
       " 'airbrb',\n",
       " 'ajax_check_dates',\n",
       " 'ajax_get_referrals_amt',\n",
       " 'ajax_get_results',\n",
       " 'ajax_google_translate',\n",
       " 'ajax_google_translate_description',\n",
       " 'ajax_google_translate_reviews',\n",
       " 'ajax_image_upload',\n",
       " 'ajax_ldp',\n",
       " 'ajax_lwlb_contact',\n",
       " 'ajax_payout_edit',\n",
       " 'ajax_payout_options_by_country',\n",
       " 'ajax_payout_split_edit',\n",
       " 'ajax_photo_widget',\n",
       " 'ajax_photo_widget_form_iframe',\n",
       " 'ajax_price_and_availability',\n",
       " 'ajax_referral_banner_experiment_type',\n",
       " 'ajax_referral_banner_type',\n",
       " 'ajax_refresh_subtotal',\n",
       " 'ajax_send_message',\n",
       " 'ajax_special_offer_dates_available',\n",
       " 'ajax_statsd',\n",
       " 'ajax_worth',\n",
       " 'apply',\n",
       " 'apply_code',\n",
       " 'apply_coupon_click',\n",
       " 'apply_coupon_click_success',\n",
       " 'apply_coupon_error',\n",
       " 'apply_coupon_error_type',\n",
       " 'apply_reservation',\n",
       " 'approve',\n",
       " 'ask_question',\n",
       " 'at_checkpoint',\n",
       " 'authenticate',\n",
       " 'authorize',\n",
       " 'available',\n",
       " 'badge',\n",
       " 'become_user',\n",
       " 'book',\n",
       " 'booking',\n",
       " 'braintree_client_token',\n",
       " 'business_travel',\n",
       " 'calendar_tab_inner2',\n",
       " 'callback',\n",
       " 'campaigns',\n",
       " 'cancel',\n",
       " 'cancellation_policies',\n",
       " 'cancellation_policy_click',\n",
       " 'change',\n",
       " 'change_availability',\n",
       " 'change_currency',\n",
       " 'change_default_payout',\n",
       " 'change_password',\n",
       " 'check',\n",
       " 'city_count',\n",
       " 'clear_reservation',\n",
       " 'click',\n",
       " 'clickthrough',\n",
       " 'collections',\n",
       " 'complete',\n",
       " 'complete_redirect',\n",
       " 'complete_status',\n",
       " 'concierge',\n",
       " 'confirm_email',\n",
       " 'confirmation',\n",
       " 'connect',\n",
       " 'contact_new',\n",
       " 'countries',\n",
       " 'country_options',\n",
       " 'coupon_code_click',\n",
       " 'coupon_field_focus',\n",
       " 'create',\n",
       " 'create_ach',\n",
       " 'create_airbnb',\n",
       " 'create_multiple',\n",
       " 'create_paypal',\n",
       " 'currencies',\n",
       " 'custom_recommended_destinations',\n",
       " 'dashboard',\n",
       " 'deactivate',\n",
       " 'deactivated',\n",
       " 'deauthorize',\n",
       " 'decision_tree',\n",
       " 'delete',\n",
       " 'department',\n",
       " 'departments',\n",
       " 'desks',\n",
       " 'destroy',\n",
       " 'detect_fb_session',\n",
       " 'disaster_action',\n",
       " 'domains',\n",
       " 'edit',\n",
       " 'edit_verification',\n",
       " 'email_by_key',\n",
       " 'email_itinerary_colorbox',\n",
       " 'email_share',\n",
       " 'email_wishlist',\n",
       " 'endpoint_error',\n",
       " 'envoy_bank_details_redirect',\n",
       " 'envoy_form',\n",
       " 'events',\n",
       " 'facebook_auto_login',\n",
       " 'faq',\n",
       " 'faq_category',\n",
       " 'faq_experiment_ids',\n",
       " 'feed',\n",
       " 'forgot_password',\n",
       " 'founders',\n",
       " 'friend_listing',\n",
       " 'friends',\n",
       " 'friends_new',\n",
       " 'glob',\n",
       " 'google_importer',\n",
       " 'guarantee',\n",
       " 'guest_billing_receipt',\n",
       " 'guest_booked_elsewhere',\n",
       " 'handle_vanity_url',\n",
       " 'hard_fallback_submit',\n",
       " 'has_profile_pic',\n",
       " 'header_userpic',\n",
       " 'home_safety_landing',\n",
       " 'home_safety_terms',\n",
       " 'hospitality',\n",
       " 'hospitality_standards',\n",
       " 'host_2013',\n",
       " 'host_cancel',\n",
       " 'host_summary',\n",
       " 'hosting_social_proof',\n",
       " 'how_it_works',\n",
       " 'identity',\n",
       " 'image_order',\n",
       " 'impressions',\n",
       " 'index',\n",
       " 'invalid_action',\n",
       " 'issue',\n",
       " 'itinerary',\n",
       " 'jumio',\n",
       " 'jumio_redirect',\n",
       " 'jumio_token',\n",
       " 'kba',\n",
       " 'kba_update',\n",
       " 'languages_multiselect',\n",
       " 'life',\n",
       " 'listing',\n",
       " 'listings',\n",
       " 'load_more',\n",
       " 'locale_from_host',\n",
       " 'localization_settings',\n",
       " 'localized',\n",
       " 'locations',\n",
       " 'login',\n",
       " 'login_modal',\n",
       " 'lookup',\n",
       " 'manage_listing',\n",
       " 'maybe_information',\n",
       " 'media_resources',\n",
       " 'message',\n",
       " 'message_to_host_change',\n",
       " 'message_to_host_focus',\n",
       " 'mobile_landing_page',\n",
       " 'mobile_oauth_callback',\n",
       " 'multi',\n",
       " 'multi_message',\n",
       " 'multi_message_attributes',\n",
       " 'my',\n",
       " 'my_listings',\n",
       " 'my_reservations',\n",
       " 'new',\n",
       " 'new_host',\n",
       " 'new_session',\n",
       " 'notifications',\n",
       " 'nyan',\n",
       " 'office_location',\n",
       " 'onenight',\n",
       " 'open_graph_setting',\n",
       " 'open_hard_fallback_modal',\n",
       " 'other_hosting_reviews',\n",
       " 'other_hosting_reviews_first',\n",
       " 'overview',\n",
       " 'p4_refund_policy_terms',\n",
       " 'p4_terms',\n",
       " 'patch',\n",
       " 'pay',\n",
       " 'payment_instruments',\n",
       " 'payment_methods',\n",
       " 'payoneer_account_redirect',\n",
       " 'payoneer_signup_complete',\n",
       " 'payout_delete',\n",
       " 'payout_preferences',\n",
       " 'payout_update',\n",
       " 'pending',\n",
       " 'pending_tickets',\n",
       " 'personalize',\n",
       " 'phone_number_widget',\n",
       " 'phone_verification',\n",
       " 'phone_verification_call_taking_too_long',\n",
       " 'phone_verification_error',\n",
       " 'phone_verification_modal',\n",
       " 'phone_verification_number_submitted_for_call',\n",
       " 'phone_verification_number_submitted_for_sms',\n",
       " 'phone_verification_number_sucessfully_submitted',\n",
       " 'phone_verification_phone_number_removed',\n",
       " 'phone_verification_success',\n",
       " 'photography',\n",
       " 'photography_update',\n",
       " 'place_worth',\n",
       " 'plaxo_cb',\n",
       " 'popular',\n",
       " 'popular_listing',\n",
       " 'populate_from_facebook',\n",
       " 'populate_help_dropdown',\n",
       " 'position',\n",
       " 'preapproval',\n",
       " 'press_content',\n",
       " 'press_news',\n",
       " 'press_release',\n",
       " 'pricing',\n",
       " 'print_confirmation',\n",
       " 'privacy',\n",
       " 'profile_pic',\n",
       " 'push_notification_callback',\n",
       " 'qt2',\n",
       " 'qt_reply_v2',\n",
       " 'qt_with',\n",
       " 'questions',\n",
       " 'rate',\n",
       " 'reactivate',\n",
       " 'read_policy_click',\n",
       " 'receipt',\n",
       " 'recent_reservations',\n",
       " 'recommend',\n",
       " 'recommendation_page',\n",
       " 'recommendations',\n",
       " 'recommended_listings',\n",
       " 'redirect',\n",
       " 'references',\n",
       " 'referrer_status',\n",
       " 'refund_guest_cancellation',\n",
       " 'relationship',\n",
       " 'remove_dashboard_alert',\n",
       " 'rentals',\n",
       " 'report',\n",
       " 'reputation',\n",
       " 'request_new_confirm_email',\n",
       " 'request_photography',\n",
       " 'requested',\n",
       " 'requirements',\n",
       " 'reservation',\n",
       " 'reset_calendar',\n",
       " 'respond',\n",
       " 'rest-of-world',\n",
       " 'revert_to_admin',\n",
       " 'review_page',\n",
       " 'reviews',\n",
       " 'reviews_new',\n",
       " 'salute',\n",
       " 'sandy',\n",
       " 'satisfy',\n",
       " 'search',\n",
       " 'search_results',\n",
       " 'set_default',\n",
       " 'set_minimum_payout_amount',\n",
       " 'set_password',\n",
       " 'set_user',\n",
       " 'settings',\n",
       " 'show',\n",
       " 'show_code',\n",
       " 'show_personalize',\n",
       " 'signature',\n",
       " 'signed_out_modal',\n",
       " 'signup_login',\n",
       " 'signup_modal',\n",
       " 'signup_weibo',\n",
       " 'signup_weibo_referral',\n",
       " 'similar_listings',\n",
       " 'similar_listings_v2',\n",
       " 'sldf',\n",
       " 'slideshow',\n",
       " 'social',\n",
       " 'social-media',\n",
       " 'social_connections',\n",
       " 'south-america',\n",
       " 'southern-europe',\n",
       " 'special_offer',\n",
       " 'spoken_languages',\n",
       " 'status',\n",
       " 'stpcv',\n",
       " 'sublets',\n",
       " 'submit_contact',\n",
       " 'support_phone_numbers',\n",
       " 'supported',\n",
       " 'sync',\n",
       " 'tell_a_friend',\n",
       " 'terms',\n",
       " 'terms_and_conditions',\n",
       " 'this_hosting_reviews',\n",
       " 'this_hosting_reviews_3000',\n",
       " 'toggle_archived_thread',\n",
       " 'toggle_availability',\n",
       " 'toggle_starred_thread',\n",
       " 'top_destinations',\n",
       " 'tos_2014',\n",
       " 'tos_confirm',\n",
       " 'track_activity',\n",
       " 'track_page_view',\n",
       " 'transaction_history',\n",
       " 'transaction_history_paginated',\n",
       " 'travel',\n",
       " 'travel_plans_current',\n",
       " 'travel_plans_previous',\n",
       " 'trust',\n",
       " 'unavailabilities',\n",
       " 'united-states',\n",
       " 'unread',\n",
       " 'unsubscribe',\n",
       " 'update',\n",
       " 'update_cached',\n",
       " 'update_country_of_residence',\n",
       " 'update_friends_display',\n",
       " 'update_hide_from_search_engines',\n",
       " 'update_message',\n",
       " 'update_notifications',\n",
       " 'update_reservation_requirements',\n",
       " 'upload',\n",
       " 'uptodate',\n",
       " 'use_mobile_site',\n",
       " 'verify',\n",
       " 'view',\n",
       " 'views',\n",
       " 'views_campaign',\n",
       " 'views_campaign_rules',\n",
       " 'webcam_upload',\n",
       " 'weibo_signup_referral_finish',\n",
       " 'why_host',\n",
       " 'widget',\n",
       " 'wishlists',\n",
       " 'zendesk_login_jwt',\n",
       " 'total_time']"
      ]
     },
     "execution_count": 43,
     "metadata": {},
     "output_type": "execute_result"
    }
   ],
   "source": [
    "user_session_summary.columns.tolist()"
   ]
  },
  {
   "cell_type": "code",
   "execution_count": null,
   "metadata": {
    "collapsed": true
   },
   "outputs": [],
   "source": []
  }
 ],
 "metadata": {
  "kernelspec": {
   "display_name": "Python 2",
   "language": "python",
   "name": "python2"
  },
  "language_info": {
   "codemirror_mode": {
    "name": "ipython",
    "version": 2
   },
   "file_extension": ".py",
   "mimetype": "text/x-python",
   "name": "python",
   "nbconvert_exporter": "python",
   "pygments_lexer": "ipython2",
   "version": "2.7.10"
  }
 },
 "nbformat": 4,
 "nbformat_minor": 0
}
