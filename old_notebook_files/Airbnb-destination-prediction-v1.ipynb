{
 "cells": [
  {
   "cell_type": "code",
   "execution_count": 2,
   "metadata": {
    "collapsed": true
   },
   "outputs": [],
   "source": [
    "import pandas as pd\n",
    "import numpy as np"
   ]
  },
  {
   "cell_type": "code",
   "execution_count": 3,
   "metadata": {
    "collapsed": false
   },
   "outputs": [],
   "source": [
    "# Load the data into DataFrames\n",
    "train_users = pd.read_csv('./data/train_users_2.csv')\n",
    "test_users = pd.read_csv('./data/test_users.csv')"
   ]
  },
  {
   "cell_type": "code",
   "execution_count": 4,
   "metadata": {
    "collapsed": false
   },
   "outputs": [
    {
     "data": {
      "text/plain": [
       "(213451, 62096, (213451, 16), (62096, 15))"
      ]
     },
     "execution_count": 4,
     "metadata": {},
     "output_type": "execute_result"
    }
   ],
   "source": [
    "# Inspect data \n",
    "len(train_users.id.unique()), len(test_users.id.unique()), train_users.shape, test_users.shape"
   ]
  },
  {
   "cell_type": "code",
   "execution_count": 5,
   "metadata": {
    "collapsed": false
   },
   "outputs": [
    {
     "data": {
      "text/plain": [
       "id                              0\n",
       "date_account_created            0\n",
       "timestamp_first_active          0\n",
       "date_first_booking         124543\n",
       "gender                          0\n",
       "age                         87990\n",
       "signup_method                   0\n",
       "signup_flow                     0\n",
       "language                        0\n",
       "affiliate_channel               0\n",
       "affiliate_provider              0\n",
       "first_affiliate_tracked      6065\n",
       "signup_app                      0\n",
       "first_device_type               0\n",
       "first_browser                   0\n",
       "country_destination             0\n",
       "dtype: int64"
      ]
     },
     "execution_count": 5,
     "metadata": {},
     "output_type": "execute_result"
    }
   ],
   "source": [
    "train_users.isnull().sum()"
   ]
  },
  {
   "cell_type": "code",
   "execution_count": 6,
   "metadata": {
    "collapsed": false
   },
   "outputs": [
    {
     "data": {
      "text/plain": [
       "id                             0\n",
       "date_account_created           0\n",
       "timestamp_first_active         0\n",
       "date_first_booking         62096\n",
       "gender                         0\n",
       "age                        28876\n",
       "signup_method                  0\n",
       "signup_flow                    0\n",
       "language                       0\n",
       "affiliate_channel              0\n",
       "affiliate_provider             0\n",
       "first_affiliate_tracked       20\n",
       "signup_app                     0\n",
       "first_device_type              0\n",
       "first_browser                  0\n",
       "dtype: int64"
      ]
     },
     "execution_count": 6,
     "metadata": {},
     "output_type": "execute_result"
    }
   ],
   "source": [
    "test_users.isnull().sum()"
   ]
  },
  {
   "cell_type": "code",
   "execution_count": 7,
   "metadata": {
    "collapsed": false
   },
   "outputs": [
    {
     "data": {
      "text/html": [
       "<div>\n",
       "<table border=\"1\" class=\"dataframe\">\n",
       "  <thead>\n",
       "    <tr style=\"text-align: right;\">\n",
       "      <th></th>\n",
       "      <th>id</th>\n",
       "      <th>date_account_created</th>\n",
       "      <th>timestamp_first_active</th>\n",
       "      <th>date_first_booking</th>\n",
       "      <th>gender</th>\n",
       "      <th>age</th>\n",
       "      <th>signup_method</th>\n",
       "      <th>signup_flow</th>\n",
       "      <th>language</th>\n",
       "      <th>affiliate_channel</th>\n",
       "      <th>affiliate_provider</th>\n",
       "      <th>first_affiliate_tracked</th>\n",
       "      <th>signup_app</th>\n",
       "      <th>first_device_type</th>\n",
       "      <th>first_browser</th>\n",
       "      <th>country_destination</th>\n",
       "    </tr>\n",
       "  </thead>\n",
       "  <tbody>\n",
       "    <tr>\n",
       "      <th>0</th>\n",
       "      <td>gxn3p5htnn</td>\n",
       "      <td>2010-06-28</td>\n",
       "      <td>20090319043255</td>\n",
       "      <td>NaN</td>\n",
       "      <td>-unknown-</td>\n",
       "      <td>NaN</td>\n",
       "      <td>facebook</td>\n",
       "      <td>0</td>\n",
       "      <td>en</td>\n",
       "      <td>direct</td>\n",
       "      <td>direct</td>\n",
       "      <td>untracked</td>\n",
       "      <td>Web</td>\n",
       "      <td>Mac Desktop</td>\n",
       "      <td>Chrome</td>\n",
       "      <td>NDF</td>\n",
       "    </tr>\n",
       "    <tr>\n",
       "      <th>1</th>\n",
       "      <td>820tgsjxq7</td>\n",
       "      <td>2011-05-25</td>\n",
       "      <td>20090523174809</td>\n",
       "      <td>NaN</td>\n",
       "      <td>MALE</td>\n",
       "      <td>38</td>\n",
       "      <td>facebook</td>\n",
       "      <td>0</td>\n",
       "      <td>en</td>\n",
       "      <td>seo</td>\n",
       "      <td>google</td>\n",
       "      <td>untracked</td>\n",
       "      <td>Web</td>\n",
       "      <td>Mac Desktop</td>\n",
       "      <td>Chrome</td>\n",
       "      <td>NDF</td>\n",
       "    </tr>\n",
       "    <tr>\n",
       "      <th>2</th>\n",
       "      <td>4ft3gnwmtx</td>\n",
       "      <td>2010-09-28</td>\n",
       "      <td>20090609231247</td>\n",
       "      <td>2010-08-02</td>\n",
       "      <td>FEMALE</td>\n",
       "      <td>56</td>\n",
       "      <td>basic</td>\n",
       "      <td>3</td>\n",
       "      <td>en</td>\n",
       "      <td>direct</td>\n",
       "      <td>direct</td>\n",
       "      <td>untracked</td>\n",
       "      <td>Web</td>\n",
       "      <td>Windows Desktop</td>\n",
       "      <td>IE</td>\n",
       "      <td>US</td>\n",
       "    </tr>\n",
       "    <tr>\n",
       "      <th>3</th>\n",
       "      <td>bjjt8pjhuk</td>\n",
       "      <td>2011-12-05</td>\n",
       "      <td>20091031060129</td>\n",
       "      <td>2012-09-08</td>\n",
       "      <td>FEMALE</td>\n",
       "      <td>42</td>\n",
       "      <td>facebook</td>\n",
       "      <td>0</td>\n",
       "      <td>en</td>\n",
       "      <td>direct</td>\n",
       "      <td>direct</td>\n",
       "      <td>untracked</td>\n",
       "      <td>Web</td>\n",
       "      <td>Mac Desktop</td>\n",
       "      <td>Firefox</td>\n",
       "      <td>other</td>\n",
       "    </tr>\n",
       "    <tr>\n",
       "      <th>4</th>\n",
       "      <td>87mebub9p4</td>\n",
       "      <td>2010-09-14</td>\n",
       "      <td>20091208061105</td>\n",
       "      <td>2010-02-18</td>\n",
       "      <td>-unknown-</td>\n",
       "      <td>41</td>\n",
       "      <td>basic</td>\n",
       "      <td>0</td>\n",
       "      <td>en</td>\n",
       "      <td>direct</td>\n",
       "      <td>direct</td>\n",
       "      <td>untracked</td>\n",
       "      <td>Web</td>\n",
       "      <td>Mac Desktop</td>\n",
       "      <td>Chrome</td>\n",
       "      <td>US</td>\n",
       "    </tr>\n",
       "  </tbody>\n",
       "</table>\n",
       "</div>"
      ],
      "text/plain": [
       "           id date_account_created  timestamp_first_active date_first_booking  \\\n",
       "0  gxn3p5htnn           2010-06-28          20090319043255                NaN   \n",
       "1  820tgsjxq7           2011-05-25          20090523174809                NaN   \n",
       "2  4ft3gnwmtx           2010-09-28          20090609231247         2010-08-02   \n",
       "3  bjjt8pjhuk           2011-12-05          20091031060129         2012-09-08   \n",
       "4  87mebub9p4           2010-09-14          20091208061105         2010-02-18   \n",
       "\n",
       "      gender  age signup_method  signup_flow language affiliate_channel  \\\n",
       "0  -unknown-  NaN      facebook            0       en            direct   \n",
       "1       MALE   38      facebook            0       en               seo   \n",
       "2     FEMALE   56         basic            3       en            direct   \n",
       "3     FEMALE   42      facebook            0       en            direct   \n",
       "4  -unknown-   41         basic            0       en            direct   \n",
       "\n",
       "  affiliate_provider first_affiliate_tracked signup_app first_device_type  \\\n",
       "0             direct               untracked        Web       Mac Desktop   \n",
       "1             google               untracked        Web       Mac Desktop   \n",
       "2             direct               untracked        Web   Windows Desktop   \n",
       "3             direct               untracked        Web       Mac Desktop   \n",
       "4             direct               untracked        Web       Mac Desktop   \n",
       "\n",
       "  first_browser country_destination  \n",
       "0        Chrome                 NDF  \n",
       "1        Chrome                 NDF  \n",
       "2            IE                  US  \n",
       "3       Firefox               other  \n",
       "4        Chrome                  US  "
      ]
     },
     "execution_count": 7,
     "metadata": {},
     "output_type": "execute_result"
    }
   ],
   "source": [
    "train_users.head()"
   ]
  },
  {
   "cell_type": "code",
   "execution_count": 8,
   "metadata": {
    "collapsed": false
   },
   "outputs": [
    {
     "data": {
      "text/html": [
       "<div>\n",
       "<table border=\"1\" class=\"dataframe\">\n",
       "  <thead>\n",
       "    <tr style=\"text-align: right;\">\n",
       "      <th></th>\n",
       "      <th>affiliate_channel</th>\n",
       "      <th>affiliate_provider</th>\n",
       "      <th>age</th>\n",
       "      <th>country_destination</th>\n",
       "      <th>date_account_created</th>\n",
       "      <th>date_first_booking</th>\n",
       "      <th>first_affiliate_tracked</th>\n",
       "      <th>first_browser</th>\n",
       "      <th>first_device_type</th>\n",
       "      <th>gender</th>\n",
       "      <th>id</th>\n",
       "      <th>language</th>\n",
       "      <th>signup_app</th>\n",
       "      <th>signup_flow</th>\n",
       "      <th>signup_method</th>\n",
       "      <th>timestamp_first_active</th>\n",
       "    </tr>\n",
       "  </thead>\n",
       "  <tbody>\n",
       "    <tr>\n",
       "      <th>0</th>\n",
       "      <td>direct</td>\n",
       "      <td>direct</td>\n",
       "      <td>NaN</td>\n",
       "      <td>NDF</td>\n",
       "      <td>2010-06-28</td>\n",
       "      <td>NaN</td>\n",
       "      <td>untracked</td>\n",
       "      <td>Chrome</td>\n",
       "      <td>Mac Desktop</td>\n",
       "      <td>-unknown-</td>\n",
       "      <td>gxn3p5htnn</td>\n",
       "      <td>en</td>\n",
       "      <td>Web</td>\n",
       "      <td>0</td>\n",
       "      <td>facebook</td>\n",
       "      <td>20090319043255</td>\n",
       "    </tr>\n",
       "    <tr>\n",
       "      <th>1</th>\n",
       "      <td>seo</td>\n",
       "      <td>google</td>\n",
       "      <td>38</td>\n",
       "      <td>NDF</td>\n",
       "      <td>2011-05-25</td>\n",
       "      <td>NaN</td>\n",
       "      <td>untracked</td>\n",
       "      <td>Chrome</td>\n",
       "      <td>Mac Desktop</td>\n",
       "      <td>MALE</td>\n",
       "      <td>820tgsjxq7</td>\n",
       "      <td>en</td>\n",
       "      <td>Web</td>\n",
       "      <td>0</td>\n",
       "      <td>facebook</td>\n",
       "      <td>20090523174809</td>\n",
       "    </tr>\n",
       "    <tr>\n",
       "      <th>2</th>\n",
       "      <td>direct</td>\n",
       "      <td>direct</td>\n",
       "      <td>56</td>\n",
       "      <td>US</td>\n",
       "      <td>2010-09-28</td>\n",
       "      <td>2010-08-02</td>\n",
       "      <td>untracked</td>\n",
       "      <td>IE</td>\n",
       "      <td>Windows Desktop</td>\n",
       "      <td>FEMALE</td>\n",
       "      <td>4ft3gnwmtx</td>\n",
       "      <td>en</td>\n",
       "      <td>Web</td>\n",
       "      <td>3</td>\n",
       "      <td>basic</td>\n",
       "      <td>20090609231247</td>\n",
       "    </tr>\n",
       "    <tr>\n",
       "      <th>3</th>\n",
       "      <td>direct</td>\n",
       "      <td>direct</td>\n",
       "      <td>42</td>\n",
       "      <td>other</td>\n",
       "      <td>2011-12-05</td>\n",
       "      <td>2012-09-08</td>\n",
       "      <td>untracked</td>\n",
       "      <td>Firefox</td>\n",
       "      <td>Mac Desktop</td>\n",
       "      <td>FEMALE</td>\n",
       "      <td>bjjt8pjhuk</td>\n",
       "      <td>en</td>\n",
       "      <td>Web</td>\n",
       "      <td>0</td>\n",
       "      <td>facebook</td>\n",
       "      <td>20091031060129</td>\n",
       "    </tr>\n",
       "    <tr>\n",
       "      <th>4</th>\n",
       "      <td>direct</td>\n",
       "      <td>direct</td>\n",
       "      <td>41</td>\n",
       "      <td>US</td>\n",
       "      <td>2010-09-14</td>\n",
       "      <td>2010-02-18</td>\n",
       "      <td>untracked</td>\n",
       "      <td>Chrome</td>\n",
       "      <td>Mac Desktop</td>\n",
       "      <td>-unknown-</td>\n",
       "      <td>87mebub9p4</td>\n",
       "      <td>en</td>\n",
       "      <td>Web</td>\n",
       "      <td>0</td>\n",
       "      <td>basic</td>\n",
       "      <td>20091208061105</td>\n",
       "    </tr>\n",
       "  </tbody>\n",
       "</table>\n",
       "</div>"
      ],
      "text/plain": [
       "  affiliate_channel affiliate_provider  age country_destination  \\\n",
       "0            direct             direct  NaN                 NDF   \n",
       "1               seo             google   38                 NDF   \n",
       "2            direct             direct   56                  US   \n",
       "3            direct             direct   42               other   \n",
       "4            direct             direct   41                  US   \n",
       "\n",
       "  date_account_created date_first_booking first_affiliate_tracked  \\\n",
       "0           2010-06-28                NaN               untracked   \n",
       "1           2011-05-25                NaN               untracked   \n",
       "2           2010-09-28         2010-08-02               untracked   \n",
       "3           2011-12-05         2012-09-08               untracked   \n",
       "4           2010-09-14         2010-02-18               untracked   \n",
       "\n",
       "  first_browser first_device_type     gender          id language signup_app  \\\n",
       "0        Chrome       Mac Desktop  -unknown-  gxn3p5htnn       en        Web   \n",
       "1        Chrome       Mac Desktop       MALE  820tgsjxq7       en        Web   \n",
       "2            IE   Windows Desktop     FEMALE  4ft3gnwmtx       en        Web   \n",
       "3       Firefox       Mac Desktop     FEMALE  bjjt8pjhuk       en        Web   \n",
       "4        Chrome       Mac Desktop  -unknown-  87mebub9p4       en        Web   \n",
       "\n",
       "   signup_flow signup_method  timestamp_first_active  \n",
       "0            0      facebook          20090319043255  \n",
       "1            0      facebook          20090523174809  \n",
       "2            3         basic          20090609231247  \n",
       "3            0      facebook          20091031060129  \n",
       "4            0         basic          20091208061105  "
      ]
     },
     "execution_count": 8,
     "metadata": {},
     "output_type": "execute_result"
    }
   ],
   "source": [
    "# Merge train and test users\n",
    "users = pd.concat((train_users, test_users), axis=0)\n",
    "users.head()"
   ]
  },
  {
   "cell_type": "code",
   "execution_count": 9,
   "metadata": {
    "collapsed": false
   },
   "outputs": [
    {
     "data": {
      "text/plain": [
       "(Index([u'affiliate_channel', u'affiliate_provider', u'age',\n",
       "        u'country_destination', u'date_account_created', u'date_first_booking',\n",
       "        u'first_affiliate_tracked', u'first_browser', u'first_device_type',\n",
       "        u'gender', u'id', u'language', u'signup_app', u'signup_flow',\n",
       "        u'signup_method', u'timestamp_first_active'],\n",
       "       dtype='object'), (275547, 16))"
      ]
     },
     "execution_count": 9,
     "metadata": {},
     "output_type": "execute_result"
    }
   ],
   "source": [
    "users.columns, users.shape"
   ]
  },
  {
   "cell_type": "code",
   "execution_count": 10,
   "metadata": {
    "collapsed": true
   },
   "outputs": [],
   "source": [
    "# Replace null in Gender field\n",
    "users.gender.replace('-unknown-', np.nan, inplace=True)"
   ]
  },
  {
   "cell_type": "code",
   "execution_count": 11,
   "metadata": {
    "collapsed": false
   },
   "outputs": [
    {
     "data": {
      "text/plain": [
       "0    20090319043255\n",
       "1    20090523174809\n",
       "2    20090609231247\n",
       "3    20091031060129\n",
       "4    20091208061105\n",
       "Name: timestamp_first_active, dtype: int64"
      ]
     },
     "execution_count": 11,
     "metadata": {},
     "output_type": "execute_result"
    }
   ],
   "source": [
    "users.timestamp_first_active.head()"
   ]
  },
  {
   "cell_type": "code",
   "execution_count": 12,
   "metadata": {
    "collapsed": true
   },
   "outputs": [],
   "source": [
    "# Change Dates columns to Python Date format\n",
    "users['date_account_created'] = pd.to_datetime(users['date_account_created'], format='%Y-%m-%d')\n",
    "users['timestamp_first_active'] = pd.to_datetime(users['timestamp_first_active'], format='%Y%m%d%H%M%S')\n",
    "#users['date_account_created'].fillna(df_all.timestamp_first_active, inplace=True)"
   ]
  },
  {
   "cell_type": "code",
   "execution_count": 13,
   "metadata": {
    "collapsed": false
   },
   "outputs": [
    {
     "data": {
      "text/plain": [
       "affiliate_channel               0\n",
       "affiliate_provider              0\n",
       "age                        116866\n",
       "country_destination         62096\n",
       "date_account_created            0\n",
       "date_first_booking         186639\n",
       "first_affiliate_tracked      6085\n",
       "first_browser                   0\n",
       "first_device_type               0\n",
       "gender                     129480\n",
       "id                              0\n",
       "language                        0\n",
       "signup_app                      0\n",
       "signup_flow                     0\n",
       "signup_method                   0\n",
       "timestamp_first_active          0\n",
       "dtype: int64"
      ]
     },
     "execution_count": 13,
     "metadata": {},
     "output_type": "execute_result"
    }
   ],
   "source": [
    "users.isnull().sum()"
   ]
  },
  {
   "cell_type": "code",
   "execution_count": 14,
   "metadata": {
    "collapsed": false
   },
   "outputs": [
    {
     "name": "stdout",
     "output_type": "stream",
     "text": [
      "2928\n",
      "59\n",
      "116866\n"
     ]
    }
   ],
   "source": [
    "# Inspect Age outliers and remove the outliers\n",
    "print len(users[users['age'] > 90])\n",
    "print len(users[users['age'] < 15])\n",
    "print len(users[users['age'].isnull()])"
   ]
  },
  {
   "cell_type": "code",
   "execution_count": 15,
   "metadata": {
    "collapsed": false
   },
   "outputs": [],
   "source": [
    "users.loc[users['age'] > 90,'age'] = np.NaN"
   ]
  },
  {
   "cell_type": "code",
   "execution_count": 16,
   "metadata": {
    "collapsed": false
   },
   "outputs": [],
   "source": [
    "users.loc[users['age'] < 15,'age'] = np.NaN"
   ]
  },
  {
   "cell_type": "code",
   "execution_count": 17,
   "metadata": {
    "collapsed": false
   },
   "outputs": [
    {
     "name": "stdout",
     "output_type": "stream",
     "text": [
      "0\n",
      "0\n",
      "119853\n"
     ]
    }
   ],
   "source": [
    "print len(users[users['age'] > 90])\n",
    "print len(users[users['age'] < 15])\n",
    "print len(users[users['age'].isnull()])"
   ]
  },
  {
   "cell_type": "code",
   "execution_count": 18,
   "metadata": {
    "collapsed": false
   },
   "outputs": [
    {
     "data": {
      "text/html": [
       "<div>\n",
       "<table border=\"1\" class=\"dataframe\">\n",
       "  <thead>\n",
       "    <tr style=\"text-align: right;\">\n",
       "      <th></th>\n",
       "      <th>affiliate_channel</th>\n",
       "      <th>affiliate_provider</th>\n",
       "      <th>age</th>\n",
       "      <th>country_destination</th>\n",
       "      <th>date_account_created</th>\n",
       "      <th>date_first_booking</th>\n",
       "      <th>first_affiliate_tracked</th>\n",
       "      <th>first_browser</th>\n",
       "      <th>first_device_type</th>\n",
       "      <th>gender</th>\n",
       "      <th>id</th>\n",
       "      <th>language</th>\n",
       "      <th>signup_app</th>\n",
       "      <th>signup_flow</th>\n",
       "      <th>signup_method</th>\n",
       "      <th>timestamp_first_active</th>\n",
       "    </tr>\n",
       "  </thead>\n",
       "  <tbody>\n",
       "    <tr>\n",
       "      <th>0</th>\n",
       "      <td>direct</td>\n",
       "      <td>direct</td>\n",
       "      <td>-1</td>\n",
       "      <td>NDF</td>\n",
       "      <td>2010-06-28</td>\n",
       "      <td>NaN</td>\n",
       "      <td>untracked</td>\n",
       "      <td>Chrome</td>\n",
       "      <td>Mac Desktop</td>\n",
       "      <td>NaN</td>\n",
       "      <td>gxn3p5htnn</td>\n",
       "      <td>en</td>\n",
       "      <td>Web</td>\n",
       "      <td>0</td>\n",
       "      <td>facebook</td>\n",
       "      <td>2009-03-19 04:32:55</td>\n",
       "    </tr>\n",
       "    <tr>\n",
       "      <th>1</th>\n",
       "      <td>seo</td>\n",
       "      <td>google</td>\n",
       "      <td>38</td>\n",
       "      <td>NDF</td>\n",
       "      <td>2011-05-25</td>\n",
       "      <td>NaN</td>\n",
       "      <td>untracked</td>\n",
       "      <td>Chrome</td>\n",
       "      <td>Mac Desktop</td>\n",
       "      <td>MALE</td>\n",
       "      <td>820tgsjxq7</td>\n",
       "      <td>en</td>\n",
       "      <td>Web</td>\n",
       "      <td>0</td>\n",
       "      <td>facebook</td>\n",
       "      <td>2009-05-23 17:48:09</td>\n",
       "    </tr>\n",
       "    <tr>\n",
       "      <th>2</th>\n",
       "      <td>direct</td>\n",
       "      <td>direct</td>\n",
       "      <td>56</td>\n",
       "      <td>US</td>\n",
       "      <td>2010-09-28</td>\n",
       "      <td>2010-08-02</td>\n",
       "      <td>untracked</td>\n",
       "      <td>IE</td>\n",
       "      <td>Windows Desktop</td>\n",
       "      <td>FEMALE</td>\n",
       "      <td>4ft3gnwmtx</td>\n",
       "      <td>en</td>\n",
       "      <td>Web</td>\n",
       "      <td>3</td>\n",
       "      <td>basic</td>\n",
       "      <td>2009-06-09 23:12:47</td>\n",
       "    </tr>\n",
       "    <tr>\n",
       "      <th>3</th>\n",
       "      <td>direct</td>\n",
       "      <td>direct</td>\n",
       "      <td>42</td>\n",
       "      <td>other</td>\n",
       "      <td>2011-12-05</td>\n",
       "      <td>2012-09-08</td>\n",
       "      <td>untracked</td>\n",
       "      <td>Firefox</td>\n",
       "      <td>Mac Desktop</td>\n",
       "      <td>FEMALE</td>\n",
       "      <td>bjjt8pjhuk</td>\n",
       "      <td>en</td>\n",
       "      <td>Web</td>\n",
       "      <td>0</td>\n",
       "      <td>facebook</td>\n",
       "      <td>2009-10-31 06:01:29</td>\n",
       "    </tr>\n",
       "    <tr>\n",
       "      <th>4</th>\n",
       "      <td>direct</td>\n",
       "      <td>direct</td>\n",
       "      <td>41</td>\n",
       "      <td>US</td>\n",
       "      <td>2010-09-14</td>\n",
       "      <td>2010-02-18</td>\n",
       "      <td>untracked</td>\n",
       "      <td>Chrome</td>\n",
       "      <td>Mac Desktop</td>\n",
       "      <td>NaN</td>\n",
       "      <td>87mebub9p4</td>\n",
       "      <td>en</td>\n",
       "      <td>Web</td>\n",
       "      <td>0</td>\n",
       "      <td>basic</td>\n",
       "      <td>2009-12-08 06:11:05</td>\n",
       "    </tr>\n",
       "    <tr>\n",
       "      <th>5</th>\n",
       "      <td>other</td>\n",
       "      <td>other</td>\n",
       "      <td>-1</td>\n",
       "      <td>US</td>\n",
       "      <td>2010-01-01</td>\n",
       "      <td>2010-01-02</td>\n",
       "      <td>omg</td>\n",
       "      <td>Chrome</td>\n",
       "      <td>Mac Desktop</td>\n",
       "      <td>NaN</td>\n",
       "      <td>osr2jwljor</td>\n",
       "      <td>en</td>\n",
       "      <td>Web</td>\n",
       "      <td>0</td>\n",
       "      <td>basic</td>\n",
       "      <td>2010-01-01 21:56:19</td>\n",
       "    </tr>\n",
       "    <tr>\n",
       "      <th>6</th>\n",
       "      <td>other</td>\n",
       "      <td>craigslist</td>\n",
       "      <td>46</td>\n",
       "      <td>US</td>\n",
       "      <td>2010-01-02</td>\n",
       "      <td>2010-01-05</td>\n",
       "      <td>untracked</td>\n",
       "      <td>Safari</td>\n",
       "      <td>Mac Desktop</td>\n",
       "      <td>FEMALE</td>\n",
       "      <td>lsw9q7uk0j</td>\n",
       "      <td>en</td>\n",
       "      <td>Web</td>\n",
       "      <td>0</td>\n",
       "      <td>basic</td>\n",
       "      <td>2010-01-02 01:25:58</td>\n",
       "    </tr>\n",
       "    <tr>\n",
       "      <th>7</th>\n",
       "      <td>direct</td>\n",
       "      <td>direct</td>\n",
       "      <td>47</td>\n",
       "      <td>US</td>\n",
       "      <td>2010-01-03</td>\n",
       "      <td>2010-01-13</td>\n",
       "      <td>omg</td>\n",
       "      <td>Safari</td>\n",
       "      <td>Mac Desktop</td>\n",
       "      <td>FEMALE</td>\n",
       "      <td>0d01nltbrs</td>\n",
       "      <td>en</td>\n",
       "      <td>Web</td>\n",
       "      <td>0</td>\n",
       "      <td>basic</td>\n",
       "      <td>2010-01-03 19:19:05</td>\n",
       "    </tr>\n",
       "    <tr>\n",
       "      <th>8</th>\n",
       "      <td>other</td>\n",
       "      <td>craigslist</td>\n",
       "      <td>50</td>\n",
       "      <td>US</td>\n",
       "      <td>2010-01-04</td>\n",
       "      <td>2010-07-29</td>\n",
       "      <td>untracked</td>\n",
       "      <td>Safari</td>\n",
       "      <td>Mac Desktop</td>\n",
       "      <td>FEMALE</td>\n",
       "      <td>a1vcnhxeij</td>\n",
       "      <td>en</td>\n",
       "      <td>Web</td>\n",
       "      <td>0</td>\n",
       "      <td>basic</td>\n",
       "      <td>2010-01-04 00:42:11</td>\n",
       "    </tr>\n",
       "    <tr>\n",
       "      <th>9</th>\n",
       "      <td>other</td>\n",
       "      <td>craigslist</td>\n",
       "      <td>46</td>\n",
       "      <td>US</td>\n",
       "      <td>2010-01-04</td>\n",
       "      <td>2010-01-04</td>\n",
       "      <td>omg</td>\n",
       "      <td>Firefox</td>\n",
       "      <td>Mac Desktop</td>\n",
       "      <td>NaN</td>\n",
       "      <td>6uh8zyj2gn</td>\n",
       "      <td>en</td>\n",
       "      <td>Web</td>\n",
       "      <td>0</td>\n",
       "      <td>basic</td>\n",
       "      <td>2010-01-04 02:37:58</td>\n",
       "    </tr>\n",
       "    <tr>\n",
       "      <th>10</th>\n",
       "      <td>other</td>\n",
       "      <td>craigslist</td>\n",
       "      <td>36</td>\n",
       "      <td>US</td>\n",
       "      <td>2010-01-04</td>\n",
       "      <td>2010-01-06</td>\n",
       "      <td>untracked</td>\n",
       "      <td>Firefox</td>\n",
       "      <td>Mac Desktop</td>\n",
       "      <td>FEMALE</td>\n",
       "      <td>yuuqmid2rp</td>\n",
       "      <td>en</td>\n",
       "      <td>Web</td>\n",
       "      <td>0</td>\n",
       "      <td>basic</td>\n",
       "      <td>2010-01-04 19:42:51</td>\n",
       "    </tr>\n",
       "    <tr>\n",
       "      <th>11</th>\n",
       "      <td>other</td>\n",
       "      <td>craigslist</td>\n",
       "      <td>47</td>\n",
       "      <td>NDF</td>\n",
       "      <td>2010-01-05</td>\n",
       "      <td>NaN</td>\n",
       "      <td>untracked</td>\n",
       "      <td>-unknown-</td>\n",
       "      <td>iPhone</td>\n",
       "      <td>FEMALE</td>\n",
       "      <td>om1ss59ys8</td>\n",
       "      <td>en</td>\n",
       "      <td>Web</td>\n",
       "      <td>0</td>\n",
       "      <td>basic</td>\n",
       "      <td>2010-01-05 05:18:12</td>\n",
       "    </tr>\n",
       "    <tr>\n",
       "      <th>12</th>\n",
       "      <td>direct</td>\n",
       "      <td>direct</td>\n",
       "      <td>-1</td>\n",
       "      <td>FR</td>\n",
       "      <td>2010-01-05</td>\n",
       "      <td>2010-01-18</td>\n",
       "      <td>NaN</td>\n",
       "      <td>-unknown-</td>\n",
       "      <td>Other/Unknown</td>\n",
       "      <td>NaN</td>\n",
       "      <td>k6np330cm1</td>\n",
       "      <td>en</td>\n",
       "      <td>Web</td>\n",
       "      <td>0</td>\n",
       "      <td>basic</td>\n",
       "      <td>2010-01-05 06:08:59</td>\n",
       "    </tr>\n",
       "    <tr>\n",
       "      <th>13</th>\n",
       "      <td>other</td>\n",
       "      <td>craigslist</td>\n",
       "      <td>37</td>\n",
       "      <td>NDF</td>\n",
       "      <td>2010-01-05</td>\n",
       "      <td>NaN</td>\n",
       "      <td>linked</td>\n",
       "      <td>Firefox</td>\n",
       "      <td>Mac Desktop</td>\n",
       "      <td>FEMALE</td>\n",
       "      <td>dy3rgx56cu</td>\n",
       "      <td>en</td>\n",
       "      <td>Web</td>\n",
       "      <td>0</td>\n",
       "      <td>basic</td>\n",
       "      <td>2010-01-05 08:32:59</td>\n",
       "    </tr>\n",
       "    <tr>\n",
       "      <th>14</th>\n",
       "      <td>other</td>\n",
       "      <td>craigslist</td>\n",
       "      <td>36</td>\n",
       "      <td>NDF</td>\n",
       "      <td>2010-01-07</td>\n",
       "      <td>NaN</td>\n",
       "      <td>untracked</td>\n",
       "      <td>Mobile Safari</td>\n",
       "      <td>iPhone</td>\n",
       "      <td>FEMALE</td>\n",
       "      <td>ju3h98ch3w</td>\n",
       "      <td>en</td>\n",
       "      <td>Web</td>\n",
       "      <td>0</td>\n",
       "      <td>basic</td>\n",
       "      <td>2010-01-07 05:58:20</td>\n",
       "    </tr>\n",
       "    <tr>\n",
       "      <th>15</th>\n",
       "      <td>direct</td>\n",
       "      <td>direct</td>\n",
       "      <td>33</td>\n",
       "      <td>CA</td>\n",
       "      <td>2010-01-07</td>\n",
       "      <td>2010-01-08</td>\n",
       "      <td>untracked</td>\n",
       "      <td>Chrome</td>\n",
       "      <td>Windows Desktop</td>\n",
       "      <td>FEMALE</td>\n",
       "      <td>v4d5rl22px</td>\n",
       "      <td>en</td>\n",
       "      <td>Web</td>\n",
       "      <td>0</td>\n",
       "      <td>basic</td>\n",
       "      <td>2010-01-07 20:45:55</td>\n",
       "    </tr>\n",
       "    <tr>\n",
       "      <th>16</th>\n",
       "      <td>other</td>\n",
       "      <td>craigslist</td>\n",
       "      <td>-1</td>\n",
       "      <td>NDF</td>\n",
       "      <td>2010-01-07</td>\n",
       "      <td>NaN</td>\n",
       "      <td>NaN</td>\n",
       "      <td>-unknown-</td>\n",
       "      <td>Other/Unknown</td>\n",
       "      <td>NaN</td>\n",
       "      <td>2dwbwkx056</td>\n",
       "      <td>en</td>\n",
       "      <td>Web</td>\n",
       "      <td>0</td>\n",
       "      <td>basic</td>\n",
       "      <td>2010-01-07 21:51:25</td>\n",
       "    </tr>\n",
       "    <tr>\n",
       "      <th>17</th>\n",
       "      <td>other</td>\n",
       "      <td>craigslist</td>\n",
       "      <td>31</td>\n",
       "      <td>US</td>\n",
       "      <td>2010-01-07</td>\n",
       "      <td>2010-01-09</td>\n",
       "      <td>NaN</td>\n",
       "      <td>-unknown-</td>\n",
       "      <td>Other/Unknown</td>\n",
       "      <td>NaN</td>\n",
       "      <td>frhre329au</td>\n",
       "      <td>en</td>\n",
       "      <td>Web</td>\n",
       "      <td>0</td>\n",
       "      <td>basic</td>\n",
       "      <td>2010-01-07 22:46:25</td>\n",
       "    </tr>\n",
       "    <tr>\n",
       "      <th>18</th>\n",
       "      <td>seo</td>\n",
       "      <td>facebook</td>\n",
       "      <td>-1</td>\n",
       "      <td>NDF</td>\n",
       "      <td>2010-01-08</td>\n",
       "      <td>NaN</td>\n",
       "      <td>NaN</td>\n",
       "      <td>-unknown-</td>\n",
       "      <td>Other/Unknown</td>\n",
       "      <td>NaN</td>\n",
       "      <td>cxlg85pg1r</td>\n",
       "      <td>en</td>\n",
       "      <td>Web</td>\n",
       "      <td>0</td>\n",
       "      <td>basic</td>\n",
       "      <td>2010-01-08 01:56:41</td>\n",
       "    </tr>\n",
       "    <tr>\n",
       "      <th>19</th>\n",
       "      <td>direct</td>\n",
       "      <td>direct</td>\n",
       "      <td>29</td>\n",
       "      <td>FR</td>\n",
       "      <td>2010-01-10</td>\n",
       "      <td>2010-01-10</td>\n",
       "      <td>untracked</td>\n",
       "      <td>Chrome</td>\n",
       "      <td>Mac Desktop</td>\n",
       "      <td>FEMALE</td>\n",
       "      <td>gdka1q5ktd</td>\n",
       "      <td>en</td>\n",
       "      <td>Web</td>\n",
       "      <td>0</td>\n",
       "      <td>basic</td>\n",
       "      <td>2010-01-10 01:08:17</td>\n",
       "    </tr>\n",
       "    <tr>\n",
       "      <th>20</th>\n",
       "      <td>direct</td>\n",
       "      <td>direct</td>\n",
       "      <td>-1</td>\n",
       "      <td>US</td>\n",
       "      <td>2010-01-10</td>\n",
       "      <td>2010-01-18</td>\n",
       "      <td>NaN</td>\n",
       "      <td>-unknown-</td>\n",
       "      <td>Other/Unknown</td>\n",
       "      <td>NaN</td>\n",
       "      <td>qdubonn3uk</td>\n",
       "      <td>en</td>\n",
       "      <td>Web</td>\n",
       "      <td>0</td>\n",
       "      <td>basic</td>\n",
       "      <td>2010-01-10 15:21:20</td>\n",
       "    </tr>\n",
       "    <tr>\n",
       "      <th>21</th>\n",
       "      <td>direct</td>\n",
       "      <td>direct</td>\n",
       "      <td>30</td>\n",
       "      <td>US</td>\n",
       "      <td>2010-01-10</td>\n",
       "      <td>2010-01-11</td>\n",
       "      <td>linked</td>\n",
       "      <td>Chrome</td>\n",
       "      <td>Mac Desktop</td>\n",
       "      <td>MALE</td>\n",
       "      <td>qsibmuz9sx</td>\n",
       "      <td>en</td>\n",
       "      <td>Web</td>\n",
       "      <td>0</td>\n",
       "      <td>basic</td>\n",
       "      <td>2010-01-10 22:09:41</td>\n",
       "    </tr>\n",
       "    <tr>\n",
       "      <th>22</th>\n",
       "      <td>seo</td>\n",
       "      <td>google</td>\n",
       "      <td>40</td>\n",
       "      <td>US</td>\n",
       "      <td>2010-01-11</td>\n",
       "      <td>2010-01-11</td>\n",
       "      <td>untracked</td>\n",
       "      <td>-unknown-</td>\n",
       "      <td>iPhone</td>\n",
       "      <td>NaN</td>\n",
       "      <td>80f7dwscrn</td>\n",
       "      <td>en</td>\n",
       "      <td>Web</td>\n",
       "      <td>0</td>\n",
       "      <td>basic</td>\n",
       "      <td>2010-01-11 03:14:38</td>\n",
       "    </tr>\n",
       "    <tr>\n",
       "      <th>23</th>\n",
       "      <td>other</td>\n",
       "      <td>craigslist</td>\n",
       "      <td>-1</td>\n",
       "      <td>NDF</td>\n",
       "      <td>2010-01-11</td>\n",
       "      <td>NaN</td>\n",
       "      <td>untracked</td>\n",
       "      <td>Safari</td>\n",
       "      <td>Mac Desktop</td>\n",
       "      <td>NaN</td>\n",
       "      <td>jha93x042q</td>\n",
       "      <td>en</td>\n",
       "      <td>Web</td>\n",
       "      <td>0</td>\n",
       "      <td>basic</td>\n",
       "      <td>2010-01-11 22:40:15</td>\n",
       "    </tr>\n",
       "    <tr>\n",
       "      <th>24</th>\n",
       "      <td>seo</td>\n",
       "      <td>google</td>\n",
       "      <td>40</td>\n",
       "      <td>NDF</td>\n",
       "      <td>2010-01-11</td>\n",
       "      <td>NaN</td>\n",
       "      <td>untracked</td>\n",
       "      <td>Firefox</td>\n",
       "      <td>Mac Desktop</td>\n",
       "      <td>FEMALE</td>\n",
       "      <td>7i49vnuav6</td>\n",
       "      <td>en</td>\n",
       "      <td>Web</td>\n",
       "      <td>0</td>\n",
       "      <td>basic</td>\n",
       "      <td>2010-01-11 23:08:08</td>\n",
       "    </tr>\n",
       "    <tr>\n",
       "      <th>25</th>\n",
       "      <td>other</td>\n",
       "      <td>craigslist</td>\n",
       "      <td>26</td>\n",
       "      <td>FR</td>\n",
       "      <td>2010-01-12</td>\n",
       "      <td>2010-01-15</td>\n",
       "      <td>untracked</td>\n",
       "      <td>Chrome</td>\n",
       "      <td>Mac Desktop</td>\n",
       "      <td>FEMALE</td>\n",
       "      <td>al8bcetz0g</td>\n",
       "      <td>en</td>\n",
       "      <td>Web</td>\n",
       "      <td>0</td>\n",
       "      <td>basic</td>\n",
       "      <td>2010-01-12 13:14:44</td>\n",
       "    </tr>\n",
       "    <tr>\n",
       "      <th>26</th>\n",
       "      <td>other</td>\n",
       "      <td>other</td>\n",
       "      <td>-1</td>\n",
       "      <td>NDF</td>\n",
       "      <td>2010-01-12</td>\n",
       "      <td>NaN</td>\n",
       "      <td>untracked</td>\n",
       "      <td>-unknown-</td>\n",
       "      <td>Other/Unknown</td>\n",
       "      <td>NaN</td>\n",
       "      <td>bjg0m5otl3</td>\n",
       "      <td>en</td>\n",
       "      <td>Web</td>\n",
       "      <td>0</td>\n",
       "      <td>basic</td>\n",
       "      <td>2010-01-12 15:54:20</td>\n",
       "    </tr>\n",
       "    <tr>\n",
       "      <th>27</th>\n",
       "      <td>other</td>\n",
       "      <td>craigslist</td>\n",
       "      <td>32</td>\n",
       "      <td>US</td>\n",
       "      <td>2010-01-12</td>\n",
       "      <td>2010-01-22</td>\n",
       "      <td>untracked</td>\n",
       "      <td>Chrome</td>\n",
       "      <td>Desktop (Other)</td>\n",
       "      <td>FEMALE</td>\n",
       "      <td>hfrl5gle36</td>\n",
       "      <td>en</td>\n",
       "      <td>Web</td>\n",
       "      <td>0</td>\n",
       "      <td>basic</td>\n",
       "      <td>2010-01-12 20:59:49</td>\n",
       "    </tr>\n",
       "    <tr>\n",
       "      <th>28</th>\n",
       "      <td>direct</td>\n",
       "      <td>direct</td>\n",
       "      <td>35</td>\n",
       "      <td>FR</td>\n",
       "      <td>2010-01-13</td>\n",
       "      <td>2010-01-13</td>\n",
       "      <td>NaN</td>\n",
       "      <td>-unknown-</td>\n",
       "      <td>Other/Unknown</td>\n",
       "      <td>NaN</td>\n",
       "      <td>tp6x3md0n4</td>\n",
       "      <td>en</td>\n",
       "      <td>Web</td>\n",
       "      <td>0</td>\n",
       "      <td>basic</td>\n",
       "      <td>2010-01-13 04:46:50</td>\n",
       "    </tr>\n",
       "    <tr>\n",
       "      <th>29</th>\n",
       "      <td>direct</td>\n",
       "      <td>direct</td>\n",
       "      <td>37</td>\n",
       "      <td>US</td>\n",
       "      <td>2010-01-13</td>\n",
       "      <td>2010-01-19</td>\n",
       "      <td>untracked</td>\n",
       "      <td>-unknown-</td>\n",
       "      <td>Android Tablet</td>\n",
       "      <td>NaN</td>\n",
       "      <td>hql77nu2lk</td>\n",
       "      <td>en</td>\n",
       "      <td>Web</td>\n",
       "      <td>0</td>\n",
       "      <td>basic</td>\n",
       "      <td>2010-01-13 06:43:33</td>\n",
       "    </tr>\n",
       "    <tr>\n",
       "      <th>...</th>\n",
       "      <td>...</td>\n",
       "      <td>...</td>\n",
       "      <td>...</td>\n",
       "      <td>...</td>\n",
       "      <td>...</td>\n",
       "      <td>...</td>\n",
       "      <td>...</td>\n",
       "      <td>...</td>\n",
       "      <td>...</td>\n",
       "      <td>...</td>\n",
       "      <td>...</td>\n",
       "      <td>...</td>\n",
       "      <td>...</td>\n",
       "      <td>...</td>\n",
       "      <td>...</td>\n",
       "      <td>...</td>\n",
       "    </tr>\n",
       "    <tr>\n",
       "      <th>62066</th>\n",
       "      <td>direct</td>\n",
       "      <td>direct</td>\n",
       "      <td>-1</td>\n",
       "      <td>NaN</td>\n",
       "      <td>2014-09-30</td>\n",
       "      <td>NaN</td>\n",
       "      <td>untracked</td>\n",
       "      <td>-unknown-</td>\n",
       "      <td>Android Phone</td>\n",
       "      <td>NaN</td>\n",
       "      <td>bsv2ev628t</td>\n",
       "      <td>en</td>\n",
       "      <td>Android</td>\n",
       "      <td>12</td>\n",
       "      <td>google</td>\n",
       "      <td>2014-09-30 23:14:54</td>\n",
       "    </tr>\n",
       "    <tr>\n",
       "      <th>62067</th>\n",
       "      <td>direct</td>\n",
       "      <td>direct</td>\n",
       "      <td>48</td>\n",
       "      <td>NaN</td>\n",
       "      <td>2014-09-30</td>\n",
       "      <td>NaN</td>\n",
       "      <td>untracked</td>\n",
       "      <td>Safari</td>\n",
       "      <td>Mac Desktop</td>\n",
       "      <td>FEMALE</td>\n",
       "      <td>06echc56pl</td>\n",
       "      <td>en</td>\n",
       "      <td>Web</td>\n",
       "      <td>0</td>\n",
       "      <td>basic</td>\n",
       "      <td>2014-09-30 23:15:18</td>\n",
       "    </tr>\n",
       "    <tr>\n",
       "      <th>62068</th>\n",
       "      <td>seo</td>\n",
       "      <td>google</td>\n",
       "      <td>-1</td>\n",
       "      <td>NaN</td>\n",
       "      <td>2014-09-30</td>\n",
       "      <td>NaN</td>\n",
       "      <td>untracked</td>\n",
       "      <td>Firefox</td>\n",
       "      <td>Mac Desktop</td>\n",
       "      <td>NaN</td>\n",
       "      <td>niqgaye2ov</td>\n",
       "      <td>en</td>\n",
       "      <td>Web</td>\n",
       "      <td>0</td>\n",
       "      <td>basic</td>\n",
       "      <td>2014-09-30 23:19:52</td>\n",
       "    </tr>\n",
       "    <tr>\n",
       "      <th>62069</th>\n",
       "      <td>direct</td>\n",
       "      <td>direct</td>\n",
       "      <td>24</td>\n",
       "      <td>NaN</td>\n",
       "      <td>2014-09-30</td>\n",
       "      <td>NaN</td>\n",
       "      <td>untracked</td>\n",
       "      <td>-unknown-</td>\n",
       "      <td>iPhone</td>\n",
       "      <td>FEMALE</td>\n",
       "      <td>61iwzuhw6e</td>\n",
       "      <td>en</td>\n",
       "      <td>iOS</td>\n",
       "      <td>25</td>\n",
       "      <td>facebook</td>\n",
       "      <td>2014-09-30 23:21:26</td>\n",
       "    </tr>\n",
       "    <tr>\n",
       "      <th>62070</th>\n",
       "      <td>seo</td>\n",
       "      <td>facebook</td>\n",
       "      <td>32</td>\n",
       "      <td>NaN</td>\n",
       "      <td>2014-09-30</td>\n",
       "      <td>NaN</td>\n",
       "      <td>untracked</td>\n",
       "      <td>Mobile Safari</td>\n",
       "      <td>iPad</td>\n",
       "      <td>FEMALE</td>\n",
       "      <td>gks02el96u</td>\n",
       "      <td>en</td>\n",
       "      <td>Web</td>\n",
       "      <td>0</td>\n",
       "      <td>facebook</td>\n",
       "      <td>2014-09-30 23:22:37</td>\n",
       "    </tr>\n",
       "    <tr>\n",
       "      <th>62071</th>\n",
       "      <td>direct</td>\n",
       "      <td>direct</td>\n",
       "      <td>-1</td>\n",
       "      <td>NaN</td>\n",
       "      <td>2014-09-30</td>\n",
       "      <td>NaN</td>\n",
       "      <td>untracked</td>\n",
       "      <td>Chrome Mobile</td>\n",
       "      <td>Android Phone</td>\n",
       "      <td>NaN</td>\n",
       "      <td>v4r1161l0r</td>\n",
       "      <td>en</td>\n",
       "      <td>Moweb</td>\n",
       "      <td>0</td>\n",
       "      <td>basic</td>\n",
       "      <td>2014-09-30 23:22:53</td>\n",
       "    </tr>\n",
       "    <tr>\n",
       "      <th>62072</th>\n",
       "      <td>direct</td>\n",
       "      <td>direct</td>\n",
       "      <td>-1</td>\n",
       "      <td>NaN</td>\n",
       "      <td>2014-09-30</td>\n",
       "      <td>NaN</td>\n",
       "      <td>untracked</td>\n",
       "      <td>-unknown-</td>\n",
       "      <td>Android Phone</td>\n",
       "      <td>NaN</td>\n",
       "      <td>p1clbqd0o6</td>\n",
       "      <td>en</td>\n",
       "      <td>Android</td>\n",
       "      <td>23</td>\n",
       "      <td>basic</td>\n",
       "      <td>2014-09-30 23:23:31</td>\n",
       "    </tr>\n",
       "    <tr>\n",
       "      <th>62073</th>\n",
       "      <td>direct</td>\n",
       "      <td>direct</td>\n",
       "      <td>-1</td>\n",
       "      <td>NaN</td>\n",
       "      <td>2014-09-30</td>\n",
       "      <td>NaN</td>\n",
       "      <td>untracked</td>\n",
       "      <td>-unknown-</td>\n",
       "      <td>Android Phone</td>\n",
       "      <td>NaN</td>\n",
       "      <td>ozb2z0km6l</td>\n",
       "      <td>en</td>\n",
       "      <td>Android</td>\n",
       "      <td>23</td>\n",
       "      <td>basic</td>\n",
       "      <td>2014-09-30 23:25:07</td>\n",
       "    </tr>\n",
       "    <tr>\n",
       "      <th>62074</th>\n",
       "      <td>direct</td>\n",
       "      <td>direct</td>\n",
       "      <td>-1</td>\n",
       "      <td>NaN</td>\n",
       "      <td>2014-09-30</td>\n",
       "      <td>NaN</td>\n",
       "      <td>linked</td>\n",
       "      <td>Mobile Safari</td>\n",
       "      <td>iPhone</td>\n",
       "      <td>NaN</td>\n",
       "      <td>w3e3sp6i70</td>\n",
       "      <td>en</td>\n",
       "      <td>Moweb</td>\n",
       "      <td>0</td>\n",
       "      <td>basic</td>\n",
       "      <td>2014-09-30 23:25:51</td>\n",
       "    </tr>\n",
       "    <tr>\n",
       "      <th>62075</th>\n",
       "      <td>sem-brand</td>\n",
       "      <td>google</td>\n",
       "      <td>40</td>\n",
       "      <td>NaN</td>\n",
       "      <td>2014-09-30</td>\n",
       "      <td>NaN</td>\n",
       "      <td>omg</td>\n",
       "      <td>Firefox</td>\n",
       "      <td>Windows Desktop</td>\n",
       "      <td>FEMALE</td>\n",
       "      <td>q5bxbq0asg</td>\n",
       "      <td>en</td>\n",
       "      <td>Web</td>\n",
       "      <td>0</td>\n",
       "      <td>facebook</td>\n",
       "      <td>2014-09-30 23:26:13</td>\n",
       "    </tr>\n",
       "    <tr>\n",
       "      <th>62076</th>\n",
       "      <td>seo</td>\n",
       "      <td>facebook</td>\n",
       "      <td>39</td>\n",
       "      <td>NaN</td>\n",
       "      <td>2014-09-30</td>\n",
       "      <td>NaN</td>\n",
       "      <td>untracked</td>\n",
       "      <td>Mobile Safari</td>\n",
       "      <td>iPhone</td>\n",
       "      <td>MALE</td>\n",
       "      <td>1xa5t3t0la</td>\n",
       "      <td>en</td>\n",
       "      <td>Web</td>\n",
       "      <td>0</td>\n",
       "      <td>facebook</td>\n",
       "      <td>2014-09-30 23:31:13</td>\n",
       "    </tr>\n",
       "    <tr>\n",
       "      <th>62077</th>\n",
       "      <td>seo</td>\n",
       "      <td>google</td>\n",
       "      <td>-1</td>\n",
       "      <td>NaN</td>\n",
       "      <td>2014-09-30</td>\n",
       "      <td>NaN</td>\n",
       "      <td>untracked</td>\n",
       "      <td>Firefox</td>\n",
       "      <td>Mac Desktop</td>\n",
       "      <td>NaN</td>\n",
       "      <td>zuvz7gfpjz</td>\n",
       "      <td>en</td>\n",
       "      <td>Web</td>\n",
       "      <td>0</td>\n",
       "      <td>basic</td>\n",
       "      <td>2014-09-30 23:33:05</td>\n",
       "    </tr>\n",
       "    <tr>\n",
       "      <th>62078</th>\n",
       "      <td>seo</td>\n",
       "      <td>google</td>\n",
       "      <td>-1</td>\n",
       "      <td>NaN</td>\n",
       "      <td>2014-09-30</td>\n",
       "      <td>NaN</td>\n",
       "      <td>untracked</td>\n",
       "      <td>Mobile Safari</td>\n",
       "      <td>iPad</td>\n",
       "      <td>NaN</td>\n",
       "      <td>gpusl6ppgf</td>\n",
       "      <td>en</td>\n",
       "      <td>Web</td>\n",
       "      <td>0</td>\n",
       "      <td>basic</td>\n",
       "      <td>2014-09-30 23:35:35</td>\n",
       "    </tr>\n",
       "    <tr>\n",
       "      <th>62079</th>\n",
       "      <td>seo</td>\n",
       "      <td>google</td>\n",
       "      <td>44</td>\n",
       "      <td>NaN</td>\n",
       "      <td>2014-09-30</td>\n",
       "      <td>NaN</td>\n",
       "      <td>linked</td>\n",
       "      <td>Chrome</td>\n",
       "      <td>Mac Desktop</td>\n",
       "      <td>MALE</td>\n",
       "      <td>gpijioh4eh</td>\n",
       "      <td>en</td>\n",
       "      <td>Web</td>\n",
       "      <td>0</td>\n",
       "      <td>basic</td>\n",
       "      <td>2014-09-30 23:39:02</td>\n",
       "    </tr>\n",
       "    <tr>\n",
       "      <th>62080</th>\n",
       "      <td>seo</td>\n",
       "      <td>google</td>\n",
       "      <td>39</td>\n",
       "      <td>NaN</td>\n",
       "      <td>2014-09-30</td>\n",
       "      <td>NaN</td>\n",
       "      <td>linked</td>\n",
       "      <td>Firefox</td>\n",
       "      <td>Windows Desktop</td>\n",
       "      <td>NaN</td>\n",
       "      <td>3ptlvdxss9</td>\n",
       "      <td>en</td>\n",
       "      <td>Web</td>\n",
       "      <td>0</td>\n",
       "      <td>basic</td>\n",
       "      <td>2014-09-30 23:41:28</td>\n",
       "    </tr>\n",
       "    <tr>\n",
       "      <th>62081</th>\n",
       "      <td>direct</td>\n",
       "      <td>direct</td>\n",
       "      <td>34</td>\n",
       "      <td>NaN</td>\n",
       "      <td>2014-09-30</td>\n",
       "      <td>NaN</td>\n",
       "      <td>untracked</td>\n",
       "      <td>-unknown-</td>\n",
       "      <td>Android Phone</td>\n",
       "      <td>FEMALE</td>\n",
       "      <td>f9a1ncjnrg</td>\n",
       "      <td>en</td>\n",
       "      <td>Android</td>\n",
       "      <td>23</td>\n",
       "      <td>facebook</td>\n",
       "      <td>2014-09-30 23:44:25</td>\n",
       "    </tr>\n",
       "    <tr>\n",
       "      <th>62082</th>\n",
       "      <td>seo</td>\n",
       "      <td>google</td>\n",
       "      <td>-1</td>\n",
       "      <td>NaN</td>\n",
       "      <td>2014-09-30</td>\n",
       "      <td>NaN</td>\n",
       "      <td>untracked</td>\n",
       "      <td>Safari</td>\n",
       "      <td>Mac Desktop</td>\n",
       "      <td>NaN</td>\n",
       "      <td>kofaz2kh70</td>\n",
       "      <td>en</td>\n",
       "      <td>Web</td>\n",
       "      <td>0</td>\n",
       "      <td>basic</td>\n",
       "      <td>2014-09-30 23:45:15</td>\n",
       "    </tr>\n",
       "    <tr>\n",
       "      <th>62083</th>\n",
       "      <td>direct</td>\n",
       "      <td>direct</td>\n",
       "      <td>40</td>\n",
       "      <td>NaN</td>\n",
       "      <td>2014-09-30</td>\n",
       "      <td>NaN</td>\n",
       "      <td>untracked</td>\n",
       "      <td>-unknown-</td>\n",
       "      <td>Android Phone</td>\n",
       "      <td>MALE</td>\n",
       "      <td>6xrmom7hjo</td>\n",
       "      <td>en</td>\n",
       "      <td>Android</td>\n",
       "      <td>23</td>\n",
       "      <td>facebook</td>\n",
       "      <td>2014-09-30 23:45:51</td>\n",
       "    </tr>\n",
       "    <tr>\n",
       "      <th>62084</th>\n",
       "      <td>direct</td>\n",
       "      <td>direct</td>\n",
       "      <td>27</td>\n",
       "      <td>NaN</td>\n",
       "      <td>2014-09-30</td>\n",
       "      <td>NaN</td>\n",
       "      <td>untracked</td>\n",
       "      <td>Firefox</td>\n",
       "      <td>Mac Desktop</td>\n",
       "      <td>MALE</td>\n",
       "      <td>cg9wqgnad2</td>\n",
       "      <td>en</td>\n",
       "      <td>Web</td>\n",
       "      <td>0</td>\n",
       "      <td>facebook</td>\n",
       "      <td>2014-09-30 23:46:12</td>\n",
       "    </tr>\n",
       "    <tr>\n",
       "      <th>62085</th>\n",
       "      <td>direct</td>\n",
       "      <td>direct</td>\n",
       "      <td>24</td>\n",
       "      <td>NaN</td>\n",
       "      <td>2014-09-30</td>\n",
       "      <td>NaN</td>\n",
       "      <td>linked</td>\n",
       "      <td>Mobile Safari</td>\n",
       "      <td>iPhone</td>\n",
       "      <td>FEMALE</td>\n",
       "      <td>jg618z94wo</td>\n",
       "      <td>en</td>\n",
       "      <td>Web</td>\n",
       "      <td>0</td>\n",
       "      <td>facebook</td>\n",
       "      <td>2014-09-30 23:46:17</td>\n",
       "    </tr>\n",
       "    <tr>\n",
       "      <th>62086</th>\n",
       "      <td>direct</td>\n",
       "      <td>direct</td>\n",
       "      <td>-1</td>\n",
       "      <td>NaN</td>\n",
       "      <td>2014-09-30</td>\n",
       "      <td>NaN</td>\n",
       "      <td>untracked</td>\n",
       "      <td>-unknown-</td>\n",
       "      <td>iPhone</td>\n",
       "      <td>NaN</td>\n",
       "      <td>u7lv3glv6y</td>\n",
       "      <td>en</td>\n",
       "      <td>iOS</td>\n",
       "      <td>25</td>\n",
       "      <td>basic</td>\n",
       "      <td>2014-09-30 23:47:03</td>\n",
       "    </tr>\n",
       "    <tr>\n",
       "      <th>62087</th>\n",
       "      <td>sem-brand</td>\n",
       "      <td>google</td>\n",
       "      <td>55</td>\n",
       "      <td>NaN</td>\n",
       "      <td>2014-09-30</td>\n",
       "      <td>NaN</td>\n",
       "      <td>omg</td>\n",
       "      <td>Firefox</td>\n",
       "      <td>Windows Desktop</td>\n",
       "      <td>MALE</td>\n",
       "      <td>o6ofmozucx</td>\n",
       "      <td>en</td>\n",
       "      <td>Web</td>\n",
       "      <td>0</td>\n",
       "      <td>basic</td>\n",
       "      <td>2014-09-30 23:47:51</td>\n",
       "    </tr>\n",
       "    <tr>\n",
       "      <th>62088</th>\n",
       "      <td>direct</td>\n",
       "      <td>direct</td>\n",
       "      <td>34</td>\n",
       "      <td>NaN</td>\n",
       "      <td>2014-09-30</td>\n",
       "      <td>NaN</td>\n",
       "      <td>untracked</td>\n",
       "      <td>Chrome</td>\n",
       "      <td>Mac Desktop</td>\n",
       "      <td>NaN</td>\n",
       "      <td>wcw7xggeqp</td>\n",
       "      <td>en</td>\n",
       "      <td>Web</td>\n",
       "      <td>0</td>\n",
       "      <td>basic</td>\n",
       "      <td>2014-09-30 23:49:04</td>\n",
       "    </tr>\n",
       "    <tr>\n",
       "      <th>62089</th>\n",
       "      <td>direct</td>\n",
       "      <td>direct</td>\n",
       "      <td>32</td>\n",
       "      <td>NaN</td>\n",
       "      <td>2014-09-30</td>\n",
       "      <td>NaN</td>\n",
       "      <td>linked</td>\n",
       "      <td>Chrome</td>\n",
       "      <td>Windows Desktop</td>\n",
       "      <td>MALE</td>\n",
       "      <td>m22pw2pkxr</td>\n",
       "      <td>en</td>\n",
       "      <td>Web</td>\n",
       "      <td>0</td>\n",
       "      <td>basic</td>\n",
       "      <td>2014-09-30 23:50:00</td>\n",
       "    </tr>\n",
       "    <tr>\n",
       "      <th>62090</th>\n",
       "      <td>seo</td>\n",
       "      <td>yahoo</td>\n",
       "      <td>-1</td>\n",
       "      <td>NaN</td>\n",
       "      <td>2014-09-30</td>\n",
       "      <td>NaN</td>\n",
       "      <td>linked</td>\n",
       "      <td>Chrome</td>\n",
       "      <td>Windows Desktop</td>\n",
       "      <td>NaN</td>\n",
       "      <td>8yvhec201j</td>\n",
       "      <td>en</td>\n",
       "      <td>Web</td>\n",
       "      <td>0</td>\n",
       "      <td>basic</td>\n",
       "      <td>2014-09-30 23:50:19</td>\n",
       "    </tr>\n",
       "    <tr>\n",
       "      <th>62091</th>\n",
       "      <td>direct</td>\n",
       "      <td>direct</td>\n",
       "      <td>31</td>\n",
       "      <td>NaN</td>\n",
       "      <td>2014-09-30</td>\n",
       "      <td>NaN</td>\n",
       "      <td>untracked</td>\n",
       "      <td>IE</td>\n",
       "      <td>Windows Desktop</td>\n",
       "      <td>NaN</td>\n",
       "      <td>cv0na2lf5a</td>\n",
       "      <td>en</td>\n",
       "      <td>Web</td>\n",
       "      <td>0</td>\n",
       "      <td>basic</td>\n",
       "      <td>2014-09-30 23:52:32</td>\n",
       "    </tr>\n",
       "    <tr>\n",
       "      <th>62092</th>\n",
       "      <td>direct</td>\n",
       "      <td>direct</td>\n",
       "      <td>-1</td>\n",
       "      <td>NaN</td>\n",
       "      <td>2014-09-30</td>\n",
       "      <td>NaN</td>\n",
       "      <td>untracked</td>\n",
       "      <td>-unknown-</td>\n",
       "      <td>Android Phone</td>\n",
       "      <td>NaN</td>\n",
       "      <td>zp8xfonng8</td>\n",
       "      <td>ko</td>\n",
       "      <td>Android</td>\n",
       "      <td>23</td>\n",
       "      <td>basic</td>\n",
       "      <td>2014-09-30 23:53:06</td>\n",
       "    </tr>\n",
       "    <tr>\n",
       "      <th>62093</th>\n",
       "      <td>direct</td>\n",
       "      <td>direct</td>\n",
       "      <td>-1</td>\n",
       "      <td>NaN</td>\n",
       "      <td>2014-09-30</td>\n",
       "      <td>NaN</td>\n",
       "      <td>linked</td>\n",
       "      <td>Firefox</td>\n",
       "      <td>Windows Desktop</td>\n",
       "      <td>NaN</td>\n",
       "      <td>fa6260ziny</td>\n",
       "      <td>de</td>\n",
       "      <td>Web</td>\n",
       "      <td>0</td>\n",
       "      <td>basic</td>\n",
       "      <td>2014-09-30 23:54:08</td>\n",
       "    </tr>\n",
       "    <tr>\n",
       "      <th>62094</th>\n",
       "      <td>sem-brand</td>\n",
       "      <td>google</td>\n",
       "      <td>-1</td>\n",
       "      <td>NaN</td>\n",
       "      <td>2014-09-30</td>\n",
       "      <td>NaN</td>\n",
       "      <td>omg</td>\n",
       "      <td>Safari</td>\n",
       "      <td>Mac Desktop</td>\n",
       "      <td>NaN</td>\n",
       "      <td>87k0fy4ugm</td>\n",
       "      <td>en</td>\n",
       "      <td>Web</td>\n",
       "      <td>0</td>\n",
       "      <td>basic</td>\n",
       "      <td>2014-09-30 23:54:30</td>\n",
       "    </tr>\n",
       "    <tr>\n",
       "      <th>62095</th>\n",
       "      <td>other</td>\n",
       "      <td>other</td>\n",
       "      <td>49</td>\n",
       "      <td>NaN</td>\n",
       "      <td>2014-09-30</td>\n",
       "      <td>NaN</td>\n",
       "      <td>tracked-other</td>\n",
       "      <td>Chrome</td>\n",
       "      <td>Windows Desktop</td>\n",
       "      <td>FEMALE</td>\n",
       "      <td>9uqfg8txu3</td>\n",
       "      <td>en</td>\n",
       "      <td>Web</td>\n",
       "      <td>0</td>\n",
       "      <td>basic</td>\n",
       "      <td>2014-09-30 23:59:01</td>\n",
       "    </tr>\n",
       "  </tbody>\n",
       "</table>\n",
       "<p>275547 rows × 16 columns</p>\n",
       "</div>"
      ],
      "text/plain": [
       "      affiliate_channel affiliate_provider  age country_destination  \\\n",
       "0                direct             direct   -1                 NDF   \n",
       "1                   seo             google   38                 NDF   \n",
       "2                direct             direct   56                  US   \n",
       "3                direct             direct   42               other   \n",
       "4                direct             direct   41                  US   \n",
       "5                 other              other   -1                  US   \n",
       "6                 other         craigslist   46                  US   \n",
       "7                direct             direct   47                  US   \n",
       "8                 other         craigslist   50                  US   \n",
       "9                 other         craigslist   46                  US   \n",
       "10                other         craigslist   36                  US   \n",
       "11                other         craigslist   47                 NDF   \n",
       "12               direct             direct   -1                  FR   \n",
       "13                other         craigslist   37                 NDF   \n",
       "14                other         craigslist   36                 NDF   \n",
       "15               direct             direct   33                  CA   \n",
       "16                other         craigslist   -1                 NDF   \n",
       "17                other         craigslist   31                  US   \n",
       "18                  seo           facebook   -1                 NDF   \n",
       "19               direct             direct   29                  FR   \n",
       "20               direct             direct   -1                  US   \n",
       "21               direct             direct   30                  US   \n",
       "22                  seo             google   40                  US   \n",
       "23                other         craigslist   -1                 NDF   \n",
       "24                  seo             google   40                 NDF   \n",
       "25                other         craigslist   26                  FR   \n",
       "26                other              other   -1                 NDF   \n",
       "27                other         craigslist   32                  US   \n",
       "28               direct             direct   35                  FR   \n",
       "29               direct             direct   37                  US   \n",
       "...                 ...                ...  ...                 ...   \n",
       "62066            direct             direct   -1                 NaN   \n",
       "62067            direct             direct   48                 NaN   \n",
       "62068               seo             google   -1                 NaN   \n",
       "62069            direct             direct   24                 NaN   \n",
       "62070               seo           facebook   32                 NaN   \n",
       "62071            direct             direct   -1                 NaN   \n",
       "62072            direct             direct   -1                 NaN   \n",
       "62073            direct             direct   -1                 NaN   \n",
       "62074            direct             direct   -1                 NaN   \n",
       "62075         sem-brand             google   40                 NaN   \n",
       "62076               seo           facebook   39                 NaN   \n",
       "62077               seo             google   -1                 NaN   \n",
       "62078               seo             google   -1                 NaN   \n",
       "62079               seo             google   44                 NaN   \n",
       "62080               seo             google   39                 NaN   \n",
       "62081            direct             direct   34                 NaN   \n",
       "62082               seo             google   -1                 NaN   \n",
       "62083            direct             direct   40                 NaN   \n",
       "62084            direct             direct   27                 NaN   \n",
       "62085            direct             direct   24                 NaN   \n",
       "62086            direct             direct   -1                 NaN   \n",
       "62087         sem-brand             google   55                 NaN   \n",
       "62088            direct             direct   34                 NaN   \n",
       "62089            direct             direct   32                 NaN   \n",
       "62090               seo              yahoo   -1                 NaN   \n",
       "62091            direct             direct   31                 NaN   \n",
       "62092            direct             direct   -1                 NaN   \n",
       "62093            direct             direct   -1                 NaN   \n",
       "62094         sem-brand             google   -1                 NaN   \n",
       "62095             other              other   49                 NaN   \n",
       "\n",
       "      date_account_created date_first_booking first_affiliate_tracked  \\\n",
       "0               2010-06-28                NaN               untracked   \n",
       "1               2011-05-25                NaN               untracked   \n",
       "2               2010-09-28         2010-08-02               untracked   \n",
       "3               2011-12-05         2012-09-08               untracked   \n",
       "4               2010-09-14         2010-02-18               untracked   \n",
       "5               2010-01-01         2010-01-02                     omg   \n",
       "6               2010-01-02         2010-01-05               untracked   \n",
       "7               2010-01-03         2010-01-13                     omg   \n",
       "8               2010-01-04         2010-07-29               untracked   \n",
       "9               2010-01-04         2010-01-04                     omg   \n",
       "10              2010-01-04         2010-01-06               untracked   \n",
       "11              2010-01-05                NaN               untracked   \n",
       "12              2010-01-05         2010-01-18                     NaN   \n",
       "13              2010-01-05                NaN                  linked   \n",
       "14              2010-01-07                NaN               untracked   \n",
       "15              2010-01-07         2010-01-08               untracked   \n",
       "16              2010-01-07                NaN                     NaN   \n",
       "17              2010-01-07         2010-01-09                     NaN   \n",
       "18              2010-01-08                NaN                     NaN   \n",
       "19              2010-01-10         2010-01-10               untracked   \n",
       "20              2010-01-10         2010-01-18                     NaN   \n",
       "21              2010-01-10         2010-01-11                  linked   \n",
       "22              2010-01-11         2010-01-11               untracked   \n",
       "23              2010-01-11                NaN               untracked   \n",
       "24              2010-01-11                NaN               untracked   \n",
       "25              2010-01-12         2010-01-15               untracked   \n",
       "26              2010-01-12                NaN               untracked   \n",
       "27              2010-01-12         2010-01-22               untracked   \n",
       "28              2010-01-13         2010-01-13                     NaN   \n",
       "29              2010-01-13         2010-01-19               untracked   \n",
       "...                    ...                ...                     ...   \n",
       "62066           2014-09-30                NaN               untracked   \n",
       "62067           2014-09-30                NaN               untracked   \n",
       "62068           2014-09-30                NaN               untracked   \n",
       "62069           2014-09-30                NaN               untracked   \n",
       "62070           2014-09-30                NaN               untracked   \n",
       "62071           2014-09-30                NaN               untracked   \n",
       "62072           2014-09-30                NaN               untracked   \n",
       "62073           2014-09-30                NaN               untracked   \n",
       "62074           2014-09-30                NaN                  linked   \n",
       "62075           2014-09-30                NaN                     omg   \n",
       "62076           2014-09-30                NaN               untracked   \n",
       "62077           2014-09-30                NaN               untracked   \n",
       "62078           2014-09-30                NaN               untracked   \n",
       "62079           2014-09-30                NaN                  linked   \n",
       "62080           2014-09-30                NaN                  linked   \n",
       "62081           2014-09-30                NaN               untracked   \n",
       "62082           2014-09-30                NaN               untracked   \n",
       "62083           2014-09-30                NaN               untracked   \n",
       "62084           2014-09-30                NaN               untracked   \n",
       "62085           2014-09-30                NaN                  linked   \n",
       "62086           2014-09-30                NaN               untracked   \n",
       "62087           2014-09-30                NaN                     omg   \n",
       "62088           2014-09-30                NaN               untracked   \n",
       "62089           2014-09-30                NaN                  linked   \n",
       "62090           2014-09-30                NaN                  linked   \n",
       "62091           2014-09-30                NaN               untracked   \n",
       "62092           2014-09-30                NaN               untracked   \n",
       "62093           2014-09-30                NaN                  linked   \n",
       "62094           2014-09-30                NaN                     omg   \n",
       "62095           2014-09-30                NaN           tracked-other   \n",
       "\n",
       "       first_browser first_device_type  gender          id language  \\\n",
       "0             Chrome       Mac Desktop     NaN  gxn3p5htnn       en   \n",
       "1             Chrome       Mac Desktop    MALE  820tgsjxq7       en   \n",
       "2                 IE   Windows Desktop  FEMALE  4ft3gnwmtx       en   \n",
       "3            Firefox       Mac Desktop  FEMALE  bjjt8pjhuk       en   \n",
       "4             Chrome       Mac Desktop     NaN  87mebub9p4       en   \n",
       "5             Chrome       Mac Desktop     NaN  osr2jwljor       en   \n",
       "6             Safari       Mac Desktop  FEMALE  lsw9q7uk0j       en   \n",
       "7             Safari       Mac Desktop  FEMALE  0d01nltbrs       en   \n",
       "8             Safari       Mac Desktop  FEMALE  a1vcnhxeij       en   \n",
       "9            Firefox       Mac Desktop     NaN  6uh8zyj2gn       en   \n",
       "10           Firefox       Mac Desktop  FEMALE  yuuqmid2rp       en   \n",
       "11         -unknown-            iPhone  FEMALE  om1ss59ys8       en   \n",
       "12         -unknown-     Other/Unknown     NaN  k6np330cm1       en   \n",
       "13           Firefox       Mac Desktop  FEMALE  dy3rgx56cu       en   \n",
       "14     Mobile Safari            iPhone  FEMALE  ju3h98ch3w       en   \n",
       "15            Chrome   Windows Desktop  FEMALE  v4d5rl22px       en   \n",
       "16         -unknown-     Other/Unknown     NaN  2dwbwkx056       en   \n",
       "17         -unknown-     Other/Unknown     NaN  frhre329au       en   \n",
       "18         -unknown-     Other/Unknown     NaN  cxlg85pg1r       en   \n",
       "19            Chrome       Mac Desktop  FEMALE  gdka1q5ktd       en   \n",
       "20         -unknown-     Other/Unknown     NaN  qdubonn3uk       en   \n",
       "21            Chrome       Mac Desktop    MALE  qsibmuz9sx       en   \n",
       "22         -unknown-            iPhone     NaN  80f7dwscrn       en   \n",
       "23            Safari       Mac Desktop     NaN  jha93x042q       en   \n",
       "24           Firefox       Mac Desktop  FEMALE  7i49vnuav6       en   \n",
       "25            Chrome       Mac Desktop  FEMALE  al8bcetz0g       en   \n",
       "26         -unknown-     Other/Unknown     NaN  bjg0m5otl3       en   \n",
       "27            Chrome   Desktop (Other)  FEMALE  hfrl5gle36       en   \n",
       "28         -unknown-     Other/Unknown     NaN  tp6x3md0n4       en   \n",
       "29         -unknown-    Android Tablet     NaN  hql77nu2lk       en   \n",
       "...              ...               ...     ...         ...      ...   \n",
       "62066      -unknown-     Android Phone     NaN  bsv2ev628t       en   \n",
       "62067         Safari       Mac Desktop  FEMALE  06echc56pl       en   \n",
       "62068        Firefox       Mac Desktop     NaN  niqgaye2ov       en   \n",
       "62069      -unknown-            iPhone  FEMALE  61iwzuhw6e       en   \n",
       "62070  Mobile Safari              iPad  FEMALE  gks02el96u       en   \n",
       "62071  Chrome Mobile     Android Phone     NaN  v4r1161l0r       en   \n",
       "62072      -unknown-     Android Phone     NaN  p1clbqd0o6       en   \n",
       "62073      -unknown-     Android Phone     NaN  ozb2z0km6l       en   \n",
       "62074  Mobile Safari            iPhone     NaN  w3e3sp6i70       en   \n",
       "62075        Firefox   Windows Desktop  FEMALE  q5bxbq0asg       en   \n",
       "62076  Mobile Safari            iPhone    MALE  1xa5t3t0la       en   \n",
       "62077        Firefox       Mac Desktop     NaN  zuvz7gfpjz       en   \n",
       "62078  Mobile Safari              iPad     NaN  gpusl6ppgf       en   \n",
       "62079         Chrome       Mac Desktop    MALE  gpijioh4eh       en   \n",
       "62080        Firefox   Windows Desktop     NaN  3ptlvdxss9       en   \n",
       "62081      -unknown-     Android Phone  FEMALE  f9a1ncjnrg       en   \n",
       "62082         Safari       Mac Desktop     NaN  kofaz2kh70       en   \n",
       "62083      -unknown-     Android Phone    MALE  6xrmom7hjo       en   \n",
       "62084        Firefox       Mac Desktop    MALE  cg9wqgnad2       en   \n",
       "62085  Mobile Safari            iPhone  FEMALE  jg618z94wo       en   \n",
       "62086      -unknown-            iPhone     NaN  u7lv3glv6y       en   \n",
       "62087        Firefox   Windows Desktop    MALE  o6ofmozucx       en   \n",
       "62088         Chrome       Mac Desktop     NaN  wcw7xggeqp       en   \n",
       "62089         Chrome   Windows Desktop    MALE  m22pw2pkxr       en   \n",
       "62090         Chrome   Windows Desktop     NaN  8yvhec201j       en   \n",
       "62091             IE   Windows Desktop     NaN  cv0na2lf5a       en   \n",
       "62092      -unknown-     Android Phone     NaN  zp8xfonng8       ko   \n",
       "62093        Firefox   Windows Desktop     NaN  fa6260ziny       de   \n",
       "62094         Safari       Mac Desktop     NaN  87k0fy4ugm       en   \n",
       "62095         Chrome   Windows Desktop  FEMALE  9uqfg8txu3       en   \n",
       "\n",
       "      signup_app  signup_flow signup_method timestamp_first_active  \n",
       "0            Web            0      facebook    2009-03-19 04:32:55  \n",
       "1            Web            0      facebook    2009-05-23 17:48:09  \n",
       "2            Web            3         basic    2009-06-09 23:12:47  \n",
       "3            Web            0      facebook    2009-10-31 06:01:29  \n",
       "4            Web            0         basic    2009-12-08 06:11:05  \n",
       "5            Web            0         basic    2010-01-01 21:56:19  \n",
       "6            Web            0         basic    2010-01-02 01:25:58  \n",
       "7            Web            0         basic    2010-01-03 19:19:05  \n",
       "8            Web            0         basic    2010-01-04 00:42:11  \n",
       "9            Web            0         basic    2010-01-04 02:37:58  \n",
       "10           Web            0         basic    2010-01-04 19:42:51  \n",
       "11           Web            0         basic    2010-01-05 05:18:12  \n",
       "12           Web            0         basic    2010-01-05 06:08:59  \n",
       "13           Web            0         basic    2010-01-05 08:32:59  \n",
       "14           Web            0         basic    2010-01-07 05:58:20  \n",
       "15           Web            0         basic    2010-01-07 20:45:55  \n",
       "16           Web            0         basic    2010-01-07 21:51:25  \n",
       "17           Web            0         basic    2010-01-07 22:46:25  \n",
       "18           Web            0         basic    2010-01-08 01:56:41  \n",
       "19           Web            0         basic    2010-01-10 01:08:17  \n",
       "20           Web            0         basic    2010-01-10 15:21:20  \n",
       "21           Web            0         basic    2010-01-10 22:09:41  \n",
       "22           Web            0         basic    2010-01-11 03:14:38  \n",
       "23           Web            0         basic    2010-01-11 22:40:15  \n",
       "24           Web            0         basic    2010-01-11 23:08:08  \n",
       "25           Web            0         basic    2010-01-12 13:14:44  \n",
       "26           Web            0         basic    2010-01-12 15:54:20  \n",
       "27           Web            0         basic    2010-01-12 20:59:49  \n",
       "28           Web            0         basic    2010-01-13 04:46:50  \n",
       "29           Web            0         basic    2010-01-13 06:43:33  \n",
       "...          ...          ...           ...                    ...  \n",
       "62066    Android           12        google    2014-09-30 23:14:54  \n",
       "62067        Web            0         basic    2014-09-30 23:15:18  \n",
       "62068        Web            0         basic    2014-09-30 23:19:52  \n",
       "62069        iOS           25      facebook    2014-09-30 23:21:26  \n",
       "62070        Web            0      facebook    2014-09-30 23:22:37  \n",
       "62071      Moweb            0         basic    2014-09-30 23:22:53  \n",
       "62072    Android           23         basic    2014-09-30 23:23:31  \n",
       "62073    Android           23         basic    2014-09-30 23:25:07  \n",
       "62074      Moweb            0         basic    2014-09-30 23:25:51  \n",
       "62075        Web            0      facebook    2014-09-30 23:26:13  \n",
       "62076        Web            0      facebook    2014-09-30 23:31:13  \n",
       "62077        Web            0         basic    2014-09-30 23:33:05  \n",
       "62078        Web            0         basic    2014-09-30 23:35:35  \n",
       "62079        Web            0         basic    2014-09-30 23:39:02  \n",
       "62080        Web            0         basic    2014-09-30 23:41:28  \n",
       "62081    Android           23      facebook    2014-09-30 23:44:25  \n",
       "62082        Web            0         basic    2014-09-30 23:45:15  \n",
       "62083    Android           23      facebook    2014-09-30 23:45:51  \n",
       "62084        Web            0      facebook    2014-09-30 23:46:12  \n",
       "62085        Web            0      facebook    2014-09-30 23:46:17  \n",
       "62086        iOS           25         basic    2014-09-30 23:47:03  \n",
       "62087        Web            0         basic    2014-09-30 23:47:51  \n",
       "62088        Web            0         basic    2014-09-30 23:49:04  \n",
       "62089        Web            0         basic    2014-09-30 23:50:00  \n",
       "62090        Web            0         basic    2014-09-30 23:50:19  \n",
       "62091        Web            0         basic    2014-09-30 23:52:32  \n",
       "62092    Android           23         basic    2014-09-30 23:53:06  \n",
       "62093        Web            0         basic    2014-09-30 23:54:08  \n",
       "62094        Web            0         basic    2014-09-30 23:54:30  \n",
       "62095        Web            0         basic    2014-09-30 23:59:01  \n",
       "\n",
       "[275547 rows x 16 columns]"
      ]
     },
     "execution_count": 18,
     "metadata": {},
     "output_type": "execute_result"
    }
   ],
   "source": [
    "users.fillna({'age':-1}, inplace=True)"
   ]
  },
  {
   "cell_type": "code",
   "execution_count": 19,
   "metadata": {
    "collapsed": false
   },
   "outputs": [
    {
     "data": {
      "text/html": [
       "<div>\n",
       "<table border=\"1\" class=\"dataframe\">\n",
       "  <thead>\n",
       "    <tr style=\"text-align: right;\">\n",
       "      <th></th>\n",
       "      <th>affiliate_channel</th>\n",
       "      <th>affiliate_provider</th>\n",
       "      <th>age</th>\n",
       "      <th>country_destination</th>\n",
       "      <th>date_account_created</th>\n",
       "      <th>date_first_booking</th>\n",
       "      <th>first_affiliate_tracked</th>\n",
       "      <th>first_browser</th>\n",
       "      <th>first_device_type</th>\n",
       "      <th>gender</th>\n",
       "      <th>id</th>\n",
       "      <th>language</th>\n",
       "      <th>signup_app</th>\n",
       "      <th>signup_flow</th>\n",
       "      <th>signup_method</th>\n",
       "      <th>timestamp_first_active</th>\n",
       "    </tr>\n",
       "  </thead>\n",
       "  <tbody>\n",
       "    <tr>\n",
       "      <th>0</th>\n",
       "      <td>direct</td>\n",
       "      <td>direct</td>\n",
       "      <td>-1</td>\n",
       "      <td>NDF</td>\n",
       "      <td>2010-06-28</td>\n",
       "      <td>NaN</td>\n",
       "      <td>untracked</td>\n",
       "      <td>Chrome</td>\n",
       "      <td>Mac Desktop</td>\n",
       "      <td>NaN</td>\n",
       "      <td>gxn3p5htnn</td>\n",
       "      <td>en</td>\n",
       "      <td>Web</td>\n",
       "      <td>0</td>\n",
       "      <td>facebook</td>\n",
       "      <td>2009-03-19 04:32:55</td>\n",
       "    </tr>\n",
       "    <tr>\n",
       "      <th>1</th>\n",
       "      <td>seo</td>\n",
       "      <td>google</td>\n",
       "      <td>38</td>\n",
       "      <td>NDF</td>\n",
       "      <td>2011-05-25</td>\n",
       "      <td>NaN</td>\n",
       "      <td>untracked</td>\n",
       "      <td>Chrome</td>\n",
       "      <td>Mac Desktop</td>\n",
       "      <td>MALE</td>\n",
       "      <td>820tgsjxq7</td>\n",
       "      <td>en</td>\n",
       "      <td>Web</td>\n",
       "      <td>0</td>\n",
       "      <td>facebook</td>\n",
       "      <td>2009-05-23 17:48:09</td>\n",
       "    </tr>\n",
       "    <tr>\n",
       "      <th>2</th>\n",
       "      <td>direct</td>\n",
       "      <td>direct</td>\n",
       "      <td>56</td>\n",
       "      <td>US</td>\n",
       "      <td>2010-09-28</td>\n",
       "      <td>2010-08-02</td>\n",
       "      <td>untracked</td>\n",
       "      <td>IE</td>\n",
       "      <td>Windows Desktop</td>\n",
       "      <td>FEMALE</td>\n",
       "      <td>4ft3gnwmtx</td>\n",
       "      <td>en</td>\n",
       "      <td>Web</td>\n",
       "      <td>3</td>\n",
       "      <td>basic</td>\n",
       "      <td>2009-06-09 23:12:47</td>\n",
       "    </tr>\n",
       "    <tr>\n",
       "      <th>3</th>\n",
       "      <td>direct</td>\n",
       "      <td>direct</td>\n",
       "      <td>42</td>\n",
       "      <td>other</td>\n",
       "      <td>2011-12-05</td>\n",
       "      <td>2012-09-08</td>\n",
       "      <td>untracked</td>\n",
       "      <td>Firefox</td>\n",
       "      <td>Mac Desktop</td>\n",
       "      <td>FEMALE</td>\n",
       "      <td>bjjt8pjhuk</td>\n",
       "      <td>en</td>\n",
       "      <td>Web</td>\n",
       "      <td>0</td>\n",
       "      <td>facebook</td>\n",
       "      <td>2009-10-31 06:01:29</td>\n",
       "    </tr>\n",
       "    <tr>\n",
       "      <th>4</th>\n",
       "      <td>direct</td>\n",
       "      <td>direct</td>\n",
       "      <td>41</td>\n",
       "      <td>US</td>\n",
       "      <td>2010-09-14</td>\n",
       "      <td>2010-02-18</td>\n",
       "      <td>untracked</td>\n",
       "      <td>Chrome</td>\n",
       "      <td>Mac Desktop</td>\n",
       "      <td>NaN</td>\n",
       "      <td>87mebub9p4</td>\n",
       "      <td>en</td>\n",
       "      <td>Web</td>\n",
       "      <td>0</td>\n",
       "      <td>basic</td>\n",
       "      <td>2009-12-08 06:11:05</td>\n",
       "    </tr>\n",
       "  </tbody>\n",
       "</table>\n",
       "</div>"
      ],
      "text/plain": [
       "  affiliate_channel affiliate_provider  age country_destination  \\\n",
       "0            direct             direct   -1                 NDF   \n",
       "1               seo             google   38                 NDF   \n",
       "2            direct             direct   56                  US   \n",
       "3            direct             direct   42               other   \n",
       "4            direct             direct   41                  US   \n",
       "\n",
       "  date_account_created date_first_booking first_affiliate_tracked  \\\n",
       "0           2010-06-28                NaN               untracked   \n",
       "1           2011-05-25                NaN               untracked   \n",
       "2           2010-09-28         2010-08-02               untracked   \n",
       "3           2011-12-05         2012-09-08               untracked   \n",
       "4           2010-09-14         2010-02-18               untracked   \n",
       "\n",
       "  first_browser first_device_type  gender          id language signup_app  \\\n",
       "0        Chrome       Mac Desktop     NaN  gxn3p5htnn       en        Web   \n",
       "1        Chrome       Mac Desktop    MALE  820tgsjxq7       en        Web   \n",
       "2            IE   Windows Desktop  FEMALE  4ft3gnwmtx       en        Web   \n",
       "3       Firefox       Mac Desktop  FEMALE  bjjt8pjhuk       en        Web   \n",
       "4        Chrome       Mac Desktop     NaN  87mebub9p4       en        Web   \n",
       "\n",
       "   signup_flow signup_method timestamp_first_active  \n",
       "0            0      facebook    2009-03-19 04:32:55  \n",
       "1            0      facebook    2009-05-23 17:48:09  \n",
       "2            3         basic    2009-06-09 23:12:47  \n",
       "3            0      facebook    2009-10-31 06:01:29  \n",
       "4            0         basic    2009-12-08 06:11:05  "
      ]
     },
     "execution_count": 19,
     "metadata": {},
     "output_type": "execute_result"
    }
   ],
   "source": [
    "users.head()"
   ]
  },
  {
   "cell_type": "code",
   "execution_count": 20,
   "metadata": {
    "collapsed": false
   },
   "outputs": [],
   "source": [
    "# Extract Date Features\n",
    "import datetime as dt\n",
    "users['day_account_created'] = users['date_account_created'].dt.weekday\n",
    "users['month_account_created'] = users['date_account_created'].dt.month\n",
    "users['quarter_account_created'] = users['date_account_created'].dt.quarter\n",
    "users['year_account_created'] = users['date_account_created'].dt.year\n",
    "users['hour_first_active'] = users['timestamp_first_active'].dt.hour\n",
    "users['day_first_active'] = users['timestamp_first_active'].dt.weekday\n",
    "users['month_first_active'] = users['timestamp_first_active'].dt.month\n",
    "users['quarter_first_active'] = users['timestamp_first_active'].dt.quarter\n",
    "users['year_first_active'] = users['timestamp_first_active'].dt.year\n",
    "users['created_less_active'] = (users['date_account_created'] - users['timestamp_first_active']).dt.days"
   ]
  },
  {
   "cell_type": "code",
   "execution_count": 21,
   "metadata": {
    "collapsed": false
   },
   "outputs": [
    {
     "data": {
      "text/plain": [
       "(275547, 26)"
      ]
     },
     "execution_count": 21,
     "metadata": {},
     "output_type": "execute_result"
    }
   ],
   "source": [
    "users.shape"
   ]
  },
  {
   "cell_type": "code",
   "execution_count": 22,
   "metadata": {
    "collapsed": false
   },
   "outputs": [
    {
     "data": {
      "text/plain": [
       "Index([u'affiliate_channel', u'affiliate_provider', u'age',\n",
       "       u'country_destination', u'date_account_created', u'date_first_booking',\n",
       "       u'first_affiliate_tracked', u'first_browser', u'first_device_type',\n",
       "       u'gender', u'id', u'language', u'signup_app', u'signup_flow',\n",
       "       u'signup_method', u'timestamp_first_active', u'day_account_created',\n",
       "       u'month_account_created', u'quarter_account_created',\n",
       "       u'year_account_created', u'hour_first_active', u'day_first_active',\n",
       "       u'month_first_active', u'quarter_first_active', u'year_first_active',\n",
       "       u'created_less_active'],\n",
       "      dtype='object')"
      ]
     },
     "execution_count": 22,
     "metadata": {},
     "output_type": "execute_result"
    }
   ],
   "source": [
    "users.columns"
   ]
  },
  {
   "cell_type": "code",
   "execution_count": 23,
   "metadata": {
    "collapsed": false
   },
   "outputs": [
    {
     "data": {
      "text/plain": [
       "affiliate_channel               0\n",
       "affiliate_provider              0\n",
       "age                             0\n",
       "country_destination         62096\n",
       "date_account_created            0\n",
       "date_first_booking         186639\n",
       "first_affiliate_tracked      6085\n",
       "first_browser                   0\n",
       "first_device_type               0\n",
       "gender                     129480\n",
       "id                              0\n",
       "language                        0\n",
       "signup_app                      0\n",
       "signup_flow                     0\n",
       "signup_method                   0\n",
       "timestamp_first_active          0\n",
       "day_account_created             0\n",
       "month_account_created           0\n",
       "quarter_account_created         0\n",
       "year_account_created            0\n",
       "hour_first_active               0\n",
       "day_first_active                0\n",
       "month_first_active              0\n",
       "quarter_first_active            0\n",
       "year_first_active               0\n",
       "created_less_active             0\n",
       "dtype: int64"
      ]
     },
     "execution_count": 23,
     "metadata": {},
     "output_type": "execute_result"
    }
   ],
   "source": [
    "users.isnull().sum()"
   ]
  },
  {
   "cell_type": "code",
   "execution_count": 24,
   "metadata": {
    "collapsed": false
   },
   "outputs": [
    {
     "data": {
      "text/html": [
       "<div>\n",
       "<table border=\"1\" class=\"dataframe\">\n",
       "  <thead>\n",
       "    <tr style=\"text-align: right;\">\n",
       "      <th></th>\n",
       "      <th>affiliate_channel</th>\n",
       "      <th>affiliate_provider</th>\n",
       "      <th>age</th>\n",
       "      <th>country_destination</th>\n",
       "      <th>date_account_created</th>\n",
       "      <th>date_first_booking</th>\n",
       "      <th>first_affiliate_tracked</th>\n",
       "      <th>first_browser</th>\n",
       "      <th>first_device_type</th>\n",
       "      <th>gender</th>\n",
       "      <th>...</th>\n",
       "      <th>day_account_created</th>\n",
       "      <th>month_account_created</th>\n",
       "      <th>quarter_account_created</th>\n",
       "      <th>year_account_created</th>\n",
       "      <th>hour_first_active</th>\n",
       "      <th>day_first_active</th>\n",
       "      <th>month_first_active</th>\n",
       "      <th>quarter_first_active</th>\n",
       "      <th>year_first_active</th>\n",
       "      <th>created_less_active</th>\n",
       "    </tr>\n",
       "  </thead>\n",
       "  <tbody>\n",
       "    <tr>\n",
       "      <th>0</th>\n",
       "      <td>direct</td>\n",
       "      <td>direct</td>\n",
       "      <td>-1</td>\n",
       "      <td>NDF</td>\n",
       "      <td>2010-06-28</td>\n",
       "      <td>NaN</td>\n",
       "      <td>untracked</td>\n",
       "      <td>Chrome</td>\n",
       "      <td>Mac Desktop</td>\n",
       "      <td>NaN</td>\n",
       "      <td>...</td>\n",
       "      <td>0</td>\n",
       "      <td>6</td>\n",
       "      <td>2</td>\n",
       "      <td>2010</td>\n",
       "      <td>4</td>\n",
       "      <td>3</td>\n",
       "      <td>3</td>\n",
       "      <td>1</td>\n",
       "      <td>2009</td>\n",
       "      <td>465</td>\n",
       "    </tr>\n",
       "    <tr>\n",
       "      <th>0</th>\n",
       "      <td>direct</td>\n",
       "      <td>direct</td>\n",
       "      <td>35</td>\n",
       "      <td>NaN</td>\n",
       "      <td>2014-07-01</td>\n",
       "      <td>NaN</td>\n",
       "      <td>untracked</td>\n",
       "      <td>Mobile Safari</td>\n",
       "      <td>iPhone</td>\n",
       "      <td>FEMALE</td>\n",
       "      <td>...</td>\n",
       "      <td>1</td>\n",
       "      <td>7</td>\n",
       "      <td>3</td>\n",
       "      <td>2014</td>\n",
       "      <td>0</td>\n",
       "      <td>1</td>\n",
       "      <td>7</td>\n",
       "      <td>3</td>\n",
       "      <td>2014</td>\n",
       "      <td>-1</td>\n",
       "    </tr>\n",
       "  </tbody>\n",
       "</table>\n",
       "<p>2 rows × 26 columns</p>\n",
       "</div>"
      ],
      "text/plain": [
       "  affiliate_channel affiliate_provider  age country_destination  \\\n",
       "0            direct             direct   -1                 NDF   \n",
       "0            direct             direct   35                 NaN   \n",
       "\n",
       "  date_account_created date_first_booking first_affiliate_tracked  \\\n",
       "0           2010-06-28                NaN               untracked   \n",
       "0           2014-07-01                NaN               untracked   \n",
       "\n",
       "   first_browser first_device_type  gender         ...           \\\n",
       "0         Chrome       Mac Desktop     NaN         ...            \n",
       "0  Mobile Safari            iPhone  FEMALE         ...            \n",
       "\n",
       "  day_account_created month_account_created quarter_account_created  \\\n",
       "0                   0                     6                       2   \n",
       "0                   1                     7                       3   \n",
       "\n",
       "   year_account_created hour_first_active day_first_active  \\\n",
       "0                  2010                 4                3   \n",
       "0                  2014                 0                1   \n",
       "\n",
       "   month_first_active  quarter_first_active  year_first_active  \\\n",
       "0                   3                     1               2009   \n",
       "0                   7                     3               2014   \n",
       "\n",
       "   created_less_active  \n",
       "0                  465  \n",
       "0                   -1  \n",
       "\n",
       "[2 rows x 26 columns]"
      ]
     },
     "execution_count": 24,
     "metadata": {},
     "output_type": "execute_result"
    }
   ],
   "source": [
    "users.ix[0,:]"
   ]
  },
  {
   "cell_type": "code",
   "execution_count": 25,
   "metadata": {
    "collapsed": false
   },
   "outputs": [
    {
     "data": {
      "text/plain": [
       "275547"
      ]
     },
     "execution_count": 25,
     "metadata": {},
     "output_type": "execute_result"
    }
   ],
   "source": [
    "len(users.id.unique())"
   ]
  },
  {
   "cell_type": "code",
   "execution_count": 26,
   "metadata": {
    "collapsed": true
   },
   "outputs": [],
   "source": [
    "t_users = users.copy()"
   ]
  },
  {
   "cell_type": "code",
   "execution_count": 27,
   "metadata": {
    "collapsed": true
   },
   "outputs": [],
   "source": [
    "t_users = t_users.set_index('id')"
   ]
  },
  {
   "cell_type": "code",
   "execution_count": 28,
   "metadata": {
    "collapsed": false
   },
   "outputs": [
    {
     "data": {
      "text/plain": [
       "['affiliate_channel',\n",
       " 'affiliate_provider',\n",
       " 'age',\n",
       " 'country_destination',\n",
       " 'date_account_created',\n",
       " 'date_first_booking',\n",
       " 'first_affiliate_tracked',\n",
       " 'first_browser',\n",
       " 'first_device_type',\n",
       " 'gender',\n",
       " 'language',\n",
       " 'signup_app',\n",
       " 'signup_flow',\n",
       " 'signup_method',\n",
       " 'timestamp_first_active',\n",
       " 'day_account_created',\n",
       " 'month_account_created',\n",
       " 'quarter_account_created',\n",
       " 'year_account_created',\n",
       " 'hour_first_active',\n",
       " 'day_first_active',\n",
       " 'month_first_active',\n",
       " 'quarter_first_active',\n",
       " 'year_first_active',\n",
       " 'created_less_active']"
      ]
     },
     "execution_count": 28,
     "metadata": {},
     "output_type": "execute_result"
    }
   ],
   "source": [
    "t_users.columns.tolist()"
   ]
  },
  {
   "cell_type": "code",
   "execution_count": 29,
   "metadata": {
    "collapsed": false
   },
   "outputs": [
    {
     "name": "stdout",
     "output_type": "stream",
     "text": [
      "affiliate_channel object\n",
      "affiliate_provider object\n",
      "age float64\n",
      "country_destination object\n",
      "date_account_created datetime64[ns]\n",
      "date_first_booking object\n",
      "first_affiliate_tracked object\n",
      "first_browser object\n",
      "first_device_type object\n",
      "gender object\n",
      "language object\n",
      "signup_app object\n",
      "signup_flow int64\n",
      "signup_method object\n",
      "timestamp_first_active datetime64[ns]\n",
      "day_account_created int64\n",
      "month_account_created int64\n",
      "quarter_account_created int64\n",
      "year_account_created int64\n",
      "hour_first_active int64\n",
      "day_first_active int64\n",
      "month_first_active int64\n",
      "quarter_first_active int64\n",
      "year_first_active int64\n",
      "created_less_active int64\n",
      "25\n"
     ]
    }
   ],
   "source": [
    "for col in t_users.columns:\n",
    "    print col, t_users[col].dtype\n",
    "    #print t_users[col].value_counts()\n",
    "print len(t_users.columns)"
   ]
  },
  {
   "cell_type": "code",
   "execution_count": 30,
   "metadata": {
    "collapsed": false
   },
   "outputs": [],
   "source": [
    "cat_features = ['affiliate_channel',\n",
    " 'affiliate_provider',\n",
    " 'first_affiliate_tracked',\n",
    " 'first_browser',\n",
    " 'first_device_type',\n",
    " 'gender',\n",
    " 'language',\n",
    " 'signup_app',\n",
    " 'signup_flow',\n",
    " 'signup_method']\n",
    "num_features = ['day_account_created',\n",
    " 'month_account_created',\n",
    " 'quarter_account_created',\n",
    " 'year_account_created',\n",
    " 'hour_first_active',\n",
    " 'day_first_active',\n",
    " 'month_first_active',\n",
    " 'quarter_first_active',\n",
    " 'year_first_active',\n",
    " 'created_less_active']\n",
    "target = ['country_destination']"
   ]
  },
  {
   "cell_type": "code",
   "execution_count": 31,
   "metadata": {
    "collapsed": false
   },
   "outputs": [],
   "source": [
    "encode_users = pd.get_dummies(t_users[cat_features])"
   ]
  },
  {
   "cell_type": "code",
   "execution_count": 32,
   "metadata": {
    "collapsed": false
   },
   "outputs": [
    {
     "data": {
      "text/plain": [
       "((275547, 135), (275547, 10))"
      ]
     },
     "execution_count": 32,
     "metadata": {},
     "output_type": "execute_result"
    }
   ],
   "source": [
    "encode_users.shape, t_users[num_features].shape"
   ]
  },
  {
   "cell_type": "code",
   "execution_count": 33,
   "metadata": {
    "collapsed": false
   },
   "outputs": [],
   "source": [
    "df_users = pd.merge(t_users[num_features], encode_users, how='inner', left_index=True, right_index=True)"
   ]
  },
  {
   "cell_type": "code",
   "execution_count": 34,
   "metadata": {
    "collapsed": false
   },
   "outputs": [
    {
     "data": {
      "text/plain": [
       "(275547, 145)"
      ]
     },
     "execution_count": 34,
     "metadata": {},
     "output_type": "execute_result"
    }
   ],
   "source": [
    "df_users.shape"
   ]
  },
  {
   "cell_type": "code",
   "execution_count": 35,
   "metadata": {
    "collapsed": false
   },
   "outputs": [
    {
     "data": {
      "text/html": [
       "<div>\n",
       "<table border=\"1\" class=\"dataframe\">\n",
       "  <thead>\n",
       "    <tr style=\"text-align: right;\">\n",
       "      <th></th>\n",
       "      <th>day_account_created</th>\n",
       "      <th>month_account_created</th>\n",
       "      <th>quarter_account_created</th>\n",
       "      <th>year_account_created</th>\n",
       "      <th>hour_first_active</th>\n",
       "      <th>day_first_active</th>\n",
       "      <th>month_first_active</th>\n",
       "      <th>quarter_first_active</th>\n",
       "      <th>year_first_active</th>\n",
       "      <th>created_less_active</th>\n",
       "      <th>...</th>\n",
       "      <th>language_tr</th>\n",
       "      <th>language_zh</th>\n",
       "      <th>signup_app_Android</th>\n",
       "      <th>signup_app_Moweb</th>\n",
       "      <th>signup_app_Web</th>\n",
       "      <th>signup_app_iOS</th>\n",
       "      <th>signup_method_basic</th>\n",
       "      <th>signup_method_facebook</th>\n",
       "      <th>signup_method_google</th>\n",
       "      <th>signup_method_weibo</th>\n",
       "    </tr>\n",
       "    <tr>\n",
       "      <th>id</th>\n",
       "      <th></th>\n",
       "      <th></th>\n",
       "      <th></th>\n",
       "      <th></th>\n",
       "      <th></th>\n",
       "      <th></th>\n",
       "      <th></th>\n",
       "      <th></th>\n",
       "      <th></th>\n",
       "      <th></th>\n",
       "      <th></th>\n",
       "      <th></th>\n",
       "      <th></th>\n",
       "      <th></th>\n",
       "      <th></th>\n",
       "      <th></th>\n",
       "      <th></th>\n",
       "      <th></th>\n",
       "      <th></th>\n",
       "      <th></th>\n",
       "      <th></th>\n",
       "    </tr>\n",
       "  </thead>\n",
       "  <tbody>\n",
       "    <tr>\n",
       "      <th>gxn3p5htnn</th>\n",
       "      <td>0</td>\n",
       "      <td>6</td>\n",
       "      <td>2</td>\n",
       "      <td>2010</td>\n",
       "      <td>4</td>\n",
       "      <td>3</td>\n",
       "      <td>3</td>\n",
       "      <td>1</td>\n",
       "      <td>2009</td>\n",
       "      <td>465</td>\n",
       "      <td>...</td>\n",
       "      <td>0</td>\n",
       "      <td>0</td>\n",
       "      <td>0</td>\n",
       "      <td>0</td>\n",
       "      <td>1</td>\n",
       "      <td>0</td>\n",
       "      <td>0</td>\n",
       "      <td>1</td>\n",
       "      <td>0</td>\n",
       "      <td>0</td>\n",
       "    </tr>\n",
       "    <tr>\n",
       "      <th>820tgsjxq7</th>\n",
       "      <td>2</td>\n",
       "      <td>5</td>\n",
       "      <td>2</td>\n",
       "      <td>2011</td>\n",
       "      <td>17</td>\n",
       "      <td>5</td>\n",
       "      <td>5</td>\n",
       "      <td>2</td>\n",
       "      <td>2009</td>\n",
       "      <td>731</td>\n",
       "      <td>...</td>\n",
       "      <td>0</td>\n",
       "      <td>0</td>\n",
       "      <td>0</td>\n",
       "      <td>0</td>\n",
       "      <td>1</td>\n",
       "      <td>0</td>\n",
       "      <td>0</td>\n",
       "      <td>1</td>\n",
       "      <td>0</td>\n",
       "      <td>0</td>\n",
       "    </tr>\n",
       "    <tr>\n",
       "      <th>4ft3gnwmtx</th>\n",
       "      <td>1</td>\n",
       "      <td>9</td>\n",
       "      <td>3</td>\n",
       "      <td>2010</td>\n",
       "      <td>23</td>\n",
       "      <td>1</td>\n",
       "      <td>6</td>\n",
       "      <td>2</td>\n",
       "      <td>2009</td>\n",
       "      <td>475</td>\n",
       "      <td>...</td>\n",
       "      <td>0</td>\n",
       "      <td>0</td>\n",
       "      <td>0</td>\n",
       "      <td>0</td>\n",
       "      <td>1</td>\n",
       "      <td>0</td>\n",
       "      <td>1</td>\n",
       "      <td>0</td>\n",
       "      <td>0</td>\n",
       "      <td>0</td>\n",
       "    </tr>\n",
       "    <tr>\n",
       "      <th>bjjt8pjhuk</th>\n",
       "      <td>0</td>\n",
       "      <td>12</td>\n",
       "      <td>4</td>\n",
       "      <td>2011</td>\n",
       "      <td>6</td>\n",
       "      <td>5</td>\n",
       "      <td>10</td>\n",
       "      <td>4</td>\n",
       "      <td>2009</td>\n",
       "      <td>764</td>\n",
       "      <td>...</td>\n",
       "      <td>0</td>\n",
       "      <td>0</td>\n",
       "      <td>0</td>\n",
       "      <td>0</td>\n",
       "      <td>1</td>\n",
       "      <td>0</td>\n",
       "      <td>0</td>\n",
       "      <td>1</td>\n",
       "      <td>0</td>\n",
       "      <td>0</td>\n",
       "    </tr>\n",
       "    <tr>\n",
       "      <th>87mebub9p4</th>\n",
       "      <td>1</td>\n",
       "      <td>9</td>\n",
       "      <td>3</td>\n",
       "      <td>2010</td>\n",
       "      <td>6</td>\n",
       "      <td>1</td>\n",
       "      <td>12</td>\n",
       "      <td>4</td>\n",
       "      <td>2009</td>\n",
       "      <td>279</td>\n",
       "      <td>...</td>\n",
       "      <td>0</td>\n",
       "      <td>0</td>\n",
       "      <td>0</td>\n",
       "      <td>0</td>\n",
       "      <td>1</td>\n",
       "      <td>0</td>\n",
       "      <td>1</td>\n",
       "      <td>0</td>\n",
       "      <td>0</td>\n",
       "      <td>0</td>\n",
       "    </tr>\n",
       "  </tbody>\n",
       "</table>\n",
       "<p>5 rows × 145 columns</p>\n",
       "</div>"
      ],
      "text/plain": [
       "            day_account_created  month_account_created  \\\n",
       "id                                                       \n",
       "gxn3p5htnn                    0                      6   \n",
       "820tgsjxq7                    2                      5   \n",
       "4ft3gnwmtx                    1                      9   \n",
       "bjjt8pjhuk                    0                     12   \n",
       "87mebub9p4                    1                      9   \n",
       "\n",
       "            quarter_account_created  year_account_created  hour_first_active  \\\n",
       "id                                                                             \n",
       "gxn3p5htnn                        2                  2010                  4   \n",
       "820tgsjxq7                        2                  2011                 17   \n",
       "4ft3gnwmtx                        3                  2010                 23   \n",
       "bjjt8pjhuk                        4                  2011                  6   \n",
       "87mebub9p4                        3                  2010                  6   \n",
       "\n",
       "            day_first_active  month_first_active  quarter_first_active  \\\n",
       "id                                                                       \n",
       "gxn3p5htnn                 3                   3                     1   \n",
       "820tgsjxq7                 5                   5                     2   \n",
       "4ft3gnwmtx                 1                   6                     2   \n",
       "bjjt8pjhuk                 5                  10                     4   \n",
       "87mebub9p4                 1                  12                     4   \n",
       "\n",
       "            year_first_active  created_less_active         ...           \\\n",
       "id                                                         ...            \n",
       "gxn3p5htnn               2009                  465         ...            \n",
       "820tgsjxq7               2009                  731         ...            \n",
       "4ft3gnwmtx               2009                  475         ...            \n",
       "bjjt8pjhuk               2009                  764         ...            \n",
       "87mebub9p4               2009                  279         ...            \n",
       "\n",
       "            language_tr  language_zh  signup_app_Android  signup_app_Moweb  \\\n",
       "id                                                                           \n",
       "gxn3p5htnn            0            0                   0                 0   \n",
       "820tgsjxq7            0            0                   0                 0   \n",
       "4ft3gnwmtx            0            0                   0                 0   \n",
       "bjjt8pjhuk            0            0                   0                 0   \n",
       "87mebub9p4            0            0                   0                 0   \n",
       "\n",
       "            signup_app_Web  signup_app_iOS  signup_method_basic  \\\n",
       "id                                                                \n",
       "gxn3p5htnn               1               0                    0   \n",
       "820tgsjxq7               1               0                    0   \n",
       "4ft3gnwmtx               1               0                    1   \n",
       "bjjt8pjhuk               1               0                    0   \n",
       "87mebub9p4               1               0                    1   \n",
       "\n",
       "            signup_method_facebook  signup_method_google  signup_method_weibo  \n",
       "id                                                                             \n",
       "gxn3p5htnn                       1                     0                    0  \n",
       "820tgsjxq7                       1                     0                    0  \n",
       "4ft3gnwmtx                       0                     0                    0  \n",
       "bjjt8pjhuk                       1                     0                    0  \n",
       "87mebub9p4                       0                     0                    0  \n",
       "\n",
       "[5 rows x 145 columns]"
      ]
     },
     "execution_count": 35,
     "metadata": {},
     "output_type": "execute_result"
    }
   ],
   "source": [
    "df_users.head()"
   ]
  },
  {
   "cell_type": "code",
   "execution_count": 36,
   "metadata": {
    "collapsed": true
   },
   "outputs": [],
   "source": [
    "# Join/Merge with session data\n",
    "user_devices = pd.read_csv('./data/user_devices.csv')\n",
    "user_session = pd.read_csv('./data/user_session.csv')"
   ]
  },
  {
   "cell_type": "code",
   "execution_count": 37,
   "metadata": {
    "collapsed": false
   },
   "outputs": [
    {
     "data": {
      "text/plain": [
       "((135483, 15), (135478, 11), (275547, 145))"
      ]
     },
     "execution_count": 37,
     "metadata": {},
     "output_type": "execute_result"
    }
   ],
   "source": [
    "user_devices.shape, user_session.shape, df_users.shape"
   ]
  },
  {
   "cell_type": "code",
   "execution_count": 38,
   "metadata": {
    "collapsed": false
   },
   "outputs": [
    {
     "data": {
      "text/plain": [
       "Index([u'user_id', u'-unknown-', u'Android App Unknown Phone/Tablet',\n",
       "       u'Android Phone', u'Blackberry', u'Chromebook', u'Linux Desktop',\n",
       "       u'Mac Desktop', u'Opera Phone', u'Tablet', u'Windows Desktop',\n",
       "       u'Windows Phone', u'iPad Tablet', u'iPhone', u'iPodtouch'],\n",
       "      dtype='object')"
      ]
     },
     "execution_count": 38,
     "metadata": {},
     "output_type": "execute_result"
    }
   ],
   "source": [
    "user_devices.columns"
   ]
  },
  {
   "cell_type": "code",
   "execution_count": 39,
   "metadata": {
    "collapsed": true
   },
   "outputs": [],
   "source": [
    "df_users = df_users.reset_index()"
   ]
  },
  {
   "cell_type": "code",
   "execution_count": 40,
   "metadata": {
    "collapsed": false
   },
   "outputs": [
    {
     "data": {
      "text/html": [
       "<div>\n",
       "<table border=\"1\" class=\"dataframe\">\n",
       "  <thead>\n",
       "    <tr style=\"text-align: right;\">\n",
       "      <th></th>\n",
       "      <th>id</th>\n",
       "      <th>day_account_created</th>\n",
       "      <th>month_account_created</th>\n",
       "      <th>quarter_account_created</th>\n",
       "      <th>year_account_created</th>\n",
       "      <th>hour_first_active</th>\n",
       "      <th>day_first_active</th>\n",
       "      <th>month_first_active</th>\n",
       "      <th>quarter_first_active</th>\n",
       "      <th>year_first_active</th>\n",
       "      <th>...</th>\n",
       "      <th>language_tr</th>\n",
       "      <th>language_zh</th>\n",
       "      <th>signup_app_Android</th>\n",
       "      <th>signup_app_Moweb</th>\n",
       "      <th>signup_app_Web</th>\n",
       "      <th>signup_app_iOS</th>\n",
       "      <th>signup_method_basic</th>\n",
       "      <th>signup_method_facebook</th>\n",
       "      <th>signup_method_google</th>\n",
       "      <th>signup_method_weibo</th>\n",
       "    </tr>\n",
       "  </thead>\n",
       "  <tbody>\n",
       "    <tr>\n",
       "      <th>0</th>\n",
       "      <td>gxn3p5htnn</td>\n",
       "      <td>0</td>\n",
       "      <td>6</td>\n",
       "      <td>2</td>\n",
       "      <td>2010</td>\n",
       "      <td>4</td>\n",
       "      <td>3</td>\n",
       "      <td>3</td>\n",
       "      <td>1</td>\n",
       "      <td>2009</td>\n",
       "      <td>...</td>\n",
       "      <td>0</td>\n",
       "      <td>0</td>\n",
       "      <td>0</td>\n",
       "      <td>0</td>\n",
       "      <td>1</td>\n",
       "      <td>0</td>\n",
       "      <td>0</td>\n",
       "      <td>1</td>\n",
       "      <td>0</td>\n",
       "      <td>0</td>\n",
       "    </tr>\n",
       "    <tr>\n",
       "      <th>1</th>\n",
       "      <td>820tgsjxq7</td>\n",
       "      <td>2</td>\n",
       "      <td>5</td>\n",
       "      <td>2</td>\n",
       "      <td>2011</td>\n",
       "      <td>17</td>\n",
       "      <td>5</td>\n",
       "      <td>5</td>\n",
       "      <td>2</td>\n",
       "      <td>2009</td>\n",
       "      <td>...</td>\n",
       "      <td>0</td>\n",
       "      <td>0</td>\n",
       "      <td>0</td>\n",
       "      <td>0</td>\n",
       "      <td>1</td>\n",
       "      <td>0</td>\n",
       "      <td>0</td>\n",
       "      <td>1</td>\n",
       "      <td>0</td>\n",
       "      <td>0</td>\n",
       "    </tr>\n",
       "    <tr>\n",
       "      <th>2</th>\n",
       "      <td>4ft3gnwmtx</td>\n",
       "      <td>1</td>\n",
       "      <td>9</td>\n",
       "      <td>3</td>\n",
       "      <td>2010</td>\n",
       "      <td>23</td>\n",
       "      <td>1</td>\n",
       "      <td>6</td>\n",
       "      <td>2</td>\n",
       "      <td>2009</td>\n",
       "      <td>...</td>\n",
       "      <td>0</td>\n",
       "      <td>0</td>\n",
       "      <td>0</td>\n",
       "      <td>0</td>\n",
       "      <td>1</td>\n",
       "      <td>0</td>\n",
       "      <td>1</td>\n",
       "      <td>0</td>\n",
       "      <td>0</td>\n",
       "      <td>0</td>\n",
       "    </tr>\n",
       "    <tr>\n",
       "      <th>3</th>\n",
       "      <td>bjjt8pjhuk</td>\n",
       "      <td>0</td>\n",
       "      <td>12</td>\n",
       "      <td>4</td>\n",
       "      <td>2011</td>\n",
       "      <td>6</td>\n",
       "      <td>5</td>\n",
       "      <td>10</td>\n",
       "      <td>4</td>\n",
       "      <td>2009</td>\n",
       "      <td>...</td>\n",
       "      <td>0</td>\n",
       "      <td>0</td>\n",
       "      <td>0</td>\n",
       "      <td>0</td>\n",
       "      <td>1</td>\n",
       "      <td>0</td>\n",
       "      <td>0</td>\n",
       "      <td>1</td>\n",
       "      <td>0</td>\n",
       "      <td>0</td>\n",
       "    </tr>\n",
       "    <tr>\n",
       "      <th>4</th>\n",
       "      <td>87mebub9p4</td>\n",
       "      <td>1</td>\n",
       "      <td>9</td>\n",
       "      <td>3</td>\n",
       "      <td>2010</td>\n",
       "      <td>6</td>\n",
       "      <td>1</td>\n",
       "      <td>12</td>\n",
       "      <td>4</td>\n",
       "      <td>2009</td>\n",
       "      <td>...</td>\n",
       "      <td>0</td>\n",
       "      <td>0</td>\n",
       "      <td>0</td>\n",
       "      <td>0</td>\n",
       "      <td>1</td>\n",
       "      <td>0</td>\n",
       "      <td>1</td>\n",
       "      <td>0</td>\n",
       "      <td>0</td>\n",
       "      <td>0</td>\n",
       "    </tr>\n",
       "  </tbody>\n",
       "</table>\n",
       "<p>5 rows × 146 columns</p>\n",
       "</div>"
      ],
      "text/plain": [
       "           id  day_account_created  month_account_created  \\\n",
       "0  gxn3p5htnn                    0                      6   \n",
       "1  820tgsjxq7                    2                      5   \n",
       "2  4ft3gnwmtx                    1                      9   \n",
       "3  bjjt8pjhuk                    0                     12   \n",
       "4  87mebub9p4                    1                      9   \n",
       "\n",
       "   quarter_account_created  year_account_created  hour_first_active  \\\n",
       "0                        2                  2010                  4   \n",
       "1                        2                  2011                 17   \n",
       "2                        3                  2010                 23   \n",
       "3                        4                  2011                  6   \n",
       "4                        3                  2010                  6   \n",
       "\n",
       "   day_first_active  month_first_active  quarter_first_active  \\\n",
       "0                 3                   3                     1   \n",
       "1                 5                   5                     2   \n",
       "2                 1                   6                     2   \n",
       "3                 5                  10                     4   \n",
       "4                 1                  12                     4   \n",
       "\n",
       "   year_first_active         ...           language_tr  language_zh  \\\n",
       "0               2009         ...                     0            0   \n",
       "1               2009         ...                     0            0   \n",
       "2               2009         ...                     0            0   \n",
       "3               2009         ...                     0            0   \n",
       "4               2009         ...                     0            0   \n",
       "\n",
       "   signup_app_Android  signup_app_Moweb  signup_app_Web  signup_app_iOS  \\\n",
       "0                   0                 0               1               0   \n",
       "1                   0                 0               1               0   \n",
       "2                   0                 0               1               0   \n",
       "3                   0                 0               1               0   \n",
       "4                   0                 0               1               0   \n",
       "\n",
       "   signup_method_basic  signup_method_facebook  signup_method_google  \\\n",
       "0                    0                       1                     0   \n",
       "1                    0                       1                     0   \n",
       "2                    1                       0                     0   \n",
       "3                    0                       1                     0   \n",
       "4                    1                       0                     0   \n",
       "\n",
       "   signup_method_weibo  \n",
       "0                    0  \n",
       "1                    0  \n",
       "2                    0  \n",
       "3                    0  \n",
       "4                    0  \n",
       "\n",
       "[5 rows x 146 columns]"
      ]
     },
     "execution_count": 40,
     "metadata": {},
     "output_type": "execute_result"
    }
   ],
   "source": [
    "df_users.head()"
   ]
  },
  {
   "cell_type": "code",
   "execution_count": 41,
   "metadata": {
    "collapsed": true
   },
   "outputs": [],
   "source": [
    "all_users = pd.merge(df_users, user_devices, how='left', left_on='id', right_on='user_id')"
   ]
  },
  {
   "cell_type": "code",
   "execution_count": 42,
   "metadata": {
    "collapsed": false
   },
   "outputs": [
    {
     "data": {
      "text/plain": [
       "(275547, 161)"
      ]
     },
     "execution_count": 42,
     "metadata": {},
     "output_type": "execute_result"
    }
   ],
   "source": [
    "all_users.shape"
   ]
  },
  {
   "cell_type": "code",
   "execution_count": 43,
   "metadata": {
    "collapsed": true
   },
   "outputs": [],
   "source": [
    "all_users = pd.merge(all_users, user_session, how='left', left_on='id', right_on='user_id')"
   ]
  },
  {
   "cell_type": "code",
   "execution_count": 44,
   "metadata": {
    "collapsed": false
   },
   "outputs": [
    {
     "data": {
      "text/plain": [
       "(275547, 172)"
      ]
     },
     "execution_count": 44,
     "metadata": {},
     "output_type": "execute_result"
    }
   ],
   "source": [
    "all_users.shape"
   ]
  },
  {
   "cell_type": "code",
   "execution_count": 45,
   "metadata": {
    "collapsed": false
   },
   "outputs": [
    {
     "data": {
      "text/html": [
       "<div>\n",
       "<table border=\"1\" class=\"dataframe\">\n",
       "  <thead>\n",
       "    <tr style=\"text-align: right;\">\n",
       "      <th></th>\n",
       "      <th>id</th>\n",
       "      <th>day_account_created</th>\n",
       "      <th>month_account_created</th>\n",
       "      <th>quarter_account_created</th>\n",
       "      <th>year_account_created</th>\n",
       "      <th>hour_first_active</th>\n",
       "      <th>day_first_active</th>\n",
       "      <th>month_first_active</th>\n",
       "      <th>quarter_first_active</th>\n",
       "      <th>year_first_active</th>\n",
       "      <th>...</th>\n",
       "      <th>-unknown-_y</th>\n",
       "      <th>booking_request</th>\n",
       "      <th>booking_response</th>\n",
       "      <th>click</th>\n",
       "      <th>data</th>\n",
       "      <th>message_post</th>\n",
       "      <th>modify</th>\n",
       "      <th>partner_callback</th>\n",
       "      <th>submit</th>\n",
       "      <th>view</th>\n",
       "    </tr>\n",
       "  </thead>\n",
       "  <tbody>\n",
       "    <tr>\n",
       "      <th>0</th>\n",
       "      <td>gxn3p5htnn</td>\n",
       "      <td>0</td>\n",
       "      <td>6</td>\n",
       "      <td>2</td>\n",
       "      <td>2010</td>\n",
       "      <td>4</td>\n",
       "      <td>3</td>\n",
       "      <td>3</td>\n",
       "      <td>1</td>\n",
       "      <td>2009</td>\n",
       "      <td>...</td>\n",
       "      <td>NaN</td>\n",
       "      <td>NaN</td>\n",
       "      <td>NaN</td>\n",
       "      <td>NaN</td>\n",
       "      <td>NaN</td>\n",
       "      <td>NaN</td>\n",
       "      <td>NaN</td>\n",
       "      <td>NaN</td>\n",
       "      <td>NaN</td>\n",
       "      <td>NaN</td>\n",
       "    </tr>\n",
       "    <tr>\n",
       "      <th>1</th>\n",
       "      <td>820tgsjxq7</td>\n",
       "      <td>2</td>\n",
       "      <td>5</td>\n",
       "      <td>2</td>\n",
       "      <td>2011</td>\n",
       "      <td>17</td>\n",
       "      <td>5</td>\n",
       "      <td>5</td>\n",
       "      <td>2</td>\n",
       "      <td>2009</td>\n",
       "      <td>...</td>\n",
       "      <td>NaN</td>\n",
       "      <td>NaN</td>\n",
       "      <td>NaN</td>\n",
       "      <td>NaN</td>\n",
       "      <td>NaN</td>\n",
       "      <td>NaN</td>\n",
       "      <td>NaN</td>\n",
       "      <td>NaN</td>\n",
       "      <td>NaN</td>\n",
       "      <td>NaN</td>\n",
       "    </tr>\n",
       "    <tr>\n",
       "      <th>2</th>\n",
       "      <td>4ft3gnwmtx</td>\n",
       "      <td>1</td>\n",
       "      <td>9</td>\n",
       "      <td>3</td>\n",
       "      <td>2010</td>\n",
       "      <td>23</td>\n",
       "      <td>1</td>\n",
       "      <td>6</td>\n",
       "      <td>2</td>\n",
       "      <td>2009</td>\n",
       "      <td>...</td>\n",
       "      <td>NaN</td>\n",
       "      <td>NaN</td>\n",
       "      <td>NaN</td>\n",
       "      <td>NaN</td>\n",
       "      <td>NaN</td>\n",
       "      <td>NaN</td>\n",
       "      <td>NaN</td>\n",
       "      <td>NaN</td>\n",
       "      <td>NaN</td>\n",
       "      <td>NaN</td>\n",
       "    </tr>\n",
       "    <tr>\n",
       "      <th>3</th>\n",
       "      <td>bjjt8pjhuk</td>\n",
       "      <td>0</td>\n",
       "      <td>12</td>\n",
       "      <td>4</td>\n",
       "      <td>2011</td>\n",
       "      <td>6</td>\n",
       "      <td>5</td>\n",
       "      <td>10</td>\n",
       "      <td>4</td>\n",
       "      <td>2009</td>\n",
       "      <td>...</td>\n",
       "      <td>NaN</td>\n",
       "      <td>NaN</td>\n",
       "      <td>NaN</td>\n",
       "      <td>NaN</td>\n",
       "      <td>NaN</td>\n",
       "      <td>NaN</td>\n",
       "      <td>NaN</td>\n",
       "      <td>NaN</td>\n",
       "      <td>NaN</td>\n",
       "      <td>NaN</td>\n",
       "    </tr>\n",
       "    <tr>\n",
       "      <th>4</th>\n",
       "      <td>87mebub9p4</td>\n",
       "      <td>1</td>\n",
       "      <td>9</td>\n",
       "      <td>3</td>\n",
       "      <td>2010</td>\n",
       "      <td>6</td>\n",
       "      <td>1</td>\n",
       "      <td>12</td>\n",
       "      <td>4</td>\n",
       "      <td>2009</td>\n",
       "      <td>...</td>\n",
       "      <td>NaN</td>\n",
       "      <td>NaN</td>\n",
       "      <td>NaN</td>\n",
       "      <td>NaN</td>\n",
       "      <td>NaN</td>\n",
       "      <td>NaN</td>\n",
       "      <td>NaN</td>\n",
       "      <td>NaN</td>\n",
       "      <td>NaN</td>\n",
       "      <td>NaN</td>\n",
       "    </tr>\n",
       "  </tbody>\n",
       "</table>\n",
       "<p>5 rows × 172 columns</p>\n",
       "</div>"
      ],
      "text/plain": [
       "           id  day_account_created  month_account_created  \\\n",
       "0  gxn3p5htnn                    0                      6   \n",
       "1  820tgsjxq7                    2                      5   \n",
       "2  4ft3gnwmtx                    1                      9   \n",
       "3  bjjt8pjhuk                    0                     12   \n",
       "4  87mebub9p4                    1                      9   \n",
       "\n",
       "   quarter_account_created  year_account_created  hour_first_active  \\\n",
       "0                        2                  2010                  4   \n",
       "1                        2                  2011                 17   \n",
       "2                        3                  2010                 23   \n",
       "3                        4                  2011                  6   \n",
       "4                        3                  2010                  6   \n",
       "\n",
       "   day_first_active  month_first_active  quarter_first_active  \\\n",
       "0                 3                   3                     1   \n",
       "1                 5                   5                     2   \n",
       "2                 1                   6                     2   \n",
       "3                 5                  10                     4   \n",
       "4                 1                  12                     4   \n",
       "\n",
       "   year_first_active  ...   -unknown-_y  booking_request  booking_response  \\\n",
       "0               2009  ...           NaN              NaN               NaN   \n",
       "1               2009  ...           NaN              NaN               NaN   \n",
       "2               2009  ...           NaN              NaN               NaN   \n",
       "3               2009  ...           NaN              NaN               NaN   \n",
       "4               2009  ...           NaN              NaN               NaN   \n",
       "\n",
       "   click  data  message_post  modify  partner_callback  submit  view  \n",
       "0    NaN   NaN           NaN     NaN               NaN     NaN   NaN  \n",
       "1    NaN   NaN           NaN     NaN               NaN     NaN   NaN  \n",
       "2    NaN   NaN           NaN     NaN               NaN     NaN   NaN  \n",
       "3    NaN   NaN           NaN     NaN               NaN     NaN   NaN  \n",
       "4    NaN   NaN           NaN     NaN               NaN     NaN   NaN  \n",
       "\n",
       "[5 rows x 172 columns]"
      ]
     },
     "execution_count": 45,
     "metadata": {},
     "output_type": "execute_result"
    }
   ],
   "source": [
    "all_users.head()"
   ]
  },
  {
   "cell_type": "code",
   "execution_count": 46,
   "metadata": {
    "collapsed": false
   },
   "outputs": [],
   "source": [
    "destination = t_users['country_destination'].reset_index()"
   ]
  },
  {
   "cell_type": "code",
   "execution_count": 47,
   "metadata": {
    "collapsed": false
   },
   "outputs": [
    {
     "data": {
      "text/html": [
       "<div>\n",
       "<table border=\"1\" class=\"dataframe\">\n",
       "  <thead>\n",
       "    <tr style=\"text-align: right;\">\n",
       "      <th></th>\n",
       "      <th>id</th>\n",
       "      <th>country_destination</th>\n",
       "    </tr>\n",
       "  </thead>\n",
       "  <tbody>\n",
       "    <tr>\n",
       "      <th>0</th>\n",
       "      <td>gxn3p5htnn</td>\n",
       "      <td>NDF</td>\n",
       "    </tr>\n",
       "    <tr>\n",
       "      <th>1</th>\n",
       "      <td>820tgsjxq7</td>\n",
       "      <td>NDF</td>\n",
       "    </tr>\n",
       "    <tr>\n",
       "      <th>2</th>\n",
       "      <td>4ft3gnwmtx</td>\n",
       "      <td>US</td>\n",
       "    </tr>\n",
       "    <tr>\n",
       "      <th>3</th>\n",
       "      <td>bjjt8pjhuk</td>\n",
       "      <td>other</td>\n",
       "    </tr>\n",
       "    <tr>\n",
       "      <th>4</th>\n",
       "      <td>87mebub9p4</td>\n",
       "      <td>US</td>\n",
       "    </tr>\n",
       "  </tbody>\n",
       "</table>\n",
       "</div>"
      ],
      "text/plain": [
       "           id country_destination\n",
       "0  gxn3p5htnn                 NDF\n",
       "1  820tgsjxq7                 NDF\n",
       "2  4ft3gnwmtx                  US\n",
       "3  bjjt8pjhuk               other\n",
       "4  87mebub9p4                  US"
      ]
     },
     "execution_count": 47,
     "metadata": {},
     "output_type": "execute_result"
    }
   ],
   "source": [
    "destination.head()"
   ]
  },
  {
   "cell_type": "code",
   "execution_count": 48,
   "metadata": {
    "collapsed": false
   },
   "outputs": [
    {
     "data": {
      "text/plain": [
       "((275547, 2), 275547)"
      ]
     },
     "execution_count": 48,
     "metadata": {},
     "output_type": "execute_result"
    }
   ],
   "source": [
    "destination.shape, len(destination.id.unique())"
   ]
  },
  {
   "cell_type": "code",
   "execution_count": 49,
   "metadata": {
    "collapsed": true
   },
   "outputs": [],
   "source": [
    "all_users = pd.merge(all_users, destination, how='inner', on='id')"
   ]
  },
  {
   "cell_type": "code",
   "execution_count": 50,
   "metadata": {
    "collapsed": false
   },
   "outputs": [
    {
     "data": {
      "text/plain": [
       "(275547, 173)"
      ]
     },
     "execution_count": 50,
     "metadata": {},
     "output_type": "execute_result"
    }
   ],
   "source": [
    "all_users.shape"
   ]
  },
  {
   "cell_type": "code",
   "execution_count": 51,
   "metadata": {
    "collapsed": false
   },
   "outputs": [],
   "source": [
    "all_users = all_users.drop(['user_id_x','user_id_y'], axis=1)"
   ]
  },
  {
   "cell_type": "code",
   "execution_count": 52,
   "metadata": {
    "collapsed": false
   },
   "outputs": [
    {
     "data": {
      "text/plain": [
       "(275547, 171)"
      ]
     },
     "execution_count": 52,
     "metadata": {},
     "output_type": "execute_result"
    }
   ],
   "source": [
    "all_users.shape"
   ]
  },
  {
   "cell_type": "code",
   "execution_count": 53,
   "metadata": {
    "collapsed": false
   },
   "outputs": [
    {
     "data": {
      "text/plain": [
       "id                                             0\n",
       "day_account_created                            0\n",
       "month_account_created                          0\n",
       "quarter_account_created                        0\n",
       "year_account_created                           0\n",
       "hour_first_active                              0\n",
       "day_first_active                               0\n",
       "month_first_active                             0\n",
       "quarter_first_active                           0\n",
       "year_first_active                              0\n",
       "created_less_active                            0\n",
       "signup_flow                                    0\n",
       "affiliate_channel_api                          0\n",
       "affiliate_channel_content                      0\n",
       "affiliate_channel_direct                       0\n",
       "affiliate_channel_other                        0\n",
       "affiliate_channel_remarketing                  0\n",
       "affiliate_channel_sem-brand                    0\n",
       "affiliate_channel_sem-non-brand                0\n",
       "affiliate_channel_seo                          0\n",
       "affiliate_provider_baidu                       0\n",
       "affiliate_provider_bing                        0\n",
       "affiliate_provider_craigslist                  0\n",
       "affiliate_provider_daum                        0\n",
       "affiliate_provider_direct                      0\n",
       "affiliate_provider_email-marketing             0\n",
       "affiliate_provider_facebook                    0\n",
       "affiliate_provider_facebook-open-graph         0\n",
       "affiliate_provider_google                      0\n",
       "affiliate_provider_gsp                         0\n",
       "                                           ...  \n",
       "signup_app_iOS                                 0\n",
       "signup_method_basic                            0\n",
       "signup_method_facebook                         0\n",
       "signup_method_google                           0\n",
       "signup_method_weibo                            0\n",
       "-unknown-_x                               140064\n",
       "Android App Unknown Phone/Tablet          140064\n",
       "Android Phone                             140064\n",
       "Blackberry                                140064\n",
       "Chromebook                                140064\n",
       "Linux Desktop                             140064\n",
       "Mac Desktop                               140064\n",
       "Opera Phone                               140064\n",
       "Tablet                                    140064\n",
       "Windows Desktop                           140064\n",
       "Windows Phone                             140064\n",
       "iPad Tablet                               140064\n",
       "iPhone                                    140064\n",
       "iPodtouch                                 140064\n",
       "-unknown-_y                               140069\n",
       "booking_request                           140069\n",
       "booking_response                          140069\n",
       "click                                     140069\n",
       "data                                      140069\n",
       "message_post                              140069\n",
       "modify                                    140069\n",
       "partner_callback                          140069\n",
       "submit                                    140069\n",
       "view                                      140069\n",
       "country_destination                        62096\n",
       "dtype: int64"
      ]
     },
     "execution_count": 53,
     "metadata": {},
     "output_type": "execute_result"
    }
   ],
   "source": [
    "all_users.isnull().sum()"
   ]
  },
  {
   "cell_type": "code",
   "execution_count": 54,
   "metadata": {
    "collapsed": false
   },
   "outputs": [],
   "source": [
    "# Split train and test data\n",
    "df_test = all_users[all_users['country_destination'].isnull()]"
   ]
  },
  {
   "cell_type": "code",
   "execution_count": 55,
   "metadata": {
    "collapsed": false
   },
   "outputs": [
    {
     "data": {
      "text/plain": [
       "(62096, 171)"
      ]
     },
     "execution_count": 55,
     "metadata": {},
     "output_type": "execute_result"
    }
   ],
   "source": [
    "df_test.shape"
   ]
  },
  {
   "cell_type": "code",
   "execution_count": 56,
   "metadata": {
    "collapsed": false
   },
   "outputs": [
    {
     "data": {
      "text/plain": [
       "id                                            0\n",
       "day_account_created                           0\n",
       "month_account_created                         0\n",
       "quarter_account_created                       0\n",
       "year_account_created                          0\n",
       "hour_first_active                             0\n",
       "day_first_active                              0\n",
       "month_first_active                            0\n",
       "quarter_first_active                          0\n",
       "year_first_active                             0\n",
       "created_less_active                           0\n",
       "signup_flow                                   0\n",
       "affiliate_channel_api                         0\n",
       "affiliate_channel_content                     0\n",
       "affiliate_channel_direct                      0\n",
       "affiliate_channel_other                       0\n",
       "affiliate_channel_remarketing                 0\n",
       "affiliate_channel_sem-brand                   0\n",
       "affiliate_channel_sem-non-brand               0\n",
       "affiliate_channel_seo                         0\n",
       "affiliate_provider_baidu                      0\n",
       "affiliate_provider_bing                       0\n",
       "affiliate_provider_craigslist                 0\n",
       "affiliate_provider_daum                       0\n",
       "affiliate_provider_direct                     0\n",
       "affiliate_provider_email-marketing            0\n",
       "affiliate_provider_facebook                   0\n",
       "affiliate_provider_facebook-open-graph        0\n",
       "affiliate_provider_google                     0\n",
       "affiliate_provider_gsp                        0\n",
       "                                          ...  \n",
       "signup_app_iOS                                0\n",
       "signup_method_basic                           0\n",
       "signup_method_facebook                        0\n",
       "signup_method_google                          0\n",
       "signup_method_weibo                           0\n",
       "-unknown-_x                                 428\n",
       "Android App Unknown Phone/Tablet            428\n",
       "Android Phone                               428\n",
       "Blackberry                                  428\n",
       "Chromebook                                  428\n",
       "Linux Desktop                               428\n",
       "Mac Desktop                                 428\n",
       "Opera Phone                                 428\n",
       "Tablet                                      428\n",
       "Windows Desktop                             428\n",
       "Windows Phone                               428\n",
       "iPad Tablet                                 428\n",
       "iPhone                                      428\n",
       "iPodtouch                                   428\n",
       "-unknown-_y                                 430\n",
       "booking_request                             430\n",
       "booking_response                            430\n",
       "click                                       430\n",
       "data                                        430\n",
       "message_post                                430\n",
       "modify                                      430\n",
       "partner_callback                            430\n",
       "submit                                      430\n",
       "view                                        430\n",
       "country_destination                       62096\n",
       "dtype: int64"
      ]
     },
     "execution_count": 56,
     "metadata": {},
     "output_type": "execute_result"
    }
   ],
   "source": [
    "df_test.isnull().sum()"
   ]
  },
  {
   "cell_type": "code",
   "execution_count": 57,
   "metadata": {
    "collapsed": true
   },
   "outputs": [],
   "source": [
    "df_train = all_users[all_users['country_destination'].isnull()==False]"
   ]
  },
  {
   "cell_type": "code",
   "execution_count": 58,
   "metadata": {
    "collapsed": false
   },
   "outputs": [
    {
     "data": {
      "text/plain": [
       "(213451, 171)"
      ]
     },
     "execution_count": 58,
     "metadata": {},
     "output_type": "execute_result"
    }
   ],
   "source": [
    "df_train.shape"
   ]
  },
  {
   "cell_type": "code",
   "execution_count": 59,
   "metadata": {
    "collapsed": false
   },
   "outputs": [],
   "source": [
    "df_train = df_train.fillna(0)\n",
    "df_test = df_test.fillna(0)"
   ]
  },
  {
   "cell_type": "code",
   "execution_count": 67,
   "metadata": {
    "collapsed": true
   },
   "outputs": [],
   "source": [
    "df_train.to_csv('./data/train_features.csv',index=False)\n",
    "df_test.to_csv('./data/test_features.csv',index=False)"
   ]
  },
  {
   "cell_type": "code",
   "execution_count": 61,
   "metadata": {
    "collapsed": true
   },
   "outputs": [],
   "source": [
    "from sklearn.preprocessing import LabelEncoder\n",
    "labels = df_train['country_destination']\n",
    "le = LabelEncoder()\n",
    "y = le.fit_transform(labels)"
   ]
  },
  {
   "cell_type": "code",
   "execution_count": 62,
   "metadata": {
    "collapsed": false
   },
   "outputs": [],
   "source": [
    "X = df_train.drop('country_destination', axis=1, inplace=False)"
   ]
  },
  {
   "cell_type": "code",
   "execution_count": 63,
   "metadata": {
    "collapsed": false
   },
   "outputs": [
    {
     "data": {
      "text/plain": [
       "((213451, 170), (213451,))"
      ]
     },
     "execution_count": 63,
     "metadata": {},
     "output_type": "execute_result"
    }
   ],
   "source": [
    "X.shape, y.shape"
   ]
  },
  {
   "cell_type": "code",
   "execution_count": 64,
   "metadata": {
    "collapsed": false
   },
   "outputs": [],
   "source": [
    "idtrain = df_train['id']"
   ]
  },
  {
   "cell_type": "code",
   "execution_count": 65,
   "metadata": {
    "collapsed": false
   },
   "outputs": [],
   "source": [
    "X = X.drop('id', axis=1, inplace=False)"
   ]
  },
  {
   "cell_type": "code",
   "execution_count": 66,
   "metadata": {
    "collapsed": false
   },
   "outputs": [
    {
     "data": {
      "text/plain": [
       "(213451, 169)"
      ]
     },
     "execution_count": 66,
     "metadata": {},
     "output_type": "execute_result"
    }
   ],
   "source": [
    "X.shape"
   ]
  },
  {
   "cell_type": "code",
   "execution_count": 67,
   "metadata": {
    "collapsed": true
   },
   "outputs": [],
   "source": [
    "# Model 1: Random Forest Classification\n",
    "from sklearn.cross_validation import cross_val_score\n",
    "from sklearn.ensemble import RandomForestClassifier"
   ]
  },
  {
   "cell_type": "code",
   "execution_count": 72,
   "metadata": {
    "collapsed": false
   },
   "outputs": [],
   "source": [
    "#model1 = RandomForestClassifier(n_estimators=10)\n",
    "model1 = RandomForestClassifier(n_estimators=25)\n",
    "scores = cross_val_score(model1, X, y, cv=5)"
   ]
  },
  {
   "cell_type": "code",
   "execution_count": 73,
   "metadata": {
    "collapsed": false
   },
   "outputs": [
    {
     "data": {
      "text/plain": [
       "array([ 0.13113948,  0.15107863,  0.15274882,  0.28602886,  0.58996345])"
      ]
     },
     "execution_count": 73,
     "metadata": {},
     "output_type": "execute_result"
    }
   ],
   "source": [
    "scores"
   ]
  },
  {
   "cell_type": "code",
   "execution_count": 74,
   "metadata": {
    "collapsed": false
   },
   "outputs": [
    {
     "data": {
      "text/plain": [
       "RandomForestClassifier(bootstrap=True, class_weight=None, criterion='gini',\n",
       "            max_depth=None, max_features='auto', max_leaf_nodes=None,\n",
       "            min_samples_leaf=1, min_samples_split=2,\n",
       "            min_weight_fraction_leaf=0.0, n_estimators=25, n_jobs=1,\n",
       "            oob_score=False, random_state=None, verbose=0,\n",
       "            warm_start=False)"
      ]
     },
     "execution_count": 74,
     "metadata": {},
     "output_type": "execute_result"
    }
   ],
   "source": [
    "model2 = RandomForestClassifier(n_estimators=25)\n",
    "model2.fit(X, y)"
   ]
  },
  {
   "cell_type": "code",
   "execution_count": 75,
   "metadata": {
    "collapsed": false
   },
   "outputs": [
    {
     "data": {
      "text/plain": [
       "0.95732978529030077"
      ]
     },
     "execution_count": 75,
     "metadata": {},
     "output_type": "execute_result"
    }
   ],
   "source": [
    "model2.score(X, y)"
   ]
  },
  {
   "cell_type": "code",
   "execution_count": 137,
   "metadata": {
    "collapsed": true
   },
   "outputs": [],
   "source": [
    "# Model 2\n",
    "# Grid Search - Used to find best combination of parameters\n",
    "import xgboost as xgb\n",
    "from xgboost.sklearn import XGBClassifier\n",
    "from sklearn import cross_validation, metrics   #Additional scklearn functions\n",
    "from sklearn.grid_search import GridSearchCV   #Perforing grid search\n"
   ]
  },
  {
   "cell_type": "code",
   "execution_count": 138,
   "metadata": {
    "collapsed": false
   },
   "outputs": [],
   "source": [
    "#XGB_model = xgb.XGBClassifier(objective='multi:softprob', subsample=0.5, colsample_bytree=0.5, seed=0)\n",
    "#param_grid = {'max_depth': [3, 4, 5], 'learning_rate': [0.1, 0.3], 'n_estimators': [25, 50]}\n",
    "#model = GridSearchCV(estimator=XGB_model, param_grid=param_grid, scoring='accuracy', verbose=10, n_jobs=1, iid=True, refit=True, cv=3)\n",
    "\n",
    "XGB_model = xgb.XGBClassifier(objective='multi:softprob', subsample=0.5, colsample_bytree=0.5, seed=0)\n",
    "param_grid = {'max_depth': [3], 'learning_rate': [0.1], 'n_estimators': [25, 50]}\n",
    "model = GridSearchCV(estimator=XGB_model, param_grid=param_grid, scoring='accuracy', verbose=10, n_jobs=1, iid=True, refit=True, cv=3)"
   ]
  },
  {
   "cell_type": "code",
   "execution_count": 139,
   "metadata": {
    "collapsed": false
   },
   "outputs": [
    {
     "name": "stdout",
     "output_type": "stream",
     "text": [
      "Fitting 3 folds for each of 2 candidates, totalling 6 fits\n",
      "[CV] n_estimators=25, learning_rate=0.1, max_depth=3 .................\n",
      "[CV]  n_estimators=25, learning_rate=0.1, max_depth=3, score=0.114372 -  39.1s\n",
      "[CV] n_estimators=25, learning_rate=0.1, max_depth=3 .................\n",
      "[CV]  n_estimators=25, learning_rate=0.1, max_depth=3, score=0.292997 -  39.0s\n",
      "[CV] n_estimators=25, learning_rate=0.1, max_depth=3 .................\n",
      "[CV]  n_estimators=25, learning_rate=0.1, max_depth=3, score=0.583687 -  37.2s\n",
      "[CV] n_estimators=50, learning_rate=0.1, max_depth=3 .................\n",
      "[CV]  n_estimators=50, learning_rate=0.1, max_depth=3, score=0.081078 - 1.3min"
     ]
    },
    {
     "name": "stderr",
     "output_type": "stream",
     "text": [
      "[Parallel(n_jobs=1)]: Done   1 tasks       | elapsed:   39.1s\n",
      "[Parallel(n_jobs=1)]: Done   4 tasks       | elapsed:  3.2min\n"
     ]
    },
    {
     "name": "stdout",
     "output_type": "stream",
     "text": [
      "\n",
      "[CV] n_estimators=50, learning_rate=0.1, max_depth=3 .................\n",
      "[CV]  n_estimators=50, learning_rate=0.1, max_depth=3, score=0.272898 - 1.3min\n",
      "[CV] n_estimators=50, learning_rate=0.1, max_depth=3 .................\n",
      "[CV]  n_estimators=50, learning_rate=0.1, max_depth=3, score=0.583167 - 1.2min\n",
      "Best score: 0.330\n",
      "Best parameters set:\n",
      "\tlearning_rate: 0.1\n",
      "\tmax_depth: 3\n",
      "\tn_estimators: 25\n"
     ]
    },
    {
     "name": "stderr",
     "output_type": "stream",
     "text": [
      "[Parallel(n_jobs=1)]: Done   6 out of   6 | elapsed:  5.8min finished\n"
     ]
    }
   ],
   "source": [
    "model.fit(X, y)\n",
    "print(\"Best score: %0.3f\" % model.best_score_)\n",
    "print(\"Best parameters set:\")\n",
    "best_parameters = model.best_estimator_.get_params()\n",
    "for param_name in sorted(param_grid.keys()):\n",
    "    print(\"\\t%s: %r\" % (param_name, best_parameters[param_name]))"
   ]
  },
  {
   "cell_type": "code",
   "execution_count": 140,
   "metadata": {
    "collapsed": true
   },
   "outputs": [],
   "source": [
    "#Best score: 0.330\n",
    "#Best parameters set:\n",
    "#learning_rate: 0.1\n",
    "#max_depth: 3\n",
    "#n_estimators: 25"
   ]
  },
  {
   "cell_type": "code",
   "execution_count": 146,
   "metadata": {
    "collapsed": false
   },
   "outputs": [
    {
     "data": {
      "text/plain": [
       "XGBClassifier(base_score=0.5, colsample_bylevel=1, colsample_bytree=0.5,\n",
       "       gamma=0, learning_rate=0.1, max_delta_step=0, max_depth=3,\n",
       "       min_child_weight=1, missing=None, n_estimators=25, nthread=-1,\n",
       "       objective='multi:softprob', reg_alpha=0, reg_lambda=1,\n",
       "       scale_pos_weight=1, seed=0, silent=True, subsample=0.5)"
      ]
     },
     "execution_count": 146,
     "metadata": {},
     "output_type": "execute_result"
    }
   ],
   "source": [
    "final_model = XGBClassifier(\n",
    "        learning_rate =0.1,\n",
    "        n_estimators=25,\n",
    "        max_depth=3,\n",
    "        objective='multi:softprob', \n",
    "        subsample=0.5, \n",
    "        colsample_bytree=0.5, \n",
    "        seed=0)\n",
    "final_model.fit(X,y)"
   ]
  },
  {
   "cell_type": "code",
   "execution_count": 147,
   "metadata": {
    "collapsed": false
   },
   "outputs": [
    {
     "data": {
      "text/plain": [
       "<matplotlib.text.Text at 0x7f9a6905d890>"
      ]
     },
     "execution_count": 147,
     "metadata": {},
     "output_type": "execute_result"
    },
    {
     "data": {
      "image/png": "[encoded data removed]",
      "text/plain": [
       "<matplotlib.figure.Figure at 0x7f9a68ff8e50>"
      ]
     },
     "metadata": {},
     "output_type": "display_data"
    }
   ],
   "source": [
    "import matplotlib.pyplot as plt\n",
    "%matplotlib inline\n",
    "feat_imp = pd.Series(final_model.booster().get_fscore()).sort_values(ascending=False)\n",
    "feat_imp.plot(kind='bar', title='Feature Importances')\n",
    "plt.ylabel('Feature Importance Score')"
   ]
  },
  {
   "cell_type": "code",
   "execution_count": 149,
   "metadata": {
    "collapsed": false
   },
   "outputs": [
    {
     "data": {
      "text/plain": [
       "booking_request                          124\n",
       "gender_FEMALE                             89\n",
       "gender_MALE                               85\n",
       "signup_flow                               84\n",
       "year_account_created                      79\n",
       "signup_app_Web                            70\n",
       "message_post                              69\n",
       "Mac Desktop                               61\n",
       "click                                     59\n",
       "view                                      55\n",
       "year_first_active                         54\n",
       "submit                                    50\n",
       "month_account_created                     49\n",
       "signup_method_basic                       48\n",
       "first_device_type_Mac Desktop             46\n",
       "data                                      45\n",
       "-unknown-_y                               42\n",
       "hour_first_active                         40\n",
       "iPad Tablet                               39\n",
       "month_first_active                        37\n",
       "first_browser_-unknown-                   34\n",
       "signup_method_facebook                    34\n",
       "Tablet                                    28\n",
       "created_less_active                       28\n",
       "first_affiliate_tracked_untracked         26\n",
       "Windows Desktop                           22\n",
       "first_browser_Chrome                      21\n",
       "affiliate_channel_content                 21\n",
       "affiliate_channel_other                   20\n",
       "first_device_type_Other/Unknown           18\n",
       "                                        ... \n",
       "affiliate_provider_craigslist              5\n",
       "affiliate_channel_sem-brand                4\n",
       "Android App Unknown Phone/Tablet           4\n",
       "affiliate_channel_seo                      4\n",
       "affiliate_provider_other                   4\n",
       "first_browser_IE                           3\n",
       "language_da                                3\n",
       "first_device_type_Android Tablet           3\n",
       "affiliate_channel_remarketing              3\n",
       "affiliate_channel_sem-non-brand            3\n",
       "language_ru                                2\n",
       "first_affiliate_tracked_tracked-other      2\n",
       "signup_app_iOS                             2\n",
       "first_browser_Chromium                     2\n",
       "language_sv                                2\n",
       "first_browser_Opera                        2\n",
       "first_affiliate_tracked_linked             2\n",
       "affiliate_provider_facebook                2\n",
       "affiliate_provider_bing                    1\n",
       "language_ja                                1\n",
       "language_no                                1\n",
       "affiliate_channel_api                      1\n",
       "first_browser_Android Browser              1\n",
       "first_browser_BlackBerry Browser           1\n",
       "signup_app_Android                         1\n",
       "first_browser_Chrome Mobile                1\n",
       "affiliate_provider_email-marketing         1\n",
       "signup_app_Moweb                           1\n",
       "affiliate_provider_google                  1\n",
       "language_pt                                1\n",
       "dtype: int64"
      ]
     },
     "execution_count": 149,
     "metadata": {},
     "output_type": "execute_result"
    }
   ],
   "source": [
    "feat_imp"
   ]
  },
  {
   "cell_type": "code",
   "execution_count": 83,
   "metadata": {
    "collapsed": false
   },
   "outputs": [
    {
     "data": {
      "text/plain": [
       "((62096, 171), (213451, 171), (213451, 169))"
      ]
     },
     "execution_count": 83,
     "metadata": {},
     "output_type": "execute_result"
    }
   ],
   "source": [
    "df_test.shape, df_train.shape, X.shape"
   ]
  },
  {
   "cell_type": "code",
   "execution_count": 87,
   "metadata": {
    "collapsed": false
   },
   "outputs": [],
   "source": [
    "df_test = df_test.drop('country_destination', axis=1, inplace=False)"
   ]
  },
  {
   "cell_type": "code",
   "execution_count": 88,
   "metadata": {
    "collapsed": true
   },
   "outputs": [],
   "source": [
    "id_test = df_test['id']"
   ]
  },
  {
   "cell_type": "code",
   "execution_count": 89,
   "metadata": {
    "collapsed": true
   },
   "outputs": [],
   "source": [
    "X_test = df_test.drop('id', axis=1, inplace=False)"
   ]
  },
  {
   "cell_type": "code",
   "execution_count": 90,
   "metadata": {
    "collapsed": false
   },
   "outputs": [
    {
     "data": {
      "text/plain": [
       "(62096, 169)"
      ]
     },
     "execution_count": 90,
     "metadata": {},
     "output_type": "execute_result"
    }
   ],
   "source": [
    "X_test.shape"
   ]
  },
  {
   "cell_type": "code",
   "execution_count": 91,
   "metadata": {
    "collapsed": true
   },
   "outputs": [],
   "source": [
    "# Make predictions\n",
    "y_pred = model.predict_proba(X_test)"
   ]
  },
  {
   "cell_type": "code",
   "execution_count": 96,
   "metadata": {
    "collapsed": false
   },
   "outputs": [
    {
     "data": {
      "text/plain": [
       "(62096, 12)"
      ]
     },
     "execution_count": 96,
     "metadata": {},
     "output_type": "execute_result"
    }
   ],
   "source": [
    "y_pred.shape"
   ]
  },
  {
   "cell_type": "code",
   "execution_count": 98,
   "metadata": {
    "collapsed": false
   },
   "outputs": [
    {
     "data": {
      "text/plain": [
       "array([ 0.0189902 ,  0.0204197 ,  0.01949647,  0.02277616,  0.02737292,\n",
       "        0.02184765,  0.02429677,  0.57817441,  0.01953008,  0.01816849,\n",
       "        0.18466853,  0.04425857], dtype=float32)"
      ]
     },
     "execution_count": 98,
     "metadata": {},
     "output_type": "execute_result"
    }
   ],
   "source": [
    "y_pred[0]"
   ]
  },
  {
   "cell_type": "code",
   "execution_count": 99,
   "metadata": {
    "collapsed": false
   },
   "outputs": [
    {
     "data": {
      "text/plain": [
       "array([ 9,  0,  2,  8,  1,  5,  3,  6,  4, 11, 10,  7])"
      ]
     },
     "execution_count": 99,
     "metadata": {},
     "output_type": "execute_result"
    }
   ],
   "source": [
    "np.argsort(y_pred[0])"
   ]
  },
  {
   "cell_type": "code",
   "execution_count": 100,
   "metadata": {
    "collapsed": false
   },
   "outputs": [
    {
     "data": {
      "text/plain": [
       "array([ 7, 10, 11,  4,  6,  3,  5,  1,  8,  2,  0,  9])"
      ]
     },
     "execution_count": 100,
     "metadata": {},
     "output_type": "execute_result"
    }
   ],
   "source": [
    "np.argsort(y_pred[0])[::-1]"
   ]
  },
  {
   "cell_type": "code",
   "execution_count": 101,
   "metadata": {
    "collapsed": false
   },
   "outputs": [
    {
     "data": {
      "text/plain": [
       "array(['NDF', 'US', 'other', 'FR', 'IT', 'ES', 'GB', 'CA', 'NL', 'DE',\n",
       "       'AU', 'PT'], dtype=object)"
      ]
     },
     "execution_count": 101,
     "metadata": {},
     "output_type": "execute_result"
    }
   ],
   "source": [
    "le.inverse_transform(np.argsort(y_pred[0])[::-1])"
   ]
  },
  {
   "cell_type": "code",
   "execution_count": 105,
   "metadata": {
    "collapsed": false
   },
   "outputs": [],
   "source": [
    "id_test = id_test.reset_index()"
   ]
  },
  {
   "cell_type": "code",
   "execution_count": 106,
   "metadata": {
    "collapsed": false
   },
   "outputs": [
    {
     "data": {
      "text/html": [
       "<div>\n",
       "<table border=\"1\" class=\"dataframe\">\n",
       "  <thead>\n",
       "    <tr style=\"text-align: right;\">\n",
       "      <th></th>\n",
       "      <th>index</th>\n",
       "      <th>id</th>\n",
       "    </tr>\n",
       "  </thead>\n",
       "  <tbody>\n",
       "    <tr>\n",
       "      <th>0</th>\n",
       "      <td>213451</td>\n",
       "      <td>5uwns89zht</td>\n",
       "    </tr>\n",
       "    <tr>\n",
       "      <th>1</th>\n",
       "      <td>213452</td>\n",
       "      <td>jtl0dijy2j</td>\n",
       "    </tr>\n",
       "    <tr>\n",
       "      <th>2</th>\n",
       "      <td>213453</td>\n",
       "      <td>xx0ulgorjt</td>\n",
       "    </tr>\n",
       "    <tr>\n",
       "      <th>3</th>\n",
       "      <td>213454</td>\n",
       "      <td>6c6puo6ix0</td>\n",
       "    </tr>\n",
       "    <tr>\n",
       "      <th>4</th>\n",
       "      <td>213455</td>\n",
       "      <td>czqhjk3yfe</td>\n",
       "    </tr>\n",
       "  </tbody>\n",
       "</table>\n",
       "</div>"
      ],
      "text/plain": [
       "    index          id\n",
       "0  213451  5uwns89zht\n",
       "1  213452  jtl0dijy2j\n",
       "2  213453  xx0ulgorjt\n",
       "3  213454  6c6puo6ix0\n",
       "4  213455  czqhjk3yfe"
      ]
     },
     "execution_count": 106,
     "metadata": {},
     "output_type": "execute_result"
    }
   ],
   "source": [
    "id_test.head()"
   ]
  },
  {
   "cell_type": "code",
   "execution_count": 107,
   "metadata": {
    "collapsed": true
   },
   "outputs": [],
   "source": [
    "ids_test = id_test.id.values"
   ]
  },
  {
   "cell_type": "code",
   "execution_count": 108,
   "metadata": {
    "collapsed": false
   },
   "outputs": [],
   "source": [
    "#Taking the 5 classes with highest probabilities\n",
    "ids = []  #list of ids\n",
    "cts = []  #list of countries\n",
    "for i in range(len(ids_test)):\n",
    "    idx = ids_test[i]\n",
    "    ids += [idx] * 5\n",
    "    cts += le.inverse_transform(np.argsort(y_pred[i])[::-1])[:5].tolist()"
   ]
  },
  {
   "cell_type": "code",
   "execution_count": 112,
   "metadata": {
    "collapsed": false
   },
   "outputs": [
    {
     "data": {
      "text/plain": [
       "(310480,\n",
       " 310480,\n",
       " ['5uwns89zht',\n",
       "  '5uwns89zht',\n",
       "  '5uwns89zht',\n",
       "  '5uwns89zht',\n",
       "  '5uwns89zht',\n",
       "  'jtl0dijy2j',\n",
       "  'jtl0dijy2j',\n",
       "  'jtl0dijy2j',\n",
       "  'jtl0dijy2j',\n",
       "  'jtl0dijy2j'],\n",
       " ['NDF', 'US', 'other', 'FR', 'IT', 'NDF', 'US', 'other', 'FR', 'IT'])"
      ]
     },
     "execution_count": 112,
     "metadata": {},
     "output_type": "execute_result"
    }
   ],
   "source": [
    "len(ids), len(cts), ids[:10], cts[:10]"
   ]
  },
  {
   "cell_type": "code",
   "execution_count": 113,
   "metadata": {
    "collapsed": false
   },
   "outputs": [
    {
     "data": {
      "text/plain": [
       "array([['5uwns89zht', 'NDF'],\n",
       "       ['5uwns89zht', 'US'],\n",
       "       ['5uwns89zht', 'other'],\n",
       "       ..., \n",
       "       ['9uqfg8txu3', 'other'],\n",
       "       ['9uqfg8txu3', 'FR'],\n",
       "       ['9uqfg8txu3', 'IT']], \n",
       "      dtype='|S10')"
      ]
     },
     "execution_count": 113,
     "metadata": {},
     "output_type": "execute_result"
    }
   ],
   "source": [
    "np.column_stack((ids,cts))"
   ]
  },
  {
   "cell_type": "code",
   "execution_count": 114,
   "metadata": {
    "collapsed": false
   },
   "outputs": [
    {
     "name": "stdout",
     "output_type": "stream",
     "text": [
      "Outputting final results...\n"
     ]
    }
   ],
   "source": [
    "#Generate submission\n",
    "print(\"Outputting final results...\")\n",
    "sub = pd.DataFrame(np.column_stack((ids, cts)), columns=['id', 'country'])\n",
    "sub.to_csv('./data/submission-2016-10-21.csv', index=False)"
   ]
  },
  {
   "cell_type": "code",
   "execution_count": null,
   "metadata": {
    "collapsed": true
   },
   "outputs": [],
   "source": [
    "# 1. Combine train and test users data\n",
    "# 2. Convert gender to NA\n",
    "# 3. Convert date/timestamp to Python datetime\n",
    "# 4. Drop date_first_booking\n",
    "# 5. Handle age outlier \n",
    "# 6. Date feature extraction\n",
    "# 7. One-hot-encoding\n",
    "# 8. Join with session data\n",
    "# 9. Clean other missing values"
   ]
  }
 ],
 "metadata": {
  "kernelspec": {
   "display_name": "Python 2",
   "language": "python",
   "name": "python2"
  },
  "language_info": {
   "codemirror_mode": {
    "name": "ipython",
    "version": 2
   },
   "file_extension": ".py",
   "mimetype": "text/x-python",
   "name": "python",
   "nbconvert_exporter": "python",
   "pygments_lexer": "ipython2",
   "version": "2.7.10"
  }
 },
 "nbformat": 4,
 "nbformat_minor": 0
}
