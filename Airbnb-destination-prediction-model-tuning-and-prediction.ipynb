{
 "cells": [
  {
   "cell_type": "code",
   "execution_count": 1,
   "metadata": {
    "collapsed": true
   },
   "outputs": [],
   "source": [
    "import numpy as np\n",
    "import pandas as pd"
   ]
  },
  {
   "cell_type": "code",
   "execution_count": 2,
   "metadata": {
    "collapsed": true
   },
   "outputs": [],
   "source": [
    "df_train = pd.read_csv('./data/train_features_ready.csv')\n",
    "df_test = pd.read_csv('./data/test_features_ready.csv')"
   ]
  },
  {
   "cell_type": "code",
   "execution_count": 3,
   "metadata": {
    "collapsed": false
   },
   "outputs": [
    {
     "data": {
      "text/plain": [
       "((213451, 317), (62096, 317))"
      ]
     },
     "execution_count": 3,
     "metadata": {},
     "output_type": "execute_result"
    }
   ],
   "source": [
    "df_train.shape, df_test.shape"
   ]
  },
  {
   "cell_type": "code",
   "execution_count": 5,
   "metadata": {
    "collapsed": true
   },
   "outputs": [],
   "source": [
    "from sklearn.preprocessing import LabelEncoder\n",
    "labels = df_train['country_destination']\n",
    "le = LabelEncoder()\n",
    "y = le.fit_transform(labels)\n",
    "X = df_train.drop('country_destination', axis=1, inplace=False)"
   ]
  },
  {
   "cell_type": "code",
   "execution_count": 6,
   "metadata": {
    "collapsed": true
   },
   "outputs": [],
   "source": [
    "idtrain = df_train['id']\n",
    "X = X.drop('id', axis=1, inplace=False)"
   ]
  },
  {
   "cell_type": "code",
   "execution_count": 7,
   "metadata": {
    "collapsed": false
   },
   "outputs": [
    {
     "data": {
      "text/plain": [
       "((213451, 315), (213451,))"
      ]
     },
     "execution_count": 7,
     "metadata": {},
     "output_type": "execute_result"
    }
   ],
   "source": [
    "X.shape, y.shape"
   ]
  },
  {
   "cell_type": "code",
   "execution_count": 8,
   "metadata": {
    "collapsed": true
   },
   "outputs": [],
   "source": [
    "# Grid Search - Used to find best combination of parameters\n",
    "import xgboost as xgb\n",
    "from xgboost.sklearn import XGBClassifier\n",
    "from sklearn import cross_validation, metrics   #Additional scklearn functions\n",
    "from sklearn.grid_search import GridSearchCV   #Perforing grid search"
   ]
  },
  {
   "cell_type": "code",
   "execution_count": 10,
   "metadata": {
    "collapsed": true
   },
   "outputs": [],
   "source": [
    "XGB_model = xgb.XGBClassifier(objective='multi:softprob', subsample=0.5, colsample_bytree=0.5, seed=0)\n",
    "param_grid = {'max_depth': [3], 'learning_rate': [0.1, 0.2, 0.3], 'n_estimators': [25]}\n",
    "model = GridSearchCV(estimator=XGB_model, param_grid=param_grid, scoring='accuracy', verbose=10, n_jobs=1, iid=True, refit=True, cv=3)"
   ]
  },
  {
   "cell_type": "code",
   "execution_count": 11,
   "metadata": {
    "collapsed": false
   },
   "outputs": [
    {
     "name": "stdout",
     "output_type": "stream",
     "text": [
      "Fitting 3 folds for each of 3 candidates, totalling 9 fits\n",
      "[CV] n_estimators=25, learning_rate=0.1, max_depth=3 .................\n",
      "[CV]  n_estimators=25, learning_rate=0.1, max_depth=3, score=0.176434 - 5.2min\n",
      "[CV] n_estimators=25, learning_rate=0.1, max_depth=3 .................\n",
      "[CV]  n_estimators=25, learning_rate=0.1, max_depth=3, score=0.568931 - 4.5min"
     ]
    },
    {
     "name": "stderr",
     "output_type": "stream",
     "text": [
      "[Parallel(n_jobs=1)]: Done   1 jobs       | elapsed:  5.2min\n",
      "[Parallel(n_jobs=1)]: Done   2 jobs       | elapsed:  9.7min\n"
     ]
    },
    {
     "name": "stdout",
     "output_type": "stream",
     "text": [
      "\n",
      "[CV] n_estimators=25, learning_rate=0.1, max_depth=3 .................\n",
      "[CV]  n_estimators=25, learning_rate=0.1, max_depth=3, score=0.585444 - 4.3min\n",
      "[CV] n_estimators=25, learning_rate=0.2, max_depth=3 .................\n",
      "[CV]  n_estimators=25, learning_rate=0.2, max_depth=3, score=0.093263 - 5.0min\n",
      "[CV] n_estimators=25, learning_rate=0.2, max_depth=3 .................\n",
      "[CV]  n_estimators=25, learning_rate=0.2, max_depth=3, score=0.549915 - 5.2min\n",
      "[CV] n_estimators=25, learning_rate=0.2, max_depth=3 .................\n",
      "[CV]  n_estimators=25, learning_rate=0.2, max_depth=3, score=0.586091 - 5.0min\n",
      "[CV] n_estimators=25, learning_rate=0.3, max_depth=3 .................\n",
      "[CV]  n_estimators=25, learning_rate=0.3, max_depth=3, score=0.060741 - 5.6min\n",
      "[CV] n_estimators=25, learning_rate=0.3, max_depth=3 .................\n",
      "[CV]  n_estimators=25, learning_rate=0.3, max_depth=3, score=0.427696 - 7.3min"
     ]
    },
    {
     "name": "stderr",
     "output_type": "stream",
     "text": [
      "[Parallel(n_jobs=1)]: Done   5 jobs       | elapsed: 24.1min\n",
      "[Parallel(n_jobs=1)]: Done   8 jobs       | elapsed: 42.1min\n"
     ]
    },
    {
     "name": "stdout",
     "output_type": "stream",
     "text": [
      "\n",
      "[CV] n_estimators=25, learning_rate=0.3, max_depth=3 .................\n",
      "[CV]  n_estimators=25, learning_rate=0.3, max_depth=3, score=0.585992 - 6.4min\n",
      "Best score: 0.444\n",
      "Best parameters set:\n",
      "\tlearning_rate: 0.1\n",
      "\tmax_depth: 3\n",
      "\tn_estimators: 25\n"
     ]
    },
    {
     "name": "stderr",
     "output_type": "stream",
     "text": [
      "[Parallel(n_jobs=1)]: Done   9 out of   9 | elapsed: 48.5min finished\n"
     ]
    }
   ],
   "source": [
    "model.fit(X, y)\n",
    "print(\"Best score: %0.3f\" % model.best_score_)\n",
    "print(\"Best parameters set:\")\n",
    "best_parameters = model.best_estimator_.get_params()\n",
    "for param_name in sorted(param_grid.keys()):\n",
    "    print(\"\\t%s: %r\" % (param_name, best_parameters[param_name]))"
   ]
  },
  {
   "cell_type": "code",
   "execution_count": 12,
   "metadata": {
    "collapsed": false
   },
   "outputs": [
    {
     "name": "stdout",
     "output_type": "stream",
     "text": [
      "Fitting 3 folds for each of 3 candidates, totalling 9 fits\n",
      "[CV] n_estimators=25, learning_rate=0.1, max_depth=3 .................\n",
      "[CV]  n_estimators=25, learning_rate=0.1, max_depth=3, score=0.176434 - 4.8min\n",
      "[CV] n_estimators=25, learning_rate=0.1, max_depth=3 .................\n",
      "[CV]  n_estimators=25, learning_rate=0.1, max_depth=3, score=0.568931 - 4.2min"
     ]
    },
    {
     "name": "stderr",
     "output_type": "stream",
     "text": [
      "[Parallel(n_jobs=1)]: Done   1 jobs       | elapsed:  4.8min\n",
      "[Parallel(n_jobs=1)]: Done   2 jobs       | elapsed:  9.1min\n"
     ]
    },
    {
     "name": "stdout",
     "output_type": "stream",
     "text": [
      "\n",
      "[CV] n_estimators=25, learning_rate=0.1, max_depth=3 .................\n",
      "[CV]  n_estimators=25, learning_rate=0.1, max_depth=3, score=0.585444 -17.0min\n",
      "[CV] n_estimators=25, learning_rate=0.1, max_depth=4 .................\n",
      "[CV]  n_estimators=25, learning_rate=0.1, max_depth=4, score=0.106361 - 7.0min\n",
      "[CV] n_estimators=25, learning_rate=0.1, max_depth=4 .................\n",
      "[CV]  n_estimators=25, learning_rate=0.1, max_depth=4, score=0.225731 - 7.7min\n",
      "[CV] n_estimators=25, learning_rate=0.1, max_depth=4 .................\n",
      "[CV]  n_estimators=25, learning_rate=0.1, max_depth=4, score=0.585318 - 5.5min\n",
      "[CV] n_estimators=25, learning_rate=0.1, max_depth=6 .................\n",
      "[CV]  n_estimators=25, learning_rate=0.1, max_depth=6, score=0.054403 -10.0min\n",
      "[CV] n_estimators=25, learning_rate=0.1, max_depth=6 .................\n",
      "[CV]  n_estimators=25, learning_rate=0.1, max_depth=6, score=0.180503 - 9.8min"
     ]
    },
    {
     "name": "stderr",
     "output_type": "stream",
     "text": [
      "[Parallel(n_jobs=1)]: Done   5 jobs       | elapsed: 40.7min\n",
      "[Parallel(n_jobs=1)]: Done   8 jobs       | elapsed: 66.1min\n"
     ]
    },
    {
     "name": "stdout",
     "output_type": "stream",
     "text": [
      "\n",
      "[CV] n_estimators=25, learning_rate=0.1, max_depth=6 .................\n",
      "[CV]  n_estimators=25, learning_rate=0.1, max_depth=6, score=0.585247 - 9.2min\n",
      "Best score: 0.444\n",
      "Best parameters set:\n",
      "\tlearning_rate: 0.1\n",
      "\tmax_depth: 3\n",
      "\tn_estimators: 25\n"
     ]
    },
    {
     "name": "stderr",
     "output_type": "stream",
     "text": [
      "[Parallel(n_jobs=1)]: Done   9 out of   9 | elapsed: 75.3min finished\n"
     ]
    }
   ],
   "source": [
    "param_grid = {'max_depth': [3,4,6], 'learning_rate': [0.1], 'n_estimators': [25]}\n",
    "model = GridSearchCV(estimator=XGB_model, param_grid=param_grid, scoring='accuracy', verbose=10, n_jobs=1, iid=True, refit=True, cv=3)\n",
    "model.fit(X, y)\n",
    "print(\"Best score: %0.3f\" % model.best_score_)\n",
    "print(\"Best parameters set:\")\n",
    "best_parameters = model.best_estimator_.get_params()\n",
    "for param_name in sorted(param_grid.keys()):\n",
    "    print(\"\\t%s: %r\" % (param_name, best_parameters[param_name]))"
   ]
  },
  {
   "cell_type": "code",
   "execution_count": 13,
   "metadata": {
    "collapsed": false
   },
   "outputs": [
    {
     "name": "stdout",
     "output_type": "stream",
     "text": [
      "Fitting 3 folds for each of 3 candidates, totalling 9 fits\n",
      "[CV] n_estimators=25, learning_rate=0.1, max_depth=3 .................\n",
      "[CV]  n_estimators=25, learning_rate=0.1, max_depth=3, score=0.176434 - 4.1min\n",
      "[CV] n_estimators=25, learning_rate=0.1, max_depth=3 .................\n",
      "[CV]  n_estimators=25, learning_rate=0.1, max_depth=3, score=0.568931 - 4.0min"
     ]
    },
    {
     "name": "stderr",
     "output_type": "stream",
     "text": [
      "[Parallel(n_jobs=1)]: Done   1 jobs       | elapsed:  4.1min\n",
      "[Parallel(n_jobs=1)]: Done   2 jobs       | elapsed:  8.2min\n"
     ]
    },
    {
     "name": "stdout",
     "output_type": "stream",
     "text": [
      "\n",
      "[CV] n_estimators=25, learning_rate=0.1, max_depth=3 .................\n",
      "[CV]  n_estimators=25, learning_rate=0.1, max_depth=3, score=0.585444 -13.0min\n",
      "[CV] n_estimators=50, learning_rate=0.1, max_depth=3 .................\n",
      "[CV]  n_estimators=50, learning_rate=0.1, max_depth=3, score=0.091435 - 8.7min\n",
      "[CV] n_estimators=50, learning_rate=0.1, max_depth=3 .................\n",
      "[CV]  n_estimators=50, learning_rate=0.1, max_depth=3, score=0.555621 - 8.4min\n",
      "[CV] n_estimators=50, learning_rate=0.1, max_depth=3 .................\n",
      "[CV]  n_estimators=50, learning_rate=0.1, max_depth=3, score=0.586231 - 7.8min\n",
      "[CV] n_estimators=75, learning_rate=0.1, max_depth=3 .................\n",
      "[CV]  n_estimators=75, learning_rate=0.1, max_depth=3, score=0.061149 -12.8min\n",
      "[CV] n_estimators=75, learning_rate=0.1, max_depth=3 .................\n",
      "[CV]  n_estimators=75, learning_rate=0.1, max_depth=3, score=0.520597 -13.2min"
     ]
    },
    {
     "name": "stderr",
     "output_type": "stream",
     "text": [
      "[Parallel(n_jobs=1)]: Done   5 jobs       | elapsed: 38.2min\n",
      "[Parallel(n_jobs=1)]: Done   8 jobs       | elapsed: 72.0min\n"
     ]
    },
    {
     "name": "stdout",
     "output_type": "stream",
     "text": [
      "\n",
      "[CV] n_estimators=75, learning_rate=0.1, max_depth=3 .................\n",
      "[CV]  n_estimators=75, learning_rate=0.1, max_depth=3, score=0.586273 -12.7min\n",
      "Best score: 0.444\n",
      "Best parameters set:\n",
      "\tlearning_rate: 0.1\n",
      "\tmax_depth: 3\n",
      "\tn_estimators: 25\n"
     ]
    },
    {
     "name": "stderr",
     "output_type": "stream",
     "text": [
      "[Parallel(n_jobs=1)]: Done   9 out of   9 | elapsed: 84.7min finished\n"
     ]
    }
   ],
   "source": [
    "param_grid = {'max_depth': [3], 'learning_rate': [0.1], 'n_estimators': [25,50,75]}\n",
    "model = GridSearchCV(estimator=XGB_model, param_grid=param_grid, scoring='accuracy', verbose=10, n_jobs=1, iid=True, refit=True, cv=3)\n",
    "model.fit(X, y)\n",
    "print(\"Best score: %0.3f\" % model.best_score_)\n",
    "print(\"Best parameters set:\")\n",
    "best_parameters = model.best_estimator_.get_params()\n",
    "for param_name in sorted(param_grid.keys()):\n",
    "    print(\"\\t%s: %r\" % (param_name, best_parameters[param_name]))"
   ]
  },
  {
   "cell_type": "code",
   "execution_count": 15,
   "metadata": {
    "collapsed": false
   },
   "outputs": [
    {
     "data": {
      "text/plain": [
       "'Best parameters set:\\n\\tlearning_rate: 0.1\\n\\tmax_depth: 3\\n\\tn_estimators: 25\\n'"
      ]
     },
     "execution_count": 15,
     "metadata": {},
     "output_type": "execute_result"
    }
   ],
   "source": [
    "'''Best parameters set:\n",
    "\tlearning_rate: 0.1\n",
    "\tmax_depth: 3\n",
    "\tn_estimators: 25\n",
    "'''"
   ]
  },
  {
   "cell_type": "code",
   "execution_count": null,
   "metadata": {
    "collapsed": true
   },
   "outputs": [],
   "source": []
  }
 ],
 "metadata": {
  "kernelspec": {
   "display_name": "Python 2",
   "language": "python",
   "name": "python2"
  },
  "language_info": {
   "codemirror_mode": {
    "name": "ipython",
    "version": 2
   },
   "file_extension": ".py",
   "mimetype": "text/x-python",
   "name": "python",
   "nbconvert_exporter": "python",
   "pygments_lexer": "ipython2",
   "version": "2.7.10"
  }
 },
 "nbformat": 4,
 "nbformat_minor": 0
}
