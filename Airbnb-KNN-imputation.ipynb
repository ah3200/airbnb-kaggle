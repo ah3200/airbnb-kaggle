{
 "cells": [
  {
   "cell_type": "code",
   "execution_count": 1,
   "metadata": {
    "collapsed": true
   },
   "outputs": [],
   "source": [
    "import pandas as pd\n",
    "import numpy as np"
   ]
  },
  {
   "cell_type": "code",
   "execution_count": 2,
   "metadata": {
    "collapsed": true
   },
   "outputs": [],
   "source": [
    "# Load the data into DataFrames\n",
    "train_users = pd.read_csv('./data/train_users_2.csv')\n",
    "test_users = pd.read_csv('./data/test_users.csv')"
   ]
  },
  {
   "cell_type": "code",
   "execution_count": 3,
   "metadata": {
    "collapsed": false
   },
   "outputs": [
    {
     "data": {
      "text/plain": [
       "(213451, 62096, (213451, 16), (62096, 15))"
      ]
     },
     "execution_count": 3,
     "metadata": {},
     "output_type": "execute_result"
    }
   ],
   "source": [
    "# Inspect data \n",
    "len(train_users.id.unique()), len(test_users.id.unique()), train_users.shape, test_users.shape"
   ]
  },
  {
   "cell_type": "code",
   "execution_count": 4,
   "metadata": {
    "collapsed": false
   },
   "outputs": [
    {
     "data": {
      "text/html": [
       "<div>\n",
       "<table border=\"1\" class=\"dataframe\">\n",
       "  <thead>\n",
       "    <tr style=\"text-align: right;\">\n",
       "      <th></th>\n",
       "      <th>affiliate_channel</th>\n",
       "      <th>affiliate_provider</th>\n",
       "      <th>age</th>\n",
       "      <th>country_destination</th>\n",
       "      <th>date_account_created</th>\n",
       "      <th>date_first_booking</th>\n",
       "      <th>first_affiliate_tracked</th>\n",
       "      <th>first_browser</th>\n",
       "      <th>first_device_type</th>\n",
       "      <th>gender</th>\n",
       "      <th>id</th>\n",
       "      <th>language</th>\n",
       "      <th>signup_app</th>\n",
       "      <th>signup_flow</th>\n",
       "      <th>signup_method</th>\n",
       "      <th>timestamp_first_active</th>\n",
       "    </tr>\n",
       "  </thead>\n",
       "  <tbody>\n",
       "    <tr>\n",
       "      <th>0</th>\n",
       "      <td>direct</td>\n",
       "      <td>direct</td>\n",
       "      <td>NaN</td>\n",
       "      <td>NDF</td>\n",
       "      <td>2010-06-28</td>\n",
       "      <td>NaN</td>\n",
       "      <td>untracked</td>\n",
       "      <td>Chrome</td>\n",
       "      <td>Mac Desktop</td>\n",
       "      <td>-unknown-</td>\n",
       "      <td>gxn3p5htnn</td>\n",
       "      <td>en</td>\n",
       "      <td>Web</td>\n",
       "      <td>0</td>\n",
       "      <td>facebook</td>\n",
       "      <td>20090319043255</td>\n",
       "    </tr>\n",
       "    <tr>\n",
       "      <th>1</th>\n",
       "      <td>seo</td>\n",
       "      <td>google</td>\n",
       "      <td>38.0</td>\n",
       "      <td>NDF</td>\n",
       "      <td>2011-05-25</td>\n",
       "      <td>NaN</td>\n",
       "      <td>untracked</td>\n",
       "      <td>Chrome</td>\n",
       "      <td>Mac Desktop</td>\n",
       "      <td>MALE</td>\n",
       "      <td>820tgsjxq7</td>\n",
       "      <td>en</td>\n",
       "      <td>Web</td>\n",
       "      <td>0</td>\n",
       "      <td>facebook</td>\n",
       "      <td>20090523174809</td>\n",
       "    </tr>\n",
       "    <tr>\n",
       "      <th>2</th>\n",
       "      <td>direct</td>\n",
       "      <td>direct</td>\n",
       "      <td>56.0</td>\n",
       "      <td>US</td>\n",
       "      <td>2010-09-28</td>\n",
       "      <td>2010-08-02</td>\n",
       "      <td>untracked</td>\n",
       "      <td>IE</td>\n",
       "      <td>Windows Desktop</td>\n",
       "      <td>FEMALE</td>\n",
       "      <td>4ft3gnwmtx</td>\n",
       "      <td>en</td>\n",
       "      <td>Web</td>\n",
       "      <td>3</td>\n",
       "      <td>basic</td>\n",
       "      <td>20090609231247</td>\n",
       "    </tr>\n",
       "    <tr>\n",
       "      <th>3</th>\n",
       "      <td>direct</td>\n",
       "      <td>direct</td>\n",
       "      <td>42.0</td>\n",
       "      <td>other</td>\n",
       "      <td>2011-12-05</td>\n",
       "      <td>2012-09-08</td>\n",
       "      <td>untracked</td>\n",
       "      <td>Firefox</td>\n",
       "      <td>Mac Desktop</td>\n",
       "      <td>FEMALE</td>\n",
       "      <td>bjjt8pjhuk</td>\n",
       "      <td>en</td>\n",
       "      <td>Web</td>\n",
       "      <td>0</td>\n",
       "      <td>facebook</td>\n",
       "      <td>20091031060129</td>\n",
       "    </tr>\n",
       "    <tr>\n",
       "      <th>4</th>\n",
       "      <td>direct</td>\n",
       "      <td>direct</td>\n",
       "      <td>41.0</td>\n",
       "      <td>US</td>\n",
       "      <td>2010-09-14</td>\n",
       "      <td>2010-02-18</td>\n",
       "      <td>untracked</td>\n",
       "      <td>Chrome</td>\n",
       "      <td>Mac Desktop</td>\n",
       "      <td>-unknown-</td>\n",
       "      <td>87mebub9p4</td>\n",
       "      <td>en</td>\n",
       "      <td>Web</td>\n",
       "      <td>0</td>\n",
       "      <td>basic</td>\n",
       "      <td>20091208061105</td>\n",
       "    </tr>\n",
       "  </tbody>\n",
       "</table>\n",
       "</div>"
      ],
      "text/plain": [
       "  affiliate_channel affiliate_provider   age country_destination  \\\n",
       "0            direct             direct   NaN                 NDF   \n",
       "1               seo             google  38.0                 NDF   \n",
       "2            direct             direct  56.0                  US   \n",
       "3            direct             direct  42.0               other   \n",
       "4            direct             direct  41.0                  US   \n",
       "\n",
       "  date_account_created date_first_booking first_affiliate_tracked  \\\n",
       "0           2010-06-28                NaN               untracked   \n",
       "1           2011-05-25                NaN               untracked   \n",
       "2           2010-09-28         2010-08-02               untracked   \n",
       "3           2011-12-05         2012-09-08               untracked   \n",
       "4           2010-09-14         2010-02-18               untracked   \n",
       "\n",
       "  first_browser first_device_type     gender          id language signup_app  \\\n",
       "0        Chrome       Mac Desktop  -unknown-  gxn3p5htnn       en        Web   \n",
       "1        Chrome       Mac Desktop       MALE  820tgsjxq7       en        Web   \n",
       "2            IE   Windows Desktop     FEMALE  4ft3gnwmtx       en        Web   \n",
       "3       Firefox       Mac Desktop     FEMALE  bjjt8pjhuk       en        Web   \n",
       "4        Chrome       Mac Desktop  -unknown-  87mebub9p4       en        Web   \n",
       "\n",
       "   signup_flow signup_method  timestamp_first_active  \n",
       "0            0      facebook          20090319043255  \n",
       "1            0      facebook          20090523174809  \n",
       "2            3         basic          20090609231247  \n",
       "3            0      facebook          20091031060129  \n",
       "4            0         basic          20091208061105  "
      ]
     },
     "execution_count": 4,
     "metadata": {},
     "output_type": "execute_result"
    }
   ],
   "source": [
    "# Merge train and test users\n",
    "users = pd.concat((train_users, test_users), axis=0)\n",
    "users.head()"
   ]
  },
  {
   "cell_type": "code",
   "execution_count": 5,
   "metadata": {
    "collapsed": true
   },
   "outputs": [],
   "source": [
    "# Replace null in Gender field\n",
    "users.gender.replace('-unknown-', np.nan, inplace=True)"
   ]
  },
  {
   "cell_type": "code",
   "execution_count": 6,
   "metadata": {
    "collapsed": true
   },
   "outputs": [],
   "source": [
    "# Change Dates columns to Python Date format\n",
    "users['date_account_created'] = pd.to_datetime(users['date_account_created'], format='%Y-%m-%d')\n",
    "users['timestamp_first_active'] = pd.to_datetime(users['timestamp_first_active'], format='%Y%m%d%H%M%S')\n",
    "#users['date_account_created'].fillna(df_all.timestamp_first_active, inplace=True)"
   ]
  },
  {
   "cell_type": "code",
   "execution_count": 7,
   "metadata": {
    "collapsed": false
   },
   "outputs": [
    {
     "name": "stdout",
     "output_type": "stream",
     "text": [
      "0\n",
      "0\n",
      "119853\n"
     ]
    }
   ],
   "source": [
    "# Nullify outliers\n",
    "users.loc[users['age'] > 90,'age'] = np.NaN\n",
    "users.loc[users['age'] < 15,'age'] = np.NaN\n",
    "\n",
    "print len(users[users['age'] > 90])\n",
    "print len(users[users['age'] < 15])\n",
    "print len(users[users['age'].isnull()])"
   ]
  },
  {
   "cell_type": "code",
   "execution_count": 8,
   "metadata": {
    "collapsed": true
   },
   "outputs": [],
   "source": [
    "users = users.fillna({'age':-1})"
   ]
  },
  {
   "cell_type": "code",
   "execution_count": 9,
   "metadata": {
    "collapsed": true
   },
   "outputs": [],
   "source": [
    "# Extract Date Features\n",
    "import datetime as dt\n",
    "users['day_account_created'] = users['date_account_created'].dt.weekday\n",
    "users['month_account_created'] = users['date_account_created'].dt.month\n",
    "users['quarter_account_created'] = users['date_account_created'].dt.quarter\n",
    "users['year_account_created'] = users['date_account_created'].dt.year\n",
    "users['hour_first_active'] = users['timestamp_first_active'].dt.hour\n",
    "users['day_first_active'] = users['timestamp_first_active'].dt.weekday\n",
    "users['month_first_active'] = users['timestamp_first_active'].dt.month\n",
    "users['quarter_first_active'] = users['timestamp_first_active'].dt.quarter\n",
    "users['year_first_active'] = users['timestamp_first_active'].dt.year\n",
    "users['created_less_active'] = (users['date_account_created'] - users['timestamp_first_active']).dt.days"
   ]
  },
  {
   "cell_type": "code",
   "execution_count": 10,
   "metadata": {
    "collapsed": true
   },
   "outputs": [],
   "source": [
    "t_users = users.copy()\n",
    "t_users = t_users.set_index('id')\n",
    "\n",
    "cat_features = ['affiliate_channel',\n",
    " 'affiliate_provider',\n",
    " 'first_affiliate_tracked',\n",
    " 'first_browser',\n",
    " 'first_device_type',\n",
    " 'gender',\n",
    " 'language',\n",
    " 'signup_app',\n",
    " 'signup_flow',\n",
    " 'signup_method']\n",
    "num_features = ['day_account_created',\n",
    " 'month_account_created',\n",
    " 'quarter_account_created',\n",
    " 'year_account_created',\n",
    " 'hour_first_active',\n",
    " 'day_first_active',\n",
    " 'month_first_active',\n",
    " 'quarter_first_active',\n",
    " 'year_first_active',\n",
    " 'created_less_active',\n",
    " 'age']\n",
    "target = ['country_destination']"
   ]
  },
  {
   "cell_type": "code",
   "execution_count": 11,
   "metadata": {
    "collapsed": true
   },
   "outputs": [],
   "source": [
    "nogender_cat_features = ['affiliate_channel',\n",
    " 'affiliate_provider',\n",
    " 'first_affiliate_tracked',\n",
    " 'first_browser',\n",
    " 'first_device_type',\n",
    " 'language',\n",
    " 'signup_app',\n",
    " 'signup_flow',\n",
    " 'signup_method']\n",
    "\n",
    "other_features = ['day_account_created',\n",
    " 'month_account_created',\n",
    " 'quarter_account_created',\n",
    " 'year_account_created',\n",
    " 'hour_first_active',\n",
    " 'day_first_active',\n",
    " 'month_first_active',\n",
    " 'quarter_first_active',\n",
    " 'year_first_active',\n",
    " 'created_less_active',\n",
    " 'age',\n",
    " 'gender']"
   ]
  },
  {
   "cell_type": "code",
   "execution_count": 12,
   "metadata": {
    "collapsed": false
   },
   "outputs": [
    {
     "data": {
      "text/html": [
       "<div>\n",
       "<table border=\"1\" class=\"dataframe\">\n",
       "  <thead>\n",
       "    <tr style=\"text-align: right;\">\n",
       "      <th></th>\n",
       "      <th>affiliate_channel</th>\n",
       "      <th>affiliate_provider</th>\n",
       "      <th>age</th>\n",
       "      <th>country_destination</th>\n",
       "      <th>date_account_created</th>\n",
       "      <th>date_first_booking</th>\n",
       "      <th>first_affiliate_tracked</th>\n",
       "      <th>first_browser</th>\n",
       "      <th>first_device_type</th>\n",
       "      <th>gender</th>\n",
       "      <th>...</th>\n",
       "      <th>day_account_created</th>\n",
       "      <th>month_account_created</th>\n",
       "      <th>quarter_account_created</th>\n",
       "      <th>year_account_created</th>\n",
       "      <th>hour_first_active</th>\n",
       "      <th>day_first_active</th>\n",
       "      <th>month_first_active</th>\n",
       "      <th>quarter_first_active</th>\n",
       "      <th>year_first_active</th>\n",
       "      <th>created_less_active</th>\n",
       "    </tr>\n",
       "    <tr>\n",
       "      <th>id</th>\n",
       "      <th></th>\n",
       "      <th></th>\n",
       "      <th></th>\n",
       "      <th></th>\n",
       "      <th></th>\n",
       "      <th></th>\n",
       "      <th></th>\n",
       "      <th></th>\n",
       "      <th></th>\n",
       "      <th></th>\n",
       "      <th></th>\n",
       "      <th></th>\n",
       "      <th></th>\n",
       "      <th></th>\n",
       "      <th></th>\n",
       "      <th></th>\n",
       "      <th></th>\n",
       "      <th></th>\n",
       "      <th></th>\n",
       "      <th></th>\n",
       "      <th></th>\n",
       "    </tr>\n",
       "  </thead>\n",
       "  <tbody>\n",
       "    <tr>\n",
       "      <th>gxn3p5htnn</th>\n",
       "      <td>direct</td>\n",
       "      <td>direct</td>\n",
       "      <td>-1.0</td>\n",
       "      <td>NDF</td>\n",
       "      <td>2010-06-28</td>\n",
       "      <td>NaN</td>\n",
       "      <td>untracked</td>\n",
       "      <td>Chrome</td>\n",
       "      <td>Mac Desktop</td>\n",
       "      <td>NaN</td>\n",
       "      <td>...</td>\n",
       "      <td>0</td>\n",
       "      <td>6</td>\n",
       "      <td>2</td>\n",
       "      <td>2010</td>\n",
       "      <td>4</td>\n",
       "      <td>3</td>\n",
       "      <td>3</td>\n",
       "      <td>1</td>\n",
       "      <td>2009</td>\n",
       "      <td>465</td>\n",
       "    </tr>\n",
       "    <tr>\n",
       "      <th>820tgsjxq7</th>\n",
       "      <td>seo</td>\n",
       "      <td>google</td>\n",
       "      <td>38.0</td>\n",
       "      <td>NDF</td>\n",
       "      <td>2011-05-25</td>\n",
       "      <td>NaN</td>\n",
       "      <td>untracked</td>\n",
       "      <td>Chrome</td>\n",
       "      <td>Mac Desktop</td>\n",
       "      <td>MALE</td>\n",
       "      <td>...</td>\n",
       "      <td>2</td>\n",
       "      <td>5</td>\n",
       "      <td>2</td>\n",
       "      <td>2011</td>\n",
       "      <td>17</td>\n",
       "      <td>5</td>\n",
       "      <td>5</td>\n",
       "      <td>2</td>\n",
       "      <td>2009</td>\n",
       "      <td>731</td>\n",
       "    </tr>\n",
       "    <tr>\n",
       "      <th>4ft3gnwmtx</th>\n",
       "      <td>direct</td>\n",
       "      <td>direct</td>\n",
       "      <td>56.0</td>\n",
       "      <td>US</td>\n",
       "      <td>2010-09-28</td>\n",
       "      <td>2010-08-02</td>\n",
       "      <td>untracked</td>\n",
       "      <td>IE</td>\n",
       "      <td>Windows Desktop</td>\n",
       "      <td>FEMALE</td>\n",
       "      <td>...</td>\n",
       "      <td>1</td>\n",
       "      <td>9</td>\n",
       "      <td>3</td>\n",
       "      <td>2010</td>\n",
       "      <td>23</td>\n",
       "      <td>1</td>\n",
       "      <td>6</td>\n",
       "      <td>2</td>\n",
       "      <td>2009</td>\n",
       "      <td>475</td>\n",
       "    </tr>\n",
       "    <tr>\n",
       "      <th>bjjt8pjhuk</th>\n",
       "      <td>direct</td>\n",
       "      <td>direct</td>\n",
       "      <td>42.0</td>\n",
       "      <td>other</td>\n",
       "      <td>2011-12-05</td>\n",
       "      <td>2012-09-08</td>\n",
       "      <td>untracked</td>\n",
       "      <td>Firefox</td>\n",
       "      <td>Mac Desktop</td>\n",
       "      <td>FEMALE</td>\n",
       "      <td>...</td>\n",
       "      <td>0</td>\n",
       "      <td>12</td>\n",
       "      <td>4</td>\n",
       "      <td>2011</td>\n",
       "      <td>6</td>\n",
       "      <td>5</td>\n",
       "      <td>10</td>\n",
       "      <td>4</td>\n",
       "      <td>2009</td>\n",
       "      <td>764</td>\n",
       "    </tr>\n",
       "    <tr>\n",
       "      <th>87mebub9p4</th>\n",
       "      <td>direct</td>\n",
       "      <td>direct</td>\n",
       "      <td>41.0</td>\n",
       "      <td>US</td>\n",
       "      <td>2010-09-14</td>\n",
       "      <td>2010-02-18</td>\n",
       "      <td>untracked</td>\n",
       "      <td>Chrome</td>\n",
       "      <td>Mac Desktop</td>\n",
       "      <td>NaN</td>\n",
       "      <td>...</td>\n",
       "      <td>1</td>\n",
       "      <td>9</td>\n",
       "      <td>3</td>\n",
       "      <td>2010</td>\n",
       "      <td>6</td>\n",
       "      <td>1</td>\n",
       "      <td>12</td>\n",
       "      <td>4</td>\n",
       "      <td>2009</td>\n",
       "      <td>279</td>\n",
       "    </tr>\n",
       "  </tbody>\n",
       "</table>\n",
       "<p>5 rows × 25 columns</p>\n",
       "</div>"
      ],
      "text/plain": [
       "           affiliate_channel affiliate_provider   age country_destination  \\\n",
       "id                                                                          \n",
       "gxn3p5htnn            direct             direct  -1.0                 NDF   \n",
       "820tgsjxq7               seo             google  38.0                 NDF   \n",
       "4ft3gnwmtx            direct             direct  56.0                  US   \n",
       "bjjt8pjhuk            direct             direct  42.0               other   \n",
       "87mebub9p4            direct             direct  41.0                  US   \n",
       "\n",
       "           date_account_created date_first_booking first_affiliate_tracked  \\\n",
       "id                                                                           \n",
       "gxn3p5htnn           2010-06-28                NaN               untracked   \n",
       "820tgsjxq7           2011-05-25                NaN               untracked   \n",
       "4ft3gnwmtx           2010-09-28         2010-08-02               untracked   \n",
       "bjjt8pjhuk           2011-12-05         2012-09-08               untracked   \n",
       "87mebub9p4           2010-09-14         2010-02-18               untracked   \n",
       "\n",
       "           first_browser first_device_type  gender         ...           \\\n",
       "id                                                         ...            \n",
       "gxn3p5htnn        Chrome       Mac Desktop     NaN         ...            \n",
       "820tgsjxq7        Chrome       Mac Desktop    MALE         ...            \n",
       "4ft3gnwmtx            IE   Windows Desktop  FEMALE         ...            \n",
       "bjjt8pjhuk       Firefox       Mac Desktop  FEMALE         ...            \n",
       "87mebub9p4        Chrome       Mac Desktop     NaN         ...            \n",
       "\n",
       "           day_account_created month_account_created  quarter_account_created  \\\n",
       "id                                                                              \n",
       "gxn3p5htnn                   0                     6                        2   \n",
       "820tgsjxq7                   2                     5                        2   \n",
       "4ft3gnwmtx                   1                     9                        3   \n",
       "bjjt8pjhuk                   0                    12                        4   \n",
       "87mebub9p4                   1                     9                        3   \n",
       "\n",
       "           year_account_created hour_first_active  day_first_active  \\\n",
       "id                                                                    \n",
       "gxn3p5htnn                 2010                 4                 3   \n",
       "820tgsjxq7                 2011                17                 5   \n",
       "4ft3gnwmtx                 2010                23                 1   \n",
       "bjjt8pjhuk                 2011                 6                 5   \n",
       "87mebub9p4                 2010                 6                 1   \n",
       "\n",
       "            month_first_active  quarter_first_active  year_first_active  \\\n",
       "id                                                                        \n",
       "gxn3p5htnn                   3                     1               2009   \n",
       "820tgsjxq7                   5                     2               2009   \n",
       "4ft3gnwmtx                   6                     2               2009   \n",
       "bjjt8pjhuk                  10                     4               2009   \n",
       "87mebub9p4                  12                     4               2009   \n",
       "\n",
       "            created_less_active  \n",
       "id                               \n",
       "gxn3p5htnn                  465  \n",
       "820tgsjxq7                  731  \n",
       "4ft3gnwmtx                  475  \n",
       "bjjt8pjhuk                  764  \n",
       "87mebub9p4                  279  \n",
       "\n",
       "[5 rows x 25 columns]"
      ]
     },
     "execution_count": 12,
     "metadata": {},
     "output_type": "execute_result"
    }
   ],
   "source": [
    "t_users.head()"
   ]
  },
  {
   "cell_type": "code",
   "execution_count": 13,
   "metadata": {
    "collapsed": true
   },
   "outputs": [],
   "source": [
    "encode_users = pd.get_dummies(t_users[nogender_cat_features])"
   ]
  },
  {
   "cell_type": "code",
   "execution_count": 14,
   "metadata": {
    "collapsed": false
   },
   "outputs": [
    {
     "data": {
      "text/plain": [
       "((275547, 132), (275547, 11))"
      ]
     },
     "execution_count": 14,
     "metadata": {},
     "output_type": "execute_result"
    }
   ],
   "source": [
    "encode_users.shape, t_users[num_features].shape"
   ]
  },
  {
   "cell_type": "code",
   "execution_count": 15,
   "metadata": {
    "collapsed": false
   },
   "outputs": [
    {
     "data": {
      "text/html": [
       "<div>\n",
       "<table border=\"1\" class=\"dataframe\">\n",
       "  <thead>\n",
       "    <tr style=\"text-align: right;\">\n",
       "      <th></th>\n",
       "      <th>signup_flow</th>\n",
       "      <th>affiliate_channel_api</th>\n",
       "      <th>affiliate_channel_content</th>\n",
       "      <th>affiliate_channel_direct</th>\n",
       "      <th>affiliate_channel_other</th>\n",
       "      <th>affiliate_channel_remarketing</th>\n",
       "      <th>affiliate_channel_sem-brand</th>\n",
       "      <th>affiliate_channel_sem-non-brand</th>\n",
       "      <th>affiliate_channel_seo</th>\n",
       "      <th>affiliate_provider_baidu</th>\n",
       "      <th>...</th>\n",
       "      <th>language_tr</th>\n",
       "      <th>language_zh</th>\n",
       "      <th>signup_app_Android</th>\n",
       "      <th>signup_app_Moweb</th>\n",
       "      <th>signup_app_Web</th>\n",
       "      <th>signup_app_iOS</th>\n",
       "      <th>signup_method_basic</th>\n",
       "      <th>signup_method_facebook</th>\n",
       "      <th>signup_method_google</th>\n",
       "      <th>signup_method_weibo</th>\n",
       "    </tr>\n",
       "    <tr>\n",
       "      <th>id</th>\n",
       "      <th></th>\n",
       "      <th></th>\n",
       "      <th></th>\n",
       "      <th></th>\n",
       "      <th></th>\n",
       "      <th></th>\n",
       "      <th></th>\n",
       "      <th></th>\n",
       "      <th></th>\n",
       "      <th></th>\n",
       "      <th></th>\n",
       "      <th></th>\n",
       "      <th></th>\n",
       "      <th></th>\n",
       "      <th></th>\n",
       "      <th></th>\n",
       "      <th></th>\n",
       "      <th></th>\n",
       "      <th></th>\n",
       "      <th></th>\n",
       "      <th></th>\n",
       "    </tr>\n",
       "  </thead>\n",
       "  <tbody>\n",
       "    <tr>\n",
       "      <th>gxn3p5htnn</th>\n",
       "      <td>0</td>\n",
       "      <td>0</td>\n",
       "      <td>0</td>\n",
       "      <td>1</td>\n",
       "      <td>0</td>\n",
       "      <td>0</td>\n",
       "      <td>0</td>\n",
       "      <td>0</td>\n",
       "      <td>0</td>\n",
       "      <td>0</td>\n",
       "      <td>...</td>\n",
       "      <td>0</td>\n",
       "      <td>0</td>\n",
       "      <td>0</td>\n",
       "      <td>0</td>\n",
       "      <td>1</td>\n",
       "      <td>0</td>\n",
       "      <td>0</td>\n",
       "      <td>1</td>\n",
       "      <td>0</td>\n",
       "      <td>0</td>\n",
       "    </tr>\n",
       "    <tr>\n",
       "      <th>820tgsjxq7</th>\n",
       "      <td>0</td>\n",
       "      <td>0</td>\n",
       "      <td>0</td>\n",
       "      <td>0</td>\n",
       "      <td>0</td>\n",
       "      <td>0</td>\n",
       "      <td>0</td>\n",
       "      <td>0</td>\n",
       "      <td>1</td>\n",
       "      <td>0</td>\n",
       "      <td>...</td>\n",
       "      <td>0</td>\n",
       "      <td>0</td>\n",
       "      <td>0</td>\n",
       "      <td>0</td>\n",
       "      <td>1</td>\n",
       "      <td>0</td>\n",
       "      <td>0</td>\n",
       "      <td>1</td>\n",
       "      <td>0</td>\n",
       "      <td>0</td>\n",
       "    </tr>\n",
       "    <tr>\n",
       "      <th>4ft3gnwmtx</th>\n",
       "      <td>3</td>\n",
       "      <td>0</td>\n",
       "      <td>0</td>\n",
       "      <td>1</td>\n",
       "      <td>0</td>\n",
       "      <td>0</td>\n",
       "      <td>0</td>\n",
       "      <td>0</td>\n",
       "      <td>0</td>\n",
       "      <td>0</td>\n",
       "      <td>...</td>\n",
       "      <td>0</td>\n",
       "      <td>0</td>\n",
       "      <td>0</td>\n",
       "      <td>0</td>\n",
       "      <td>1</td>\n",
       "      <td>0</td>\n",
       "      <td>1</td>\n",
       "      <td>0</td>\n",
       "      <td>0</td>\n",
       "      <td>0</td>\n",
       "    </tr>\n",
       "    <tr>\n",
       "      <th>bjjt8pjhuk</th>\n",
       "      <td>0</td>\n",
       "      <td>0</td>\n",
       "      <td>0</td>\n",
       "      <td>1</td>\n",
       "      <td>0</td>\n",
       "      <td>0</td>\n",
       "      <td>0</td>\n",
       "      <td>0</td>\n",
       "      <td>0</td>\n",
       "      <td>0</td>\n",
       "      <td>...</td>\n",
       "      <td>0</td>\n",
       "      <td>0</td>\n",
       "      <td>0</td>\n",
       "      <td>0</td>\n",
       "      <td>1</td>\n",
       "      <td>0</td>\n",
       "      <td>0</td>\n",
       "      <td>1</td>\n",
       "      <td>0</td>\n",
       "      <td>0</td>\n",
       "    </tr>\n",
       "    <tr>\n",
       "      <th>87mebub9p4</th>\n",
       "      <td>0</td>\n",
       "      <td>0</td>\n",
       "      <td>0</td>\n",
       "      <td>1</td>\n",
       "      <td>0</td>\n",
       "      <td>0</td>\n",
       "      <td>0</td>\n",
       "      <td>0</td>\n",
       "      <td>0</td>\n",
       "      <td>0</td>\n",
       "      <td>...</td>\n",
       "      <td>0</td>\n",
       "      <td>0</td>\n",
       "      <td>0</td>\n",
       "      <td>0</td>\n",
       "      <td>1</td>\n",
       "      <td>0</td>\n",
       "      <td>1</td>\n",
       "      <td>0</td>\n",
       "      <td>0</td>\n",
       "      <td>0</td>\n",
       "    </tr>\n",
       "  </tbody>\n",
       "</table>\n",
       "<p>5 rows × 132 columns</p>\n",
       "</div>"
      ],
      "text/plain": [
       "            signup_flow  affiliate_channel_api  affiliate_channel_content  \\\n",
       "id                                                                          \n",
       "gxn3p5htnn            0                      0                          0   \n",
       "820tgsjxq7            0                      0                          0   \n",
       "4ft3gnwmtx            3                      0                          0   \n",
       "bjjt8pjhuk            0                      0                          0   \n",
       "87mebub9p4            0                      0                          0   \n",
       "\n",
       "            affiliate_channel_direct  affiliate_channel_other  \\\n",
       "id                                                              \n",
       "gxn3p5htnn                         1                        0   \n",
       "820tgsjxq7                         0                        0   \n",
       "4ft3gnwmtx                         1                        0   \n",
       "bjjt8pjhuk                         1                        0   \n",
       "87mebub9p4                         1                        0   \n",
       "\n",
       "            affiliate_channel_remarketing  affiliate_channel_sem-brand  \\\n",
       "id                                                                       \n",
       "gxn3p5htnn                              0                            0   \n",
       "820tgsjxq7                              0                            0   \n",
       "4ft3gnwmtx                              0                            0   \n",
       "bjjt8pjhuk                              0                            0   \n",
       "87mebub9p4                              0                            0   \n",
       "\n",
       "            affiliate_channel_sem-non-brand  affiliate_channel_seo  \\\n",
       "id                                                                   \n",
       "gxn3p5htnn                                0                      0   \n",
       "820tgsjxq7                                0                      1   \n",
       "4ft3gnwmtx                                0                      0   \n",
       "bjjt8pjhuk                                0                      0   \n",
       "87mebub9p4                                0                      0   \n",
       "\n",
       "            affiliate_provider_baidu         ...           language_tr  \\\n",
       "id                                           ...                         \n",
       "gxn3p5htnn                         0         ...                     0   \n",
       "820tgsjxq7                         0         ...                     0   \n",
       "4ft3gnwmtx                         0         ...                     0   \n",
       "bjjt8pjhuk                         0         ...                     0   \n",
       "87mebub9p4                         0         ...                     0   \n",
       "\n",
       "            language_zh  signup_app_Android  signup_app_Moweb  signup_app_Web  \\\n",
       "id                                                                              \n",
       "gxn3p5htnn            0                   0                 0               1   \n",
       "820tgsjxq7            0                   0                 0               1   \n",
       "4ft3gnwmtx            0                   0                 0               1   \n",
       "bjjt8pjhuk            0                   0                 0               1   \n",
       "87mebub9p4            0                   0                 0               1   \n",
       "\n",
       "            signup_app_iOS  signup_method_basic  signup_method_facebook  \\\n",
       "id                                                                        \n",
       "gxn3p5htnn               0                    0                       1   \n",
       "820tgsjxq7               0                    0                       1   \n",
       "4ft3gnwmtx               0                    1                       0   \n",
       "bjjt8pjhuk               0                    0                       1   \n",
       "87mebub9p4               0                    1                       0   \n",
       "\n",
       "            signup_method_google  signup_method_weibo  \n",
       "id                                                     \n",
       "gxn3p5htnn                     0                    0  \n",
       "820tgsjxq7                     0                    0  \n",
       "4ft3gnwmtx                     0                    0  \n",
       "bjjt8pjhuk                     0                    0  \n",
       "87mebub9p4                     0                    0  \n",
       "\n",
       "[5 rows x 132 columns]"
      ]
     },
     "execution_count": 15,
     "metadata": {},
     "output_type": "execute_result"
    }
   ],
   "source": [
    "encode_users.head()"
   ]
  },
  {
   "cell_type": "code",
   "execution_count": 16,
   "metadata": {
    "collapsed": true
   },
   "outputs": [],
   "source": [
    "df_users = pd.merge(encode_users, t_users[other_features], how='inner', left_index=True, right_index=True)"
   ]
  },
  {
   "cell_type": "code",
   "execution_count": 17,
   "metadata": {
    "collapsed": false
   },
   "outputs": [
    {
     "data": {
      "text/plain": [
       "(275547, 144)"
      ]
     },
     "execution_count": 17,
     "metadata": {},
     "output_type": "execute_result"
    }
   ],
   "source": [
    "df_users.shape"
   ]
  },
  {
   "cell_type": "code",
   "execution_count": 18,
   "metadata": {
    "collapsed": false
   },
   "outputs": [
    {
     "data": {
      "text/html": [
       "<div>\n",
       "<table border=\"1\" class=\"dataframe\">\n",
       "  <thead>\n",
       "    <tr style=\"text-align: right;\">\n",
       "      <th></th>\n",
       "      <th>signup_flow</th>\n",
       "      <th>affiliate_channel_api</th>\n",
       "      <th>affiliate_channel_content</th>\n",
       "      <th>affiliate_channel_direct</th>\n",
       "      <th>affiliate_channel_other</th>\n",
       "      <th>affiliate_channel_remarketing</th>\n",
       "      <th>affiliate_channel_sem-brand</th>\n",
       "      <th>affiliate_channel_sem-non-brand</th>\n",
       "      <th>affiliate_channel_seo</th>\n",
       "      <th>affiliate_provider_baidu</th>\n",
       "      <th>...</th>\n",
       "      <th>quarter_account_created</th>\n",
       "      <th>year_account_created</th>\n",
       "      <th>hour_first_active</th>\n",
       "      <th>day_first_active</th>\n",
       "      <th>month_first_active</th>\n",
       "      <th>quarter_first_active</th>\n",
       "      <th>year_first_active</th>\n",
       "      <th>created_less_active</th>\n",
       "      <th>age</th>\n",
       "      <th>gender</th>\n",
       "    </tr>\n",
       "    <tr>\n",
       "      <th>id</th>\n",
       "      <th></th>\n",
       "      <th></th>\n",
       "      <th></th>\n",
       "      <th></th>\n",
       "      <th></th>\n",
       "      <th></th>\n",
       "      <th></th>\n",
       "      <th></th>\n",
       "      <th></th>\n",
       "      <th></th>\n",
       "      <th></th>\n",
       "      <th></th>\n",
       "      <th></th>\n",
       "      <th></th>\n",
       "      <th></th>\n",
       "      <th></th>\n",
       "      <th></th>\n",
       "      <th></th>\n",
       "      <th></th>\n",
       "      <th></th>\n",
       "      <th></th>\n",
       "    </tr>\n",
       "  </thead>\n",
       "  <tbody>\n",
       "    <tr>\n",
       "      <th>gxn3p5htnn</th>\n",
       "      <td>0</td>\n",
       "      <td>0</td>\n",
       "      <td>0</td>\n",
       "      <td>1</td>\n",
       "      <td>0</td>\n",
       "      <td>0</td>\n",
       "      <td>0</td>\n",
       "      <td>0</td>\n",
       "      <td>0</td>\n",
       "      <td>0</td>\n",
       "      <td>...</td>\n",
       "      <td>2</td>\n",
       "      <td>2010</td>\n",
       "      <td>4</td>\n",
       "      <td>3</td>\n",
       "      <td>3</td>\n",
       "      <td>1</td>\n",
       "      <td>2009</td>\n",
       "      <td>465</td>\n",
       "      <td>-1.0</td>\n",
       "      <td>NaN</td>\n",
       "    </tr>\n",
       "    <tr>\n",
       "      <th>820tgsjxq7</th>\n",
       "      <td>0</td>\n",
       "      <td>0</td>\n",
       "      <td>0</td>\n",
       "      <td>0</td>\n",
       "      <td>0</td>\n",
       "      <td>0</td>\n",
       "      <td>0</td>\n",
       "      <td>0</td>\n",
       "      <td>1</td>\n",
       "      <td>0</td>\n",
       "      <td>...</td>\n",
       "      <td>2</td>\n",
       "      <td>2011</td>\n",
       "      <td>17</td>\n",
       "      <td>5</td>\n",
       "      <td>5</td>\n",
       "      <td>2</td>\n",
       "      <td>2009</td>\n",
       "      <td>731</td>\n",
       "      <td>38.0</td>\n",
       "      <td>MALE</td>\n",
       "    </tr>\n",
       "    <tr>\n",
       "      <th>4ft3gnwmtx</th>\n",
       "      <td>3</td>\n",
       "      <td>0</td>\n",
       "      <td>0</td>\n",
       "      <td>1</td>\n",
       "      <td>0</td>\n",
       "      <td>0</td>\n",
       "      <td>0</td>\n",
       "      <td>0</td>\n",
       "      <td>0</td>\n",
       "      <td>0</td>\n",
       "      <td>...</td>\n",
       "      <td>3</td>\n",
       "      <td>2010</td>\n",
       "      <td>23</td>\n",
       "      <td>1</td>\n",
       "      <td>6</td>\n",
       "      <td>2</td>\n",
       "      <td>2009</td>\n",
       "      <td>475</td>\n",
       "      <td>56.0</td>\n",
       "      <td>FEMALE</td>\n",
       "    </tr>\n",
       "    <tr>\n",
       "      <th>bjjt8pjhuk</th>\n",
       "      <td>0</td>\n",
       "      <td>0</td>\n",
       "      <td>0</td>\n",
       "      <td>1</td>\n",
       "      <td>0</td>\n",
       "      <td>0</td>\n",
       "      <td>0</td>\n",
       "      <td>0</td>\n",
       "      <td>0</td>\n",
       "      <td>0</td>\n",
       "      <td>...</td>\n",
       "      <td>4</td>\n",
       "      <td>2011</td>\n",
       "      <td>6</td>\n",
       "      <td>5</td>\n",
       "      <td>10</td>\n",
       "      <td>4</td>\n",
       "      <td>2009</td>\n",
       "      <td>764</td>\n",
       "      <td>42.0</td>\n",
       "      <td>FEMALE</td>\n",
       "    </tr>\n",
       "    <tr>\n",
       "      <th>87mebub9p4</th>\n",
       "      <td>0</td>\n",
       "      <td>0</td>\n",
       "      <td>0</td>\n",
       "      <td>1</td>\n",
       "      <td>0</td>\n",
       "      <td>0</td>\n",
       "      <td>0</td>\n",
       "      <td>0</td>\n",
       "      <td>0</td>\n",
       "      <td>0</td>\n",
       "      <td>...</td>\n",
       "      <td>3</td>\n",
       "      <td>2010</td>\n",
       "      <td>6</td>\n",
       "      <td>1</td>\n",
       "      <td>12</td>\n",
       "      <td>4</td>\n",
       "      <td>2009</td>\n",
       "      <td>279</td>\n",
       "      <td>41.0</td>\n",
       "      <td>NaN</td>\n",
       "    </tr>\n",
       "  </tbody>\n",
       "</table>\n",
       "<p>5 rows × 144 columns</p>\n",
       "</div>"
      ],
      "text/plain": [
       "            signup_flow  affiliate_channel_api  affiliate_channel_content  \\\n",
       "id                                                                          \n",
       "gxn3p5htnn            0                      0                          0   \n",
       "820tgsjxq7            0                      0                          0   \n",
       "4ft3gnwmtx            3                      0                          0   \n",
       "bjjt8pjhuk            0                      0                          0   \n",
       "87mebub9p4            0                      0                          0   \n",
       "\n",
       "            affiliate_channel_direct  affiliate_channel_other  \\\n",
       "id                                                              \n",
       "gxn3p5htnn                         1                        0   \n",
       "820tgsjxq7                         0                        0   \n",
       "4ft3gnwmtx                         1                        0   \n",
       "bjjt8pjhuk                         1                        0   \n",
       "87mebub9p4                         1                        0   \n",
       "\n",
       "            affiliate_channel_remarketing  affiliate_channel_sem-brand  \\\n",
       "id                                                                       \n",
       "gxn3p5htnn                              0                            0   \n",
       "820tgsjxq7                              0                            0   \n",
       "4ft3gnwmtx                              0                            0   \n",
       "bjjt8pjhuk                              0                            0   \n",
       "87mebub9p4                              0                            0   \n",
       "\n",
       "            affiliate_channel_sem-non-brand  affiliate_channel_seo  \\\n",
       "id                                                                   \n",
       "gxn3p5htnn                                0                      0   \n",
       "820tgsjxq7                                0                      1   \n",
       "4ft3gnwmtx                                0                      0   \n",
       "bjjt8pjhuk                                0                      0   \n",
       "87mebub9p4                                0                      0   \n",
       "\n",
       "            affiliate_provider_baidu   ...    quarter_account_created  \\\n",
       "id                                     ...                              \n",
       "gxn3p5htnn                         0   ...                          2   \n",
       "820tgsjxq7                         0   ...                          2   \n",
       "4ft3gnwmtx                         0   ...                          3   \n",
       "bjjt8pjhuk                         0   ...                          4   \n",
       "87mebub9p4                         0   ...                          3   \n",
       "\n",
       "            year_account_created  hour_first_active  day_first_active  \\\n",
       "id                                                                      \n",
       "gxn3p5htnn                  2010                  4                 3   \n",
       "820tgsjxq7                  2011                 17                 5   \n",
       "4ft3gnwmtx                  2010                 23                 1   \n",
       "bjjt8pjhuk                  2011                  6                 5   \n",
       "87mebub9p4                  2010                  6                 1   \n",
       "\n",
       "            month_first_active  quarter_first_active  year_first_active  \\\n",
       "id                                                                        \n",
       "gxn3p5htnn                   3                     1               2009   \n",
       "820tgsjxq7                   5                     2               2009   \n",
       "4ft3gnwmtx                   6                     2               2009   \n",
       "bjjt8pjhuk                  10                     4               2009   \n",
       "87mebub9p4                  12                     4               2009   \n",
       "\n",
       "            created_less_active   age  gender  \n",
       "id                                             \n",
       "gxn3p5htnn                  465  -1.0     NaN  \n",
       "820tgsjxq7                  731  38.0    MALE  \n",
       "4ft3gnwmtx                  475  56.0  FEMALE  \n",
       "bjjt8pjhuk                  764  42.0  FEMALE  \n",
       "87mebub9p4                  279  41.0     NaN  \n",
       "\n",
       "[5 rows x 144 columns]"
      ]
     },
     "execution_count": 18,
     "metadata": {},
     "output_type": "execute_result"
    }
   ],
   "source": [
    "df_users.head()"
   ]
  },
  {
   "cell_type": "code",
   "execution_count": 19,
   "metadata": {
    "collapsed": true
   },
   "outputs": [],
   "source": [
    "# Join/Merge with session data\n",
    "user_devices = pd.read_csv('./data/user_devices.csv')\n",
    "user_session = pd.read_csv('./data/user_session_detail.csv')"
   ]
  },
  {
   "cell_type": "code",
   "execution_count": 20,
   "metadata": {
    "collapsed": true
   },
   "outputs": [],
   "source": [
    "df_users = df_users.reset_index()"
   ]
  },
  {
   "cell_type": "code",
   "execution_count": 21,
   "metadata": {
    "collapsed": false
   },
   "outputs": [
    {
     "data": {
      "text/html": [
       "<div>\n",
       "<table border=\"1\" class=\"dataframe\">\n",
       "  <thead>\n",
       "    <tr style=\"text-align: right;\">\n",
       "      <th></th>\n",
       "      <th>id</th>\n",
       "      <th>signup_flow</th>\n",
       "      <th>affiliate_channel_api</th>\n",
       "      <th>affiliate_channel_content</th>\n",
       "      <th>affiliate_channel_direct</th>\n",
       "      <th>affiliate_channel_other</th>\n",
       "      <th>affiliate_channel_remarketing</th>\n",
       "      <th>affiliate_channel_sem-brand</th>\n",
       "      <th>affiliate_channel_sem-non-brand</th>\n",
       "      <th>affiliate_channel_seo</th>\n",
       "      <th>...</th>\n",
       "      <th>quarter_account_created</th>\n",
       "      <th>year_account_created</th>\n",
       "      <th>hour_first_active</th>\n",
       "      <th>day_first_active</th>\n",
       "      <th>month_first_active</th>\n",
       "      <th>quarter_first_active</th>\n",
       "      <th>year_first_active</th>\n",
       "      <th>created_less_active</th>\n",
       "      <th>age</th>\n",
       "      <th>gender</th>\n",
       "    </tr>\n",
       "  </thead>\n",
       "  <tbody>\n",
       "    <tr>\n",
       "      <th>0</th>\n",
       "      <td>gxn3p5htnn</td>\n",
       "      <td>0</td>\n",
       "      <td>0</td>\n",
       "      <td>0</td>\n",
       "      <td>1</td>\n",
       "      <td>0</td>\n",
       "      <td>0</td>\n",
       "      <td>0</td>\n",
       "      <td>0</td>\n",
       "      <td>0</td>\n",
       "      <td>...</td>\n",
       "      <td>2</td>\n",
       "      <td>2010</td>\n",
       "      <td>4</td>\n",
       "      <td>3</td>\n",
       "      <td>3</td>\n",
       "      <td>1</td>\n",
       "      <td>2009</td>\n",
       "      <td>465</td>\n",
       "      <td>-1.0</td>\n",
       "      <td>NaN</td>\n",
       "    </tr>\n",
       "    <tr>\n",
       "      <th>1</th>\n",
       "      <td>820tgsjxq7</td>\n",
       "      <td>0</td>\n",
       "      <td>0</td>\n",
       "      <td>0</td>\n",
       "      <td>0</td>\n",
       "      <td>0</td>\n",
       "      <td>0</td>\n",
       "      <td>0</td>\n",
       "      <td>0</td>\n",
       "      <td>1</td>\n",
       "      <td>...</td>\n",
       "      <td>2</td>\n",
       "      <td>2011</td>\n",
       "      <td>17</td>\n",
       "      <td>5</td>\n",
       "      <td>5</td>\n",
       "      <td>2</td>\n",
       "      <td>2009</td>\n",
       "      <td>731</td>\n",
       "      <td>38.0</td>\n",
       "      <td>MALE</td>\n",
       "    </tr>\n",
       "    <tr>\n",
       "      <th>2</th>\n",
       "      <td>4ft3gnwmtx</td>\n",
       "      <td>3</td>\n",
       "      <td>0</td>\n",
       "      <td>0</td>\n",
       "      <td>1</td>\n",
       "      <td>0</td>\n",
       "      <td>0</td>\n",
       "      <td>0</td>\n",
       "      <td>0</td>\n",
       "      <td>0</td>\n",
       "      <td>...</td>\n",
       "      <td>3</td>\n",
       "      <td>2010</td>\n",
       "      <td>23</td>\n",
       "      <td>1</td>\n",
       "      <td>6</td>\n",
       "      <td>2</td>\n",
       "      <td>2009</td>\n",
       "      <td>475</td>\n",
       "      <td>56.0</td>\n",
       "      <td>FEMALE</td>\n",
       "    </tr>\n",
       "    <tr>\n",
       "      <th>3</th>\n",
       "      <td>bjjt8pjhuk</td>\n",
       "      <td>0</td>\n",
       "      <td>0</td>\n",
       "      <td>0</td>\n",
       "      <td>1</td>\n",
       "      <td>0</td>\n",
       "      <td>0</td>\n",
       "      <td>0</td>\n",
       "      <td>0</td>\n",
       "      <td>0</td>\n",
       "      <td>...</td>\n",
       "      <td>4</td>\n",
       "      <td>2011</td>\n",
       "      <td>6</td>\n",
       "      <td>5</td>\n",
       "      <td>10</td>\n",
       "      <td>4</td>\n",
       "      <td>2009</td>\n",
       "      <td>764</td>\n",
       "      <td>42.0</td>\n",
       "      <td>FEMALE</td>\n",
       "    </tr>\n",
       "    <tr>\n",
       "      <th>4</th>\n",
       "      <td>87mebub9p4</td>\n",
       "      <td>0</td>\n",
       "      <td>0</td>\n",
       "      <td>0</td>\n",
       "      <td>1</td>\n",
       "      <td>0</td>\n",
       "      <td>0</td>\n",
       "      <td>0</td>\n",
       "      <td>0</td>\n",
       "      <td>0</td>\n",
       "      <td>...</td>\n",
       "      <td>3</td>\n",
       "      <td>2010</td>\n",
       "      <td>6</td>\n",
       "      <td>1</td>\n",
       "      <td>12</td>\n",
       "      <td>4</td>\n",
       "      <td>2009</td>\n",
       "      <td>279</td>\n",
       "      <td>41.0</td>\n",
       "      <td>NaN</td>\n",
       "    </tr>\n",
       "  </tbody>\n",
       "</table>\n",
       "<p>5 rows × 145 columns</p>\n",
       "</div>"
      ],
      "text/plain": [
       "           id  signup_flow  affiliate_channel_api  affiliate_channel_content  \\\n",
       "0  gxn3p5htnn            0                      0                          0   \n",
       "1  820tgsjxq7            0                      0                          0   \n",
       "2  4ft3gnwmtx            3                      0                          0   \n",
       "3  bjjt8pjhuk            0                      0                          0   \n",
       "4  87mebub9p4            0                      0                          0   \n",
       "\n",
       "   affiliate_channel_direct  affiliate_channel_other  \\\n",
       "0                         1                        0   \n",
       "1                         0                        0   \n",
       "2                         1                        0   \n",
       "3                         1                        0   \n",
       "4                         1                        0   \n",
       "\n",
       "   affiliate_channel_remarketing  affiliate_channel_sem-brand  \\\n",
       "0                              0                            0   \n",
       "1                              0                            0   \n",
       "2                              0                            0   \n",
       "3                              0                            0   \n",
       "4                              0                            0   \n",
       "\n",
       "   affiliate_channel_sem-non-brand  affiliate_channel_seo   ...    \\\n",
       "0                                0                      0   ...     \n",
       "1                                0                      1   ...     \n",
       "2                                0                      0   ...     \n",
       "3                                0                      0   ...     \n",
       "4                                0                      0   ...     \n",
       "\n",
       "   quarter_account_created  year_account_created  hour_first_active  \\\n",
       "0                        2                  2010                  4   \n",
       "1                        2                  2011                 17   \n",
       "2                        3                  2010                 23   \n",
       "3                        4                  2011                  6   \n",
       "4                        3                  2010                  6   \n",
       "\n",
       "   day_first_active  month_first_active  quarter_first_active  \\\n",
       "0                 3                   3                     1   \n",
       "1                 5                   5                     2   \n",
       "2                 1                   6                     2   \n",
       "3                 5                  10                     4   \n",
       "4                 1                  12                     4   \n",
       "\n",
       "   year_first_active  created_less_active   age  gender  \n",
       "0               2009                  465  -1.0     NaN  \n",
       "1               2009                  731  38.0    MALE  \n",
       "2               2009                  475  56.0  FEMALE  \n",
       "3               2009                  764  42.0  FEMALE  \n",
       "4               2009                  279  41.0     NaN  \n",
       "\n",
       "[5 rows x 145 columns]"
      ]
     },
     "execution_count": 21,
     "metadata": {},
     "output_type": "execute_result"
    }
   ],
   "source": [
    "df_users.head()"
   ]
  },
  {
   "cell_type": "code",
   "execution_count": 22,
   "metadata": {
    "collapsed": false
   },
   "outputs": [],
   "source": [
    "all_users = pd.merge(df_users, user_devices, how='left', left_on='id', right_on='user_id')\n",
    "all_users = pd.merge(all_users, user_session, how='left', left_on='id', right_on='user_id')"
   ]
  },
  {
   "cell_type": "code",
   "execution_count": 23,
   "metadata": {
    "collapsed": false
   },
   "outputs": [
    {
     "data": {
      "text/plain": [
       "(275547, 316)"
      ]
     },
     "execution_count": 23,
     "metadata": {},
     "output_type": "execute_result"
    }
   ],
   "source": [
    "all_users.shape"
   ]
  },
  {
   "cell_type": "code",
   "execution_count": 24,
   "metadata": {
    "collapsed": false
   },
   "outputs": [],
   "source": [
    "# Split notnull vs null gender\n",
    "X_gender_users = all_users[all_users['gender'].isnull()==False]\n",
    "X_pred_gender_users = all_users[all_users['gender'].isnull()]"
   ]
  },
  {
   "cell_type": "code",
   "execution_count": 25,
   "metadata": {
    "collapsed": false
   },
   "outputs": [
    {
     "data": {
      "text/plain": [
       "((146067, 316), (129480, 316))"
      ]
     },
     "execution_count": 25,
     "metadata": {},
     "output_type": "execute_result"
    }
   ],
   "source": [
    "X_gender_users.shape, X_pred_gender_users.shape"
   ]
  },
  {
   "cell_type": "code",
   "execution_count": 26,
   "metadata": {
    "collapsed": true
   },
   "outputs": [],
   "source": [
    "y_gender_users = X_gender_users['gender']"
   ]
  },
  {
   "cell_type": "code",
   "execution_count": 27,
   "metadata": {
    "collapsed": false
   },
   "outputs": [],
   "source": [
    "X_gender_users = X_gender_users.drop(['gender','user_id_x','user_id_y'], axis=1)"
   ]
  },
  {
   "cell_type": "code",
   "execution_count": 28,
   "metadata": {
    "collapsed": true
   },
   "outputs": [],
   "source": [
    "X_pred_gender_users = X_pred_gender_users.drop(['gender','user_id_x','user_id_y'], axis=1)"
   ]
  },
  {
   "cell_type": "code",
   "execution_count": 29,
   "metadata": {
    "collapsed": false
   },
   "outputs": [],
   "source": [
    "X_gender_users = X_gender_users.drop('id', axis=1)\n",
    "X_pred_gender_users = X_pred_gender_users.drop('id', axis=1)"
   ]
  },
  {
   "cell_type": "code",
   "execution_count": 30,
   "metadata": {
    "collapsed": false
   },
   "outputs": [],
   "source": [
    "X_gender_users = X_gender_users.fillna(0)\n",
    "X_pred_gender_users = X_pred_gender_users.fillna(0)"
   ]
  },
  {
   "cell_type": "code",
   "execution_count": 31,
   "metadata": {
    "collapsed": false
   },
   "outputs": [],
   "source": [
    "from sklearn.preprocessing import LabelEncoder\n",
    "le = LabelEncoder()\n",
    "le_y_gender_users = le.fit_transform(y_gender_users)"
   ]
  },
  {
   "cell_type": "code",
   "execution_count": 32,
   "metadata": {
    "collapsed": false
   },
   "outputs": [
    {
     "data": {
      "text/plain": [
       "((146067, 312), (129480, 312))"
      ]
     },
     "execution_count": 32,
     "metadata": {},
     "output_type": "execute_result"
    }
   ],
   "source": [
    "X_gender_users.shape, X_pred_gender_users.shape"
   ]
  },
  {
   "cell_type": "code",
   "execution_count": 33,
   "metadata": {
    "collapsed": false
   },
   "outputs": [
    {
     "data": {
      "text/plain": [
       "array([77524, 68209,   334])"
      ]
     },
     "execution_count": 33,
     "metadata": {},
     "output_type": "execute_result"
    }
   ],
   "source": [
    "np.bincount(le_y_gender_users)"
   ]
  },
  {
   "cell_type": "code",
   "execution_count": 34,
   "metadata": {
    "collapsed": false
   },
   "outputs": [
    {
     "data": {
      "text/plain": [
       "KNeighborsClassifier(algorithm='auto', leaf_size=30, metric='minkowski',\n",
       "           metric_params=None, n_neighbors=5, p=2, weights='uniform')"
      ]
     },
     "execution_count": 34,
     "metadata": {},
     "output_type": "execute_result"
    }
   ],
   "source": [
    "from sklearn.neighbors import KNeighborsClassifier\n",
    "neigh = KNeighborsClassifier(n_neighbors=5)\n",
    "neigh.fit(X_gender_users, le_y_gender_users)"
   ]
  },
  {
   "cell_type": "code",
   "execution_count": 35,
   "metadata": {
    "collapsed": false
   },
   "outputs": [],
   "source": [
    "pred_gender = neigh.predict(X_pred_gender_users)"
   ]
  },
  {
   "cell_type": "code",
   "execution_count": 36,
   "metadata": {
    "collapsed": false
   },
   "outputs": [
    {
     "data": {
      "text/plain": [
       "array([78235, 51245])"
      ]
     },
     "execution_count": 36,
     "metadata": {},
     "output_type": "execute_result"
    }
   ],
   "source": [
    "np.bincount(pred_gender)"
   ]
  },
  {
   "cell_type": "code",
   "execution_count": 37,
   "metadata": {
    "collapsed": false
   },
   "outputs": [
    {
     "data": {
      "text/plain": [
       "array(['FEMALE', 'MALE', 'FEMALE', ..., 'MALE', 'FEMALE', 'MALE'], dtype=object)"
      ]
     },
     "execution_count": 37,
     "metadata": {},
     "output_type": "execute_result"
    }
   ],
   "source": [
    "le.inverse_transform(pred_gender)"
   ]
  },
  {
   "cell_type": "code",
   "execution_count": 38,
   "metadata": {
    "collapsed": true
   },
   "outputs": [],
   "source": [
    "X_pred_gender_users['gender'] = le.inverse_transform(pred_gender)"
   ]
  },
  {
   "cell_type": "code",
   "execution_count": 39,
   "metadata": {
    "collapsed": false
   },
   "outputs": [
    {
     "data": {
      "text/html": [
       "<div>\n",
       "<table border=\"1\" class=\"dataframe\">\n",
       "  <thead>\n",
       "    <tr style=\"text-align: right;\">\n",
       "      <th></th>\n",
       "      <th>signup_flow</th>\n",
       "      <th>affiliate_channel_api</th>\n",
       "      <th>affiliate_channel_content</th>\n",
       "      <th>affiliate_channel_direct</th>\n",
       "      <th>affiliate_channel_other</th>\n",
       "      <th>affiliate_channel_remarketing</th>\n",
       "      <th>affiliate_channel_sem-brand</th>\n",
       "      <th>affiliate_channel_sem-non-brand</th>\n",
       "      <th>affiliate_channel_seo</th>\n",
       "      <th>affiliate_provider_baidu</th>\n",
       "      <th>...</th>\n",
       "      <th>view_search_results</th>\n",
       "      <th>view_security_checks</th>\n",
       "      <th>view_user_real_names</th>\n",
       "      <th>wishlist</th>\n",
       "      <th>wishlist_content_update</th>\n",
       "      <th>wishlist_note</th>\n",
       "      <th>your_listings</th>\n",
       "      <th>your_reservations</th>\n",
       "      <th>your_trips</th>\n",
       "      <th>gender</th>\n",
       "    </tr>\n",
       "  </thead>\n",
       "  <tbody>\n",
       "    <tr>\n",
       "      <th>0</th>\n",
       "      <td>0</td>\n",
       "      <td>0</td>\n",
       "      <td>0</td>\n",
       "      <td>1</td>\n",
       "      <td>0</td>\n",
       "      <td>0</td>\n",
       "      <td>0</td>\n",
       "      <td>0</td>\n",
       "      <td>0</td>\n",
       "      <td>0</td>\n",
       "      <td>...</td>\n",
       "      <td>0.0</td>\n",
       "      <td>0.0</td>\n",
       "      <td>0.0</td>\n",
       "      <td>0.0</td>\n",
       "      <td>0.0</td>\n",
       "      <td>0.0</td>\n",
       "      <td>0.0</td>\n",
       "      <td>0.0</td>\n",
       "      <td>0.0</td>\n",
       "      <td>FEMALE</td>\n",
       "    </tr>\n",
       "    <tr>\n",
       "      <th>4</th>\n",
       "      <td>0</td>\n",
       "      <td>0</td>\n",
       "      <td>0</td>\n",
       "      <td>1</td>\n",
       "      <td>0</td>\n",
       "      <td>0</td>\n",
       "      <td>0</td>\n",
       "      <td>0</td>\n",
       "      <td>0</td>\n",
       "      <td>0</td>\n",
       "      <td>...</td>\n",
       "      <td>0.0</td>\n",
       "      <td>0.0</td>\n",
       "      <td>0.0</td>\n",
       "      <td>0.0</td>\n",
       "      <td>0.0</td>\n",
       "      <td>0.0</td>\n",
       "      <td>0.0</td>\n",
       "      <td>0.0</td>\n",
       "      <td>0.0</td>\n",
       "      <td>MALE</td>\n",
       "    </tr>\n",
       "    <tr>\n",
       "      <th>5</th>\n",
       "      <td>0</td>\n",
       "      <td>0</td>\n",
       "      <td>0</td>\n",
       "      <td>0</td>\n",
       "      <td>1</td>\n",
       "      <td>0</td>\n",
       "      <td>0</td>\n",
       "      <td>0</td>\n",
       "      <td>0</td>\n",
       "      <td>0</td>\n",
       "      <td>...</td>\n",
       "      <td>0.0</td>\n",
       "      <td>0.0</td>\n",
       "      <td>0.0</td>\n",
       "      <td>0.0</td>\n",
       "      <td>0.0</td>\n",
       "      <td>0.0</td>\n",
       "      <td>0.0</td>\n",
       "      <td>0.0</td>\n",
       "      <td>0.0</td>\n",
       "      <td>FEMALE</td>\n",
       "    </tr>\n",
       "    <tr>\n",
       "      <th>9</th>\n",
       "      <td>0</td>\n",
       "      <td>0</td>\n",
       "      <td>0</td>\n",
       "      <td>0</td>\n",
       "      <td>1</td>\n",
       "      <td>0</td>\n",
       "      <td>0</td>\n",
       "      <td>0</td>\n",
       "      <td>0</td>\n",
       "      <td>0</td>\n",
       "      <td>...</td>\n",
       "      <td>0.0</td>\n",
       "      <td>0.0</td>\n",
       "      <td>0.0</td>\n",
       "      <td>0.0</td>\n",
       "      <td>0.0</td>\n",
       "      <td>0.0</td>\n",
       "      <td>0.0</td>\n",
       "      <td>0.0</td>\n",
       "      <td>0.0</td>\n",
       "      <td>FEMALE</td>\n",
       "    </tr>\n",
       "    <tr>\n",
       "      <th>12</th>\n",
       "      <td>0</td>\n",
       "      <td>0</td>\n",
       "      <td>0</td>\n",
       "      <td>1</td>\n",
       "      <td>0</td>\n",
       "      <td>0</td>\n",
       "      <td>0</td>\n",
       "      <td>0</td>\n",
       "      <td>0</td>\n",
       "      <td>0</td>\n",
       "      <td>...</td>\n",
       "      <td>0.0</td>\n",
       "      <td>0.0</td>\n",
       "      <td>0.0</td>\n",
       "      <td>0.0</td>\n",
       "      <td>0.0</td>\n",
       "      <td>0.0</td>\n",
       "      <td>0.0</td>\n",
       "      <td>0.0</td>\n",
       "      <td>0.0</td>\n",
       "      <td>FEMALE</td>\n",
       "    </tr>\n",
       "  </tbody>\n",
       "</table>\n",
       "<p>5 rows × 313 columns</p>\n",
       "</div>"
      ],
      "text/plain": [
       "    signup_flow  affiliate_channel_api  affiliate_channel_content  \\\n",
       "0             0                      0                          0   \n",
       "4             0                      0                          0   \n",
       "5             0                      0                          0   \n",
       "9             0                      0                          0   \n",
       "12            0                      0                          0   \n",
       "\n",
       "    affiliate_channel_direct  affiliate_channel_other  \\\n",
       "0                          1                        0   \n",
       "4                          1                        0   \n",
       "5                          0                        1   \n",
       "9                          0                        1   \n",
       "12                         1                        0   \n",
       "\n",
       "    affiliate_channel_remarketing  affiliate_channel_sem-brand  \\\n",
       "0                               0                            0   \n",
       "4                               0                            0   \n",
       "5                               0                            0   \n",
       "9                               0                            0   \n",
       "12                              0                            0   \n",
       "\n",
       "    affiliate_channel_sem-non-brand  affiliate_channel_seo  \\\n",
       "0                                 0                      0   \n",
       "4                                 0                      0   \n",
       "5                                 0                      0   \n",
       "9                                 0                      0   \n",
       "12                                0                      0   \n",
       "\n",
       "    affiliate_provider_baidu   ...    view_search_results  \\\n",
       "0                          0   ...                    0.0   \n",
       "4                          0   ...                    0.0   \n",
       "5                          0   ...                    0.0   \n",
       "9                          0   ...                    0.0   \n",
       "12                         0   ...                    0.0   \n",
       "\n",
       "    view_security_checks  view_user_real_names  wishlist  \\\n",
       "0                    0.0                   0.0       0.0   \n",
       "4                    0.0                   0.0       0.0   \n",
       "5                    0.0                   0.0       0.0   \n",
       "9                    0.0                   0.0       0.0   \n",
       "12                   0.0                   0.0       0.0   \n",
       "\n",
       "    wishlist_content_update  wishlist_note  your_listings  your_reservations  \\\n",
       "0                       0.0            0.0            0.0                0.0   \n",
       "4                       0.0            0.0            0.0                0.0   \n",
       "5                       0.0            0.0            0.0                0.0   \n",
       "9                       0.0            0.0            0.0                0.0   \n",
       "12                      0.0            0.0            0.0                0.0   \n",
       "\n",
       "    your_trips  gender  \n",
       "0          0.0  FEMALE  \n",
       "4          0.0    MALE  \n",
       "5          0.0  FEMALE  \n",
       "9          0.0  FEMALE  \n",
       "12         0.0  FEMALE  \n",
       "\n",
       "[5 rows x 313 columns]"
      ]
     },
     "execution_count": 39,
     "metadata": {},
     "output_type": "execute_result"
    }
   ],
   "source": [
    "X_pred_gender_users.head()"
   ]
  },
  {
   "cell_type": "code",
   "execution_count": 40,
   "metadata": {
    "collapsed": false
   },
   "outputs": [
    {
     "data": {
      "text/html": [
       "<div>\n",
       "<table border=\"1\" class=\"dataframe\">\n",
       "  <thead>\n",
       "    <tr style=\"text-align: right;\">\n",
       "      <th></th>\n",
       "      <th>signup_flow</th>\n",
       "      <th>affiliate_channel_api</th>\n",
       "      <th>affiliate_channel_content</th>\n",
       "      <th>affiliate_channel_direct</th>\n",
       "      <th>affiliate_channel_other</th>\n",
       "      <th>affiliate_channel_remarketing</th>\n",
       "      <th>affiliate_channel_sem-brand</th>\n",
       "      <th>affiliate_channel_sem-non-brand</th>\n",
       "      <th>affiliate_channel_seo</th>\n",
       "      <th>affiliate_provider_baidu</th>\n",
       "      <th>...</th>\n",
       "      <th>view_resolutions</th>\n",
       "      <th>view_search_results</th>\n",
       "      <th>view_security_checks</th>\n",
       "      <th>view_user_real_names</th>\n",
       "      <th>wishlist</th>\n",
       "      <th>wishlist_content_update</th>\n",
       "      <th>wishlist_note</th>\n",
       "      <th>your_listings</th>\n",
       "      <th>your_reservations</th>\n",
       "      <th>your_trips</th>\n",
       "    </tr>\n",
       "  </thead>\n",
       "  <tbody>\n",
       "    <tr>\n",
       "      <th>1</th>\n",
       "      <td>0</td>\n",
       "      <td>0</td>\n",
       "      <td>0</td>\n",
       "      <td>0</td>\n",
       "      <td>0</td>\n",
       "      <td>0</td>\n",
       "      <td>0</td>\n",
       "      <td>0</td>\n",
       "      <td>1</td>\n",
       "      <td>0</td>\n",
       "      <td>...</td>\n",
       "      <td>0.0</td>\n",
       "      <td>0.0</td>\n",
       "      <td>0.0</td>\n",
       "      <td>0.0</td>\n",
       "      <td>0.0</td>\n",
       "      <td>0.0</td>\n",
       "      <td>0.0</td>\n",
       "      <td>0.0</td>\n",
       "      <td>0.0</td>\n",
       "      <td>0.0</td>\n",
       "    </tr>\n",
       "    <tr>\n",
       "      <th>2</th>\n",
       "      <td>3</td>\n",
       "      <td>0</td>\n",
       "      <td>0</td>\n",
       "      <td>1</td>\n",
       "      <td>0</td>\n",
       "      <td>0</td>\n",
       "      <td>0</td>\n",
       "      <td>0</td>\n",
       "      <td>0</td>\n",
       "      <td>0</td>\n",
       "      <td>...</td>\n",
       "      <td>0.0</td>\n",
       "      <td>0.0</td>\n",
       "      <td>0.0</td>\n",
       "      <td>0.0</td>\n",
       "      <td>0.0</td>\n",
       "      <td>0.0</td>\n",
       "      <td>0.0</td>\n",
       "      <td>0.0</td>\n",
       "      <td>0.0</td>\n",
       "      <td>0.0</td>\n",
       "    </tr>\n",
       "    <tr>\n",
       "      <th>3</th>\n",
       "      <td>0</td>\n",
       "      <td>0</td>\n",
       "      <td>0</td>\n",
       "      <td>1</td>\n",
       "      <td>0</td>\n",
       "      <td>0</td>\n",
       "      <td>0</td>\n",
       "      <td>0</td>\n",
       "      <td>0</td>\n",
       "      <td>0</td>\n",
       "      <td>...</td>\n",
       "      <td>0.0</td>\n",
       "      <td>0.0</td>\n",
       "      <td>0.0</td>\n",
       "      <td>0.0</td>\n",
       "      <td>0.0</td>\n",
       "      <td>0.0</td>\n",
       "      <td>0.0</td>\n",
       "      <td>0.0</td>\n",
       "      <td>0.0</td>\n",
       "      <td>0.0</td>\n",
       "    </tr>\n",
       "    <tr>\n",
       "      <th>6</th>\n",
       "      <td>0</td>\n",
       "      <td>0</td>\n",
       "      <td>0</td>\n",
       "      <td>0</td>\n",
       "      <td>1</td>\n",
       "      <td>0</td>\n",
       "      <td>0</td>\n",
       "      <td>0</td>\n",
       "      <td>0</td>\n",
       "      <td>0</td>\n",
       "      <td>...</td>\n",
       "      <td>0.0</td>\n",
       "      <td>0.0</td>\n",
       "      <td>0.0</td>\n",
       "      <td>0.0</td>\n",
       "      <td>0.0</td>\n",
       "      <td>0.0</td>\n",
       "      <td>0.0</td>\n",
       "      <td>0.0</td>\n",
       "      <td>0.0</td>\n",
       "      <td>0.0</td>\n",
       "    </tr>\n",
       "    <tr>\n",
       "      <th>7</th>\n",
       "      <td>0</td>\n",
       "      <td>0</td>\n",
       "      <td>0</td>\n",
       "      <td>1</td>\n",
       "      <td>0</td>\n",
       "      <td>0</td>\n",
       "      <td>0</td>\n",
       "      <td>0</td>\n",
       "      <td>0</td>\n",
       "      <td>0</td>\n",
       "      <td>...</td>\n",
       "      <td>0.0</td>\n",
       "      <td>0.0</td>\n",
       "      <td>0.0</td>\n",
       "      <td>0.0</td>\n",
       "      <td>0.0</td>\n",
       "      <td>0.0</td>\n",
       "      <td>0.0</td>\n",
       "      <td>0.0</td>\n",
       "      <td>0.0</td>\n",
       "      <td>0.0</td>\n",
       "    </tr>\n",
       "  </tbody>\n",
       "</table>\n",
       "<p>5 rows × 312 columns</p>\n",
       "</div>"
      ],
      "text/plain": [
       "   signup_flow  affiliate_channel_api  affiliate_channel_content  \\\n",
       "1            0                      0                          0   \n",
       "2            3                      0                          0   \n",
       "3            0                      0                          0   \n",
       "6            0                      0                          0   \n",
       "7            0                      0                          0   \n",
       "\n",
       "   affiliate_channel_direct  affiliate_channel_other  \\\n",
       "1                         0                        0   \n",
       "2                         1                        0   \n",
       "3                         1                        0   \n",
       "6                         0                        1   \n",
       "7                         1                        0   \n",
       "\n",
       "   affiliate_channel_remarketing  affiliate_channel_sem-brand  \\\n",
       "1                              0                            0   \n",
       "2                              0                            0   \n",
       "3                              0                            0   \n",
       "6                              0                            0   \n",
       "7                              0                            0   \n",
       "\n",
       "   affiliate_channel_sem-non-brand  affiliate_channel_seo  \\\n",
       "1                                0                      1   \n",
       "2                                0                      0   \n",
       "3                                0                      0   \n",
       "6                                0                      0   \n",
       "7                                0                      0   \n",
       "\n",
       "   affiliate_provider_baidu     ...      view_resolutions  \\\n",
       "1                         0     ...                   0.0   \n",
       "2                         0     ...                   0.0   \n",
       "3                         0     ...                   0.0   \n",
       "6                         0     ...                   0.0   \n",
       "7                         0     ...                   0.0   \n",
       "\n",
       "   view_search_results  view_security_checks  view_user_real_names  wishlist  \\\n",
       "1                  0.0                   0.0                   0.0       0.0   \n",
       "2                  0.0                   0.0                   0.0       0.0   \n",
       "3                  0.0                   0.0                   0.0       0.0   \n",
       "6                  0.0                   0.0                   0.0       0.0   \n",
       "7                  0.0                   0.0                   0.0       0.0   \n",
       "\n",
       "   wishlist_content_update  wishlist_note  your_listings  your_reservations  \\\n",
       "1                      0.0            0.0            0.0                0.0   \n",
       "2                      0.0            0.0            0.0                0.0   \n",
       "3                      0.0            0.0            0.0                0.0   \n",
       "6                      0.0            0.0            0.0                0.0   \n",
       "7                      0.0            0.0            0.0                0.0   \n",
       "\n",
       "   your_trips  \n",
       "1         0.0  \n",
       "2         0.0  \n",
       "3         0.0  \n",
       "6         0.0  \n",
       "7         0.0  \n",
       "\n",
       "[5 rows x 312 columns]"
      ]
     },
     "execution_count": 40,
     "metadata": {},
     "output_type": "execute_result"
    }
   ],
   "source": [
    "X_gender_users.head()"
   ]
  },
  {
   "cell_type": "code",
   "execution_count": 41,
   "metadata": {
    "collapsed": false
   },
   "outputs": [
    {
     "data": {
      "text/html": [
       "<div>\n",
       "<table border=\"1\" class=\"dataframe\">\n",
       "  <thead>\n",
       "    <tr style=\"text-align: right;\">\n",
       "      <th></th>\n",
       "      <th>id</th>\n",
       "      <th>signup_flow</th>\n",
       "      <th>affiliate_channel_api</th>\n",
       "      <th>affiliate_channel_content</th>\n",
       "      <th>affiliate_channel_direct</th>\n",
       "      <th>affiliate_channel_other</th>\n",
       "      <th>affiliate_channel_remarketing</th>\n",
       "      <th>affiliate_channel_sem-brand</th>\n",
       "      <th>affiliate_channel_sem-non-brand</th>\n",
       "      <th>affiliate_channel_seo</th>\n",
       "      <th>...</th>\n",
       "      <th>view_resolutions</th>\n",
       "      <th>view_search_results</th>\n",
       "      <th>view_security_checks</th>\n",
       "      <th>view_user_real_names</th>\n",
       "      <th>wishlist</th>\n",
       "      <th>wishlist_content_update</th>\n",
       "      <th>wishlist_note</th>\n",
       "      <th>your_listings</th>\n",
       "      <th>your_reservations</th>\n",
       "      <th>your_trips</th>\n",
       "    </tr>\n",
       "  </thead>\n",
       "  <tbody>\n",
       "    <tr>\n",
       "      <th>0</th>\n",
       "      <td>gxn3p5htnn</td>\n",
       "      <td>0</td>\n",
       "      <td>0</td>\n",
       "      <td>0</td>\n",
       "      <td>1</td>\n",
       "      <td>0</td>\n",
       "      <td>0</td>\n",
       "      <td>0</td>\n",
       "      <td>0</td>\n",
       "      <td>0</td>\n",
       "      <td>...</td>\n",
       "      <td>NaN</td>\n",
       "      <td>NaN</td>\n",
       "      <td>NaN</td>\n",
       "      <td>NaN</td>\n",
       "      <td>NaN</td>\n",
       "      <td>NaN</td>\n",
       "      <td>NaN</td>\n",
       "      <td>NaN</td>\n",
       "      <td>NaN</td>\n",
       "      <td>NaN</td>\n",
       "    </tr>\n",
       "    <tr>\n",
       "      <th>1</th>\n",
       "      <td>820tgsjxq7</td>\n",
       "      <td>0</td>\n",
       "      <td>0</td>\n",
       "      <td>0</td>\n",
       "      <td>0</td>\n",
       "      <td>0</td>\n",
       "      <td>0</td>\n",
       "      <td>0</td>\n",
       "      <td>0</td>\n",
       "      <td>1</td>\n",
       "      <td>...</td>\n",
       "      <td>NaN</td>\n",
       "      <td>NaN</td>\n",
       "      <td>NaN</td>\n",
       "      <td>NaN</td>\n",
       "      <td>NaN</td>\n",
       "      <td>NaN</td>\n",
       "      <td>NaN</td>\n",
       "      <td>NaN</td>\n",
       "      <td>NaN</td>\n",
       "      <td>NaN</td>\n",
       "    </tr>\n",
       "    <tr>\n",
       "      <th>2</th>\n",
       "      <td>4ft3gnwmtx</td>\n",
       "      <td>3</td>\n",
       "      <td>0</td>\n",
       "      <td>0</td>\n",
       "      <td>1</td>\n",
       "      <td>0</td>\n",
       "      <td>0</td>\n",
       "      <td>0</td>\n",
       "      <td>0</td>\n",
       "      <td>0</td>\n",
       "      <td>...</td>\n",
       "      <td>NaN</td>\n",
       "      <td>NaN</td>\n",
       "      <td>NaN</td>\n",
       "      <td>NaN</td>\n",
       "      <td>NaN</td>\n",
       "      <td>NaN</td>\n",
       "      <td>NaN</td>\n",
       "      <td>NaN</td>\n",
       "      <td>NaN</td>\n",
       "      <td>NaN</td>\n",
       "    </tr>\n",
       "    <tr>\n",
       "      <th>3</th>\n",
       "      <td>bjjt8pjhuk</td>\n",
       "      <td>0</td>\n",
       "      <td>0</td>\n",
       "      <td>0</td>\n",
       "      <td>1</td>\n",
       "      <td>0</td>\n",
       "      <td>0</td>\n",
       "      <td>0</td>\n",
       "      <td>0</td>\n",
       "      <td>0</td>\n",
       "      <td>...</td>\n",
       "      <td>NaN</td>\n",
       "      <td>NaN</td>\n",
       "      <td>NaN</td>\n",
       "      <td>NaN</td>\n",
       "      <td>NaN</td>\n",
       "      <td>NaN</td>\n",
       "      <td>NaN</td>\n",
       "      <td>NaN</td>\n",
       "      <td>NaN</td>\n",
       "      <td>NaN</td>\n",
       "    </tr>\n",
       "    <tr>\n",
       "      <th>4</th>\n",
       "      <td>87mebub9p4</td>\n",
       "      <td>0</td>\n",
       "      <td>0</td>\n",
       "      <td>0</td>\n",
       "      <td>1</td>\n",
       "      <td>0</td>\n",
       "      <td>0</td>\n",
       "      <td>0</td>\n",
       "      <td>0</td>\n",
       "      <td>0</td>\n",
       "      <td>...</td>\n",
       "      <td>NaN</td>\n",
       "      <td>NaN</td>\n",
       "      <td>NaN</td>\n",
       "      <td>NaN</td>\n",
       "      <td>NaN</td>\n",
       "      <td>NaN</td>\n",
       "      <td>NaN</td>\n",
       "      <td>NaN</td>\n",
       "      <td>NaN</td>\n",
       "      <td>NaN</td>\n",
       "    </tr>\n",
       "    <tr>\n",
       "      <th>5</th>\n",
       "      <td>osr2jwljor</td>\n",
       "      <td>0</td>\n",
       "      <td>0</td>\n",
       "      <td>0</td>\n",
       "      <td>0</td>\n",
       "      <td>1</td>\n",
       "      <td>0</td>\n",
       "      <td>0</td>\n",
       "      <td>0</td>\n",
       "      <td>0</td>\n",
       "      <td>...</td>\n",
       "      <td>NaN</td>\n",
       "      <td>NaN</td>\n",
       "      <td>NaN</td>\n",
       "      <td>NaN</td>\n",
       "      <td>NaN</td>\n",
       "      <td>NaN</td>\n",
       "      <td>NaN</td>\n",
       "      <td>NaN</td>\n",
       "      <td>NaN</td>\n",
       "      <td>NaN</td>\n",
       "    </tr>\n",
       "    <tr>\n",
       "      <th>6</th>\n",
       "      <td>lsw9q7uk0j</td>\n",
       "      <td>0</td>\n",
       "      <td>0</td>\n",
       "      <td>0</td>\n",
       "      <td>0</td>\n",
       "      <td>1</td>\n",
       "      <td>0</td>\n",
       "      <td>0</td>\n",
       "      <td>0</td>\n",
       "      <td>0</td>\n",
       "      <td>...</td>\n",
       "      <td>NaN</td>\n",
       "      <td>NaN</td>\n",
       "      <td>NaN</td>\n",
       "      <td>NaN</td>\n",
       "      <td>NaN</td>\n",
       "      <td>NaN</td>\n",
       "      <td>NaN</td>\n",
       "      <td>NaN</td>\n",
       "      <td>NaN</td>\n",
       "      <td>NaN</td>\n",
       "    </tr>\n",
       "    <tr>\n",
       "      <th>7</th>\n",
       "      <td>0d01nltbrs</td>\n",
       "      <td>0</td>\n",
       "      <td>0</td>\n",
       "      <td>0</td>\n",
       "      <td>1</td>\n",
       "      <td>0</td>\n",
       "      <td>0</td>\n",
       "      <td>0</td>\n",
       "      <td>0</td>\n",
       "      <td>0</td>\n",
       "      <td>...</td>\n",
       "      <td>NaN</td>\n",
       "      <td>NaN</td>\n",
       "      <td>NaN</td>\n",
       "      <td>NaN</td>\n",
       "      <td>NaN</td>\n",
       "      <td>NaN</td>\n",
       "      <td>NaN</td>\n",
       "      <td>NaN</td>\n",
       "      <td>NaN</td>\n",
       "      <td>NaN</td>\n",
       "    </tr>\n",
       "    <tr>\n",
       "      <th>8</th>\n",
       "      <td>a1vcnhxeij</td>\n",
       "      <td>0</td>\n",
       "      <td>0</td>\n",
       "      <td>0</td>\n",
       "      <td>0</td>\n",
       "      <td>1</td>\n",
       "      <td>0</td>\n",
       "      <td>0</td>\n",
       "      <td>0</td>\n",
       "      <td>0</td>\n",
       "      <td>...</td>\n",
       "      <td>NaN</td>\n",
       "      <td>NaN</td>\n",
       "      <td>NaN</td>\n",
       "      <td>NaN</td>\n",
       "      <td>NaN</td>\n",
       "      <td>NaN</td>\n",
       "      <td>NaN</td>\n",
       "      <td>NaN</td>\n",
       "      <td>NaN</td>\n",
       "      <td>NaN</td>\n",
       "    </tr>\n",
       "    <tr>\n",
       "      <th>9</th>\n",
       "      <td>6uh8zyj2gn</td>\n",
       "      <td>0</td>\n",
       "      <td>0</td>\n",
       "      <td>0</td>\n",
       "      <td>0</td>\n",
       "      <td>1</td>\n",
       "      <td>0</td>\n",
       "      <td>0</td>\n",
       "      <td>0</td>\n",
       "      <td>0</td>\n",
       "      <td>...</td>\n",
       "      <td>NaN</td>\n",
       "      <td>NaN</td>\n",
       "      <td>NaN</td>\n",
       "      <td>NaN</td>\n",
       "      <td>NaN</td>\n",
       "      <td>NaN</td>\n",
       "      <td>NaN</td>\n",
       "      <td>NaN</td>\n",
       "      <td>NaN</td>\n",
       "      <td>NaN</td>\n",
       "    </tr>\n",
       "  </tbody>\n",
       "</table>\n",
       "<p>10 rows × 316 columns</p>\n",
       "</div>"
      ],
      "text/plain": [
       "           id  signup_flow  affiliate_channel_api  affiliate_channel_content  \\\n",
       "0  gxn3p5htnn            0                      0                          0   \n",
       "1  820tgsjxq7            0                      0                          0   \n",
       "2  4ft3gnwmtx            3                      0                          0   \n",
       "3  bjjt8pjhuk            0                      0                          0   \n",
       "4  87mebub9p4            0                      0                          0   \n",
       "5  osr2jwljor            0                      0                          0   \n",
       "6  lsw9q7uk0j            0                      0                          0   \n",
       "7  0d01nltbrs            0                      0                          0   \n",
       "8  a1vcnhxeij            0                      0                          0   \n",
       "9  6uh8zyj2gn            0                      0                          0   \n",
       "\n",
       "   affiliate_channel_direct  affiliate_channel_other  \\\n",
       "0                         1                        0   \n",
       "1                         0                        0   \n",
       "2                         1                        0   \n",
       "3                         1                        0   \n",
       "4                         1                        0   \n",
       "5                         0                        1   \n",
       "6                         0                        1   \n",
       "7                         1                        0   \n",
       "8                         0                        1   \n",
       "9                         0                        1   \n",
       "\n",
       "   affiliate_channel_remarketing  affiliate_channel_sem-brand  \\\n",
       "0                              0                            0   \n",
       "1                              0                            0   \n",
       "2                              0                            0   \n",
       "3                              0                            0   \n",
       "4                              0                            0   \n",
       "5                              0                            0   \n",
       "6                              0                            0   \n",
       "7                              0                            0   \n",
       "8                              0                            0   \n",
       "9                              0                            0   \n",
       "\n",
       "   affiliate_channel_sem-non-brand  affiliate_channel_seo     ...      \\\n",
       "0                                0                      0     ...       \n",
       "1                                0                      1     ...       \n",
       "2                                0                      0     ...       \n",
       "3                                0                      0     ...       \n",
       "4                                0                      0     ...       \n",
       "5                                0                      0     ...       \n",
       "6                                0                      0     ...       \n",
       "7                                0                      0     ...       \n",
       "8                                0                      0     ...       \n",
       "9                                0                      0     ...       \n",
       "\n",
       "   view_resolutions  view_search_results  view_security_checks  \\\n",
       "0               NaN                  NaN                   NaN   \n",
       "1               NaN                  NaN                   NaN   \n",
       "2               NaN                  NaN                   NaN   \n",
       "3               NaN                  NaN                   NaN   \n",
       "4               NaN                  NaN                   NaN   \n",
       "5               NaN                  NaN                   NaN   \n",
       "6               NaN                  NaN                   NaN   \n",
       "7               NaN                  NaN                   NaN   \n",
       "8               NaN                  NaN                   NaN   \n",
       "9               NaN                  NaN                   NaN   \n",
       "\n",
       "   view_user_real_names  wishlist  wishlist_content_update  wishlist_note  \\\n",
       "0                   NaN       NaN                      NaN            NaN   \n",
       "1                   NaN       NaN                      NaN            NaN   \n",
       "2                   NaN       NaN                      NaN            NaN   \n",
       "3                   NaN       NaN                      NaN            NaN   \n",
       "4                   NaN       NaN                      NaN            NaN   \n",
       "5                   NaN       NaN                      NaN            NaN   \n",
       "6                   NaN       NaN                      NaN            NaN   \n",
       "7                   NaN       NaN                      NaN            NaN   \n",
       "8                   NaN       NaN                      NaN            NaN   \n",
       "9                   NaN       NaN                      NaN            NaN   \n",
       "\n",
       "   your_listings  your_reservations  your_trips  \n",
       "0            NaN                NaN         NaN  \n",
       "1            NaN                NaN         NaN  \n",
       "2            NaN                NaN         NaN  \n",
       "3            NaN                NaN         NaN  \n",
       "4            NaN                NaN         NaN  \n",
       "5            NaN                NaN         NaN  \n",
       "6            NaN                NaN         NaN  \n",
       "7            NaN                NaN         NaN  \n",
       "8            NaN                NaN         NaN  \n",
       "9            NaN                NaN         NaN  \n",
       "\n",
       "[10 rows x 316 columns]"
      ]
     },
     "execution_count": 41,
     "metadata": {},
     "output_type": "execute_result"
    }
   ],
   "source": [
    "all_users.head(10)"
   ]
  },
  {
   "cell_type": "code",
   "execution_count": 42,
   "metadata": {
    "collapsed": false
   },
   "outputs": [
    {
     "data": {
      "text/plain": [
       "129480"
      ]
     },
     "execution_count": 42,
     "metadata": {},
     "output_type": "execute_result"
    }
   ],
   "source": [
    "all_users.gender.isnull().sum()"
   ]
  },
  {
   "cell_type": "code",
   "execution_count": 43,
   "metadata": {
    "collapsed": false
   },
   "outputs": [],
   "source": [
    "impute_gender = pd.DataFrame(X_pred_gender_users['gender'])"
   ]
  },
  {
   "cell_type": "code",
   "execution_count": 44,
   "metadata": {
    "collapsed": false
   },
   "outputs": [
    {
     "data": {
      "text/html": [
       "<div>\n",
       "<table border=\"1\" class=\"dataframe\">\n",
       "  <thead>\n",
       "    <tr style=\"text-align: right;\">\n",
       "      <th></th>\n",
       "      <th>gender</th>\n",
       "    </tr>\n",
       "  </thead>\n",
       "  <tbody>\n",
       "    <tr>\n",
       "      <th>0</th>\n",
       "      <td>FEMALE</td>\n",
       "    </tr>\n",
       "    <tr>\n",
       "      <th>4</th>\n",
       "      <td>MALE</td>\n",
       "    </tr>\n",
       "    <tr>\n",
       "      <th>5</th>\n",
       "      <td>FEMALE</td>\n",
       "    </tr>\n",
       "    <tr>\n",
       "      <th>9</th>\n",
       "      <td>FEMALE</td>\n",
       "    </tr>\n",
       "    <tr>\n",
       "      <th>12</th>\n",
       "      <td>FEMALE</td>\n",
       "    </tr>\n",
       "  </tbody>\n",
       "</table>\n",
       "</div>"
      ],
      "text/plain": [
       "    gender\n",
       "0   FEMALE\n",
       "4     MALE\n",
       "5   FEMALE\n",
       "9   FEMALE\n",
       "12  FEMALE"
      ]
     },
     "execution_count": 44,
     "metadata": {},
     "output_type": "execute_result"
    }
   ],
   "source": [
    "impute_gender.head()"
   ]
  },
  {
   "cell_type": "code",
   "execution_count": 45,
   "metadata": {
    "collapsed": true
   },
   "outputs": [],
   "source": [
    "new_all_users = pd.merge(all_users, impute_gender, how='left', left_index=True, right_index=True)"
   ]
  },
  {
   "cell_type": "code",
   "execution_count": 46,
   "metadata": {
    "collapsed": false
   },
   "outputs": [
    {
     "data": {
      "text/plain": [
       "((275547, 317), (275547, 316))"
      ]
     },
     "execution_count": 46,
     "metadata": {},
     "output_type": "execute_result"
    }
   ],
   "source": [
    "new_all_users.shape, all_users.shape"
   ]
  },
  {
   "cell_type": "code",
   "execution_count": 47,
   "metadata": {
    "collapsed": false
   },
   "outputs": [
    {
     "data": {
      "text/html": [
       "<div>\n",
       "<table border=\"1\" class=\"dataframe\">\n",
       "  <thead>\n",
       "    <tr style=\"text-align: right;\">\n",
       "      <th></th>\n",
       "      <th>id</th>\n",
       "      <th>signup_flow</th>\n",
       "      <th>affiliate_channel_api</th>\n",
       "      <th>affiliate_channel_content</th>\n",
       "      <th>affiliate_channel_direct</th>\n",
       "      <th>affiliate_channel_other</th>\n",
       "      <th>affiliate_channel_remarketing</th>\n",
       "      <th>affiliate_channel_sem-brand</th>\n",
       "      <th>affiliate_channel_sem-non-brand</th>\n",
       "      <th>affiliate_channel_seo</th>\n",
       "      <th>...</th>\n",
       "      <th>view_search_results</th>\n",
       "      <th>view_security_checks</th>\n",
       "      <th>view_user_real_names</th>\n",
       "      <th>wishlist</th>\n",
       "      <th>wishlist_content_update</th>\n",
       "      <th>wishlist_note</th>\n",
       "      <th>your_listings</th>\n",
       "      <th>your_reservations</th>\n",
       "      <th>your_trips</th>\n",
       "      <th>gender_y</th>\n",
       "    </tr>\n",
       "  </thead>\n",
       "  <tbody>\n",
       "    <tr>\n",
       "      <th>0</th>\n",
       "      <td>gxn3p5htnn</td>\n",
       "      <td>0</td>\n",
       "      <td>0</td>\n",
       "      <td>0</td>\n",
       "      <td>1</td>\n",
       "      <td>0</td>\n",
       "      <td>0</td>\n",
       "      <td>0</td>\n",
       "      <td>0</td>\n",
       "      <td>0</td>\n",
       "      <td>...</td>\n",
       "      <td>NaN</td>\n",
       "      <td>NaN</td>\n",
       "      <td>NaN</td>\n",
       "      <td>NaN</td>\n",
       "      <td>NaN</td>\n",
       "      <td>NaN</td>\n",
       "      <td>NaN</td>\n",
       "      <td>NaN</td>\n",
       "      <td>NaN</td>\n",
       "      <td>FEMALE</td>\n",
       "    </tr>\n",
       "    <tr>\n",
       "      <th>1</th>\n",
       "      <td>820tgsjxq7</td>\n",
       "      <td>0</td>\n",
       "      <td>0</td>\n",
       "      <td>0</td>\n",
       "      <td>0</td>\n",
       "      <td>0</td>\n",
       "      <td>0</td>\n",
       "      <td>0</td>\n",
       "      <td>0</td>\n",
       "      <td>1</td>\n",
       "      <td>...</td>\n",
       "      <td>NaN</td>\n",
       "      <td>NaN</td>\n",
       "      <td>NaN</td>\n",
       "      <td>NaN</td>\n",
       "      <td>NaN</td>\n",
       "      <td>NaN</td>\n",
       "      <td>NaN</td>\n",
       "      <td>NaN</td>\n",
       "      <td>NaN</td>\n",
       "      <td>NaN</td>\n",
       "    </tr>\n",
       "    <tr>\n",
       "      <th>2</th>\n",
       "      <td>4ft3gnwmtx</td>\n",
       "      <td>3</td>\n",
       "      <td>0</td>\n",
       "      <td>0</td>\n",
       "      <td>1</td>\n",
       "      <td>0</td>\n",
       "      <td>0</td>\n",
       "      <td>0</td>\n",
       "      <td>0</td>\n",
       "      <td>0</td>\n",
       "      <td>...</td>\n",
       "      <td>NaN</td>\n",
       "      <td>NaN</td>\n",
       "      <td>NaN</td>\n",
       "      <td>NaN</td>\n",
       "      <td>NaN</td>\n",
       "      <td>NaN</td>\n",
       "      <td>NaN</td>\n",
       "      <td>NaN</td>\n",
       "      <td>NaN</td>\n",
       "      <td>NaN</td>\n",
       "    </tr>\n",
       "    <tr>\n",
       "      <th>3</th>\n",
       "      <td>bjjt8pjhuk</td>\n",
       "      <td>0</td>\n",
       "      <td>0</td>\n",
       "      <td>0</td>\n",
       "      <td>1</td>\n",
       "      <td>0</td>\n",
       "      <td>0</td>\n",
       "      <td>0</td>\n",
       "      <td>0</td>\n",
       "      <td>0</td>\n",
       "      <td>...</td>\n",
       "      <td>NaN</td>\n",
       "      <td>NaN</td>\n",
       "      <td>NaN</td>\n",
       "      <td>NaN</td>\n",
       "      <td>NaN</td>\n",
       "      <td>NaN</td>\n",
       "      <td>NaN</td>\n",
       "      <td>NaN</td>\n",
       "      <td>NaN</td>\n",
       "      <td>NaN</td>\n",
       "    </tr>\n",
       "    <tr>\n",
       "      <th>4</th>\n",
       "      <td>87mebub9p4</td>\n",
       "      <td>0</td>\n",
       "      <td>0</td>\n",
       "      <td>0</td>\n",
       "      <td>1</td>\n",
       "      <td>0</td>\n",
       "      <td>0</td>\n",
       "      <td>0</td>\n",
       "      <td>0</td>\n",
       "      <td>0</td>\n",
       "      <td>...</td>\n",
       "      <td>NaN</td>\n",
       "      <td>NaN</td>\n",
       "      <td>NaN</td>\n",
       "      <td>NaN</td>\n",
       "      <td>NaN</td>\n",
       "      <td>NaN</td>\n",
       "      <td>NaN</td>\n",
       "      <td>NaN</td>\n",
       "      <td>NaN</td>\n",
       "      <td>MALE</td>\n",
       "    </tr>\n",
       "  </tbody>\n",
       "</table>\n",
       "<p>5 rows × 317 columns</p>\n",
       "</div>"
      ],
      "text/plain": [
       "           id  signup_flow  affiliate_channel_api  affiliate_channel_content  \\\n",
       "0  gxn3p5htnn            0                      0                          0   \n",
       "1  820tgsjxq7            0                      0                          0   \n",
       "2  4ft3gnwmtx            3                      0                          0   \n",
       "3  bjjt8pjhuk            0                      0                          0   \n",
       "4  87mebub9p4            0                      0                          0   \n",
       "\n",
       "   affiliate_channel_direct  affiliate_channel_other  \\\n",
       "0                         1                        0   \n",
       "1                         0                        0   \n",
       "2                         1                        0   \n",
       "3                         1                        0   \n",
       "4                         1                        0   \n",
       "\n",
       "   affiliate_channel_remarketing  affiliate_channel_sem-brand  \\\n",
       "0                              0                            0   \n",
       "1                              0                            0   \n",
       "2                              0                            0   \n",
       "3                              0                            0   \n",
       "4                              0                            0   \n",
       "\n",
       "   affiliate_channel_sem-non-brand  affiliate_channel_seo    ...     \\\n",
       "0                                0                      0    ...      \n",
       "1                                0                      1    ...      \n",
       "2                                0                      0    ...      \n",
       "3                                0                      0    ...      \n",
       "4                                0                      0    ...      \n",
       "\n",
       "   view_search_results  view_security_checks  view_user_real_names  wishlist  \\\n",
       "0                  NaN                   NaN                   NaN       NaN   \n",
       "1                  NaN                   NaN                   NaN       NaN   \n",
       "2                  NaN                   NaN                   NaN       NaN   \n",
       "3                  NaN                   NaN                   NaN       NaN   \n",
       "4                  NaN                   NaN                   NaN       NaN   \n",
       "\n",
       "   wishlist_content_update  wishlist_note  your_listings  your_reservations  \\\n",
       "0                      NaN            NaN            NaN                NaN   \n",
       "1                      NaN            NaN            NaN                NaN   \n",
       "2                      NaN            NaN            NaN                NaN   \n",
       "3                      NaN            NaN            NaN                NaN   \n",
       "4                      NaN            NaN            NaN                NaN   \n",
       "\n",
       "   your_trips  gender_y  \n",
       "0         NaN    FEMALE  \n",
       "1         NaN       NaN  \n",
       "2         NaN       NaN  \n",
       "3         NaN       NaN  \n",
       "4         NaN      MALE  \n",
       "\n",
       "[5 rows x 317 columns]"
      ]
     },
     "execution_count": 47,
     "metadata": {},
     "output_type": "execute_result"
    }
   ],
   "source": [
    "new_all_users.head()"
   ]
  },
  {
   "cell_type": "code",
   "execution_count": 48,
   "metadata": {
    "collapsed": false
   },
   "outputs": [
    {
     "data": {
      "text/plain": [
       "(129480, 146067)"
      ]
     },
     "execution_count": 48,
     "metadata": {},
     "output_type": "execute_result"
    }
   ],
   "source": [
    "new_all_users.gender_x.isnull().sum(), new_all_users.gender_y.isnull().sum()"
   ]
  },
  {
   "cell_type": "code",
   "execution_count": 49,
   "metadata": {
    "collapsed": true
   },
   "outputs": [],
   "source": [
    "new_all_users.loc[new_all_users.gender_x.isnull(),'gender_x'] = new_all_users['gender_y']"
   ]
  },
  {
   "cell_type": "code",
   "execution_count": 50,
   "metadata": {
    "collapsed": false
   },
   "outputs": [
    {
     "data": {
      "text/plain": [
       "0"
      ]
     },
     "execution_count": 50,
     "metadata": {},
     "output_type": "execute_result"
    }
   ],
   "source": [
    "new_all_users.gender_x.isnull().sum()"
   ]
  },
  {
   "cell_type": "code",
   "execution_count": 51,
   "metadata": {
    "collapsed": false
   },
   "outputs": [
    {
     "data": {
      "text/html": [
       "<div>\n",
       "<table border=\"1\" class=\"dataframe\">\n",
       "  <thead>\n",
       "    <tr style=\"text-align: right;\">\n",
       "      <th></th>\n",
       "      <th>id</th>\n",
       "      <th>signup_flow</th>\n",
       "      <th>affiliate_channel_api</th>\n",
       "      <th>affiliate_channel_content</th>\n",
       "      <th>affiliate_channel_direct</th>\n",
       "      <th>affiliate_channel_other</th>\n",
       "      <th>affiliate_channel_remarketing</th>\n",
       "      <th>affiliate_channel_sem-brand</th>\n",
       "      <th>affiliate_channel_sem-non-brand</th>\n",
       "      <th>affiliate_channel_seo</th>\n",
       "      <th>...</th>\n",
       "      <th>view_search_results</th>\n",
       "      <th>view_security_checks</th>\n",
       "      <th>view_user_real_names</th>\n",
       "      <th>wishlist</th>\n",
       "      <th>wishlist_content_update</th>\n",
       "      <th>wishlist_note</th>\n",
       "      <th>your_listings</th>\n",
       "      <th>your_reservations</th>\n",
       "      <th>your_trips</th>\n",
       "      <th>gender_y</th>\n",
       "    </tr>\n",
       "  </thead>\n",
       "  <tbody>\n",
       "    <tr>\n",
       "      <th>0</th>\n",
       "      <td>gxn3p5htnn</td>\n",
       "      <td>0</td>\n",
       "      <td>0</td>\n",
       "      <td>0</td>\n",
       "      <td>1</td>\n",
       "      <td>0</td>\n",
       "      <td>0</td>\n",
       "      <td>0</td>\n",
       "      <td>0</td>\n",
       "      <td>0</td>\n",
       "      <td>...</td>\n",
       "      <td>NaN</td>\n",
       "      <td>NaN</td>\n",
       "      <td>NaN</td>\n",
       "      <td>NaN</td>\n",
       "      <td>NaN</td>\n",
       "      <td>NaN</td>\n",
       "      <td>NaN</td>\n",
       "      <td>NaN</td>\n",
       "      <td>NaN</td>\n",
       "      <td>FEMALE</td>\n",
       "    </tr>\n",
       "    <tr>\n",
       "      <th>1</th>\n",
       "      <td>820tgsjxq7</td>\n",
       "      <td>0</td>\n",
       "      <td>0</td>\n",
       "      <td>0</td>\n",
       "      <td>0</td>\n",
       "      <td>0</td>\n",
       "      <td>0</td>\n",
       "      <td>0</td>\n",
       "      <td>0</td>\n",
       "      <td>1</td>\n",
       "      <td>...</td>\n",
       "      <td>NaN</td>\n",
       "      <td>NaN</td>\n",
       "      <td>NaN</td>\n",
       "      <td>NaN</td>\n",
       "      <td>NaN</td>\n",
       "      <td>NaN</td>\n",
       "      <td>NaN</td>\n",
       "      <td>NaN</td>\n",
       "      <td>NaN</td>\n",
       "      <td>NaN</td>\n",
       "    </tr>\n",
       "    <tr>\n",
       "      <th>2</th>\n",
       "      <td>4ft3gnwmtx</td>\n",
       "      <td>3</td>\n",
       "      <td>0</td>\n",
       "      <td>0</td>\n",
       "      <td>1</td>\n",
       "      <td>0</td>\n",
       "      <td>0</td>\n",
       "      <td>0</td>\n",
       "      <td>0</td>\n",
       "      <td>0</td>\n",
       "      <td>...</td>\n",
       "      <td>NaN</td>\n",
       "      <td>NaN</td>\n",
       "      <td>NaN</td>\n",
       "      <td>NaN</td>\n",
       "      <td>NaN</td>\n",
       "      <td>NaN</td>\n",
       "      <td>NaN</td>\n",
       "      <td>NaN</td>\n",
       "      <td>NaN</td>\n",
       "      <td>NaN</td>\n",
       "    </tr>\n",
       "    <tr>\n",
       "      <th>3</th>\n",
       "      <td>bjjt8pjhuk</td>\n",
       "      <td>0</td>\n",
       "      <td>0</td>\n",
       "      <td>0</td>\n",
       "      <td>1</td>\n",
       "      <td>0</td>\n",
       "      <td>0</td>\n",
       "      <td>0</td>\n",
       "      <td>0</td>\n",
       "      <td>0</td>\n",
       "      <td>...</td>\n",
       "      <td>NaN</td>\n",
       "      <td>NaN</td>\n",
       "      <td>NaN</td>\n",
       "      <td>NaN</td>\n",
       "      <td>NaN</td>\n",
       "      <td>NaN</td>\n",
       "      <td>NaN</td>\n",
       "      <td>NaN</td>\n",
       "      <td>NaN</td>\n",
       "      <td>NaN</td>\n",
       "    </tr>\n",
       "    <tr>\n",
       "      <th>4</th>\n",
       "      <td>87mebub9p4</td>\n",
       "      <td>0</td>\n",
       "      <td>0</td>\n",
       "      <td>0</td>\n",
       "      <td>1</td>\n",
       "      <td>0</td>\n",
       "      <td>0</td>\n",
       "      <td>0</td>\n",
       "      <td>0</td>\n",
       "      <td>0</td>\n",
       "      <td>...</td>\n",
       "      <td>NaN</td>\n",
       "      <td>NaN</td>\n",
       "      <td>NaN</td>\n",
       "      <td>NaN</td>\n",
       "      <td>NaN</td>\n",
       "      <td>NaN</td>\n",
       "      <td>NaN</td>\n",
       "      <td>NaN</td>\n",
       "      <td>NaN</td>\n",
       "      <td>MALE</td>\n",
       "    </tr>\n",
       "  </tbody>\n",
       "</table>\n",
       "<p>5 rows × 317 columns</p>\n",
       "</div>"
      ],
      "text/plain": [
       "           id  signup_flow  affiliate_channel_api  affiliate_channel_content  \\\n",
       "0  gxn3p5htnn            0                      0                          0   \n",
       "1  820tgsjxq7            0                      0                          0   \n",
       "2  4ft3gnwmtx            3                      0                          0   \n",
       "3  bjjt8pjhuk            0                      0                          0   \n",
       "4  87mebub9p4            0                      0                          0   \n",
       "\n",
       "   affiliate_channel_direct  affiliate_channel_other  \\\n",
       "0                         1                        0   \n",
       "1                         0                        0   \n",
       "2                         1                        0   \n",
       "3                         1                        0   \n",
       "4                         1                        0   \n",
       "\n",
       "   affiliate_channel_remarketing  affiliate_channel_sem-brand  \\\n",
       "0                              0                            0   \n",
       "1                              0                            0   \n",
       "2                              0                            0   \n",
       "3                              0                            0   \n",
       "4                              0                            0   \n",
       "\n",
       "   affiliate_channel_sem-non-brand  affiliate_channel_seo    ...     \\\n",
       "0                                0                      0    ...      \n",
       "1                                0                      1    ...      \n",
       "2                                0                      0    ...      \n",
       "3                                0                      0    ...      \n",
       "4                                0                      0    ...      \n",
       "\n",
       "   view_search_results  view_security_checks  view_user_real_names  wishlist  \\\n",
       "0                  NaN                   NaN                   NaN       NaN   \n",
       "1                  NaN                   NaN                   NaN       NaN   \n",
       "2                  NaN                   NaN                   NaN       NaN   \n",
       "3                  NaN                   NaN                   NaN       NaN   \n",
       "4                  NaN                   NaN                   NaN       NaN   \n",
       "\n",
       "   wishlist_content_update  wishlist_note  your_listings  your_reservations  \\\n",
       "0                      NaN            NaN            NaN                NaN   \n",
       "1                      NaN            NaN            NaN                NaN   \n",
       "2                      NaN            NaN            NaN                NaN   \n",
       "3                      NaN            NaN            NaN                NaN   \n",
       "4                      NaN            NaN            NaN                NaN   \n",
       "\n",
       "   your_trips  gender_y  \n",
       "0         NaN    FEMALE  \n",
       "1         NaN       NaN  \n",
       "2         NaN       NaN  \n",
       "3         NaN       NaN  \n",
       "4         NaN      MALE  \n",
       "\n",
       "[5 rows x 317 columns]"
      ]
     },
     "execution_count": 51,
     "metadata": {},
     "output_type": "execute_result"
    }
   ],
   "source": [
    "new_all_users.head()"
   ]
  },
  {
   "cell_type": "code",
   "execution_count": 52,
   "metadata": {
    "collapsed": true
   },
   "outputs": [],
   "source": [
    "new_all_users = new_all_users.drop(['user_id_x','user_id_y','gender_y'], axis=1)"
   ]
  },
  {
   "cell_type": "code",
   "execution_count": 53,
   "metadata": {
    "collapsed": false
   },
   "outputs": [
    {
     "data": {
      "text/plain": [
       "(275547, 314)"
      ]
     },
     "execution_count": 53,
     "metadata": {},
     "output_type": "execute_result"
    }
   ],
   "source": [
    "new_all_users.shape"
   ]
  },
  {
   "cell_type": "code",
   "execution_count": 54,
   "metadata": {
    "collapsed": false
   },
   "outputs": [],
   "source": [
    "new_all_users = new_all_users.set_index('id')"
   ]
  },
  {
   "cell_type": "code",
   "execution_count": 55,
   "metadata": {
    "collapsed": true
   },
   "outputs": [],
   "source": [
    "new_all_users = pd.get_dummies(new_all_users)"
   ]
  },
  {
   "cell_type": "code",
   "execution_count": 56,
   "metadata": {
    "collapsed": false
   },
   "outputs": [
    {
     "data": {
      "text/plain": [
       "(275547, 315)"
      ]
     },
     "execution_count": 56,
     "metadata": {},
     "output_type": "execute_result"
    }
   ],
   "source": [
    "new_all_users.shape"
   ]
  },
  {
   "cell_type": "code",
   "execution_count": 59,
   "metadata": {
    "collapsed": false
   },
   "outputs": [],
   "source": [
    "new_all_users = new_all_users.reset_index()"
   ]
  },
  {
   "cell_type": "code",
   "execution_count": 60,
   "metadata": {
    "collapsed": false
   },
   "outputs": [
    {
     "data": {
      "text/html": [
       "<div>\n",
       "<table border=\"1\" class=\"dataframe\">\n",
       "  <thead>\n",
       "    <tr style=\"text-align: right;\">\n",
       "      <th></th>\n",
       "      <th>id</th>\n",
       "      <th>signup_flow</th>\n",
       "      <th>affiliate_channel_api</th>\n",
       "      <th>affiliate_channel_content</th>\n",
       "      <th>affiliate_channel_direct</th>\n",
       "      <th>affiliate_channel_other</th>\n",
       "      <th>affiliate_channel_remarketing</th>\n",
       "      <th>affiliate_channel_sem-brand</th>\n",
       "      <th>affiliate_channel_sem-non-brand</th>\n",
       "      <th>affiliate_channel_seo</th>\n",
       "      <th>...</th>\n",
       "      <th>view_user_real_names</th>\n",
       "      <th>wishlist</th>\n",
       "      <th>wishlist_content_update</th>\n",
       "      <th>wishlist_note</th>\n",
       "      <th>your_listings</th>\n",
       "      <th>your_reservations</th>\n",
       "      <th>your_trips</th>\n",
       "      <th>gender_x_FEMALE</th>\n",
       "      <th>gender_x_MALE</th>\n",
       "      <th>gender_x_OTHER</th>\n",
       "    </tr>\n",
       "  </thead>\n",
       "  <tbody>\n",
       "    <tr>\n",
       "      <th>0</th>\n",
       "      <td>gxn3p5htnn</td>\n",
       "      <td>0</td>\n",
       "      <td>0</td>\n",
       "      <td>0</td>\n",
       "      <td>1</td>\n",
       "      <td>0</td>\n",
       "      <td>0</td>\n",
       "      <td>0</td>\n",
       "      <td>0</td>\n",
       "      <td>0</td>\n",
       "      <td>...</td>\n",
       "      <td>NaN</td>\n",
       "      <td>NaN</td>\n",
       "      <td>NaN</td>\n",
       "      <td>NaN</td>\n",
       "      <td>NaN</td>\n",
       "      <td>NaN</td>\n",
       "      <td>NaN</td>\n",
       "      <td>1</td>\n",
       "      <td>0</td>\n",
       "      <td>0</td>\n",
       "    </tr>\n",
       "    <tr>\n",
       "      <th>1</th>\n",
       "      <td>820tgsjxq7</td>\n",
       "      <td>0</td>\n",
       "      <td>0</td>\n",
       "      <td>0</td>\n",
       "      <td>0</td>\n",
       "      <td>0</td>\n",
       "      <td>0</td>\n",
       "      <td>0</td>\n",
       "      <td>0</td>\n",
       "      <td>1</td>\n",
       "      <td>...</td>\n",
       "      <td>NaN</td>\n",
       "      <td>NaN</td>\n",
       "      <td>NaN</td>\n",
       "      <td>NaN</td>\n",
       "      <td>NaN</td>\n",
       "      <td>NaN</td>\n",
       "      <td>NaN</td>\n",
       "      <td>0</td>\n",
       "      <td>1</td>\n",
       "      <td>0</td>\n",
       "    </tr>\n",
       "    <tr>\n",
       "      <th>2</th>\n",
       "      <td>4ft3gnwmtx</td>\n",
       "      <td>3</td>\n",
       "      <td>0</td>\n",
       "      <td>0</td>\n",
       "      <td>1</td>\n",
       "      <td>0</td>\n",
       "      <td>0</td>\n",
       "      <td>0</td>\n",
       "      <td>0</td>\n",
       "      <td>0</td>\n",
       "      <td>...</td>\n",
       "      <td>NaN</td>\n",
       "      <td>NaN</td>\n",
       "      <td>NaN</td>\n",
       "      <td>NaN</td>\n",
       "      <td>NaN</td>\n",
       "      <td>NaN</td>\n",
       "      <td>NaN</td>\n",
       "      <td>1</td>\n",
       "      <td>0</td>\n",
       "      <td>0</td>\n",
       "    </tr>\n",
       "    <tr>\n",
       "      <th>3</th>\n",
       "      <td>bjjt8pjhuk</td>\n",
       "      <td>0</td>\n",
       "      <td>0</td>\n",
       "      <td>0</td>\n",
       "      <td>1</td>\n",
       "      <td>0</td>\n",
       "      <td>0</td>\n",
       "      <td>0</td>\n",
       "      <td>0</td>\n",
       "      <td>0</td>\n",
       "      <td>...</td>\n",
       "      <td>NaN</td>\n",
       "      <td>NaN</td>\n",
       "      <td>NaN</td>\n",
       "      <td>NaN</td>\n",
       "      <td>NaN</td>\n",
       "      <td>NaN</td>\n",
       "      <td>NaN</td>\n",
       "      <td>1</td>\n",
       "      <td>0</td>\n",
       "      <td>0</td>\n",
       "    </tr>\n",
       "    <tr>\n",
       "      <th>4</th>\n",
       "      <td>87mebub9p4</td>\n",
       "      <td>0</td>\n",
       "      <td>0</td>\n",
       "      <td>0</td>\n",
       "      <td>1</td>\n",
       "      <td>0</td>\n",
       "      <td>0</td>\n",
       "      <td>0</td>\n",
       "      <td>0</td>\n",
       "      <td>0</td>\n",
       "      <td>...</td>\n",
       "      <td>NaN</td>\n",
       "      <td>NaN</td>\n",
       "      <td>NaN</td>\n",
       "      <td>NaN</td>\n",
       "      <td>NaN</td>\n",
       "      <td>NaN</td>\n",
       "      <td>NaN</td>\n",
       "      <td>0</td>\n",
       "      <td>1</td>\n",
       "      <td>0</td>\n",
       "    </tr>\n",
       "  </tbody>\n",
       "</table>\n",
       "<p>5 rows × 316 columns</p>\n",
       "</div>"
      ],
      "text/plain": [
       "           id  signup_flow  affiliate_channel_api  affiliate_channel_content  \\\n",
       "0  gxn3p5htnn            0                      0                          0   \n",
       "1  820tgsjxq7            0                      0                          0   \n",
       "2  4ft3gnwmtx            3                      0                          0   \n",
       "3  bjjt8pjhuk            0                      0                          0   \n",
       "4  87mebub9p4            0                      0                          0   \n",
       "\n",
       "   affiliate_channel_direct  affiliate_channel_other  \\\n",
       "0                         1                        0   \n",
       "1                         0                        0   \n",
       "2                         1                        0   \n",
       "3                         1                        0   \n",
       "4                         1                        0   \n",
       "\n",
       "   affiliate_channel_remarketing  affiliate_channel_sem-brand  \\\n",
       "0                              0                            0   \n",
       "1                              0                            0   \n",
       "2                              0                            0   \n",
       "3                              0                            0   \n",
       "4                              0                            0   \n",
       "\n",
       "   affiliate_channel_sem-non-brand  affiliate_channel_seo       ...        \\\n",
       "0                                0                      0       ...         \n",
       "1                                0                      1       ...         \n",
       "2                                0                      0       ...         \n",
       "3                                0                      0       ...         \n",
       "4                                0                      0       ...         \n",
       "\n",
       "   view_user_real_names  wishlist  wishlist_content_update  wishlist_note  \\\n",
       "0                   NaN       NaN                      NaN            NaN   \n",
       "1                   NaN       NaN                      NaN            NaN   \n",
       "2                   NaN       NaN                      NaN            NaN   \n",
       "3                   NaN       NaN                      NaN            NaN   \n",
       "4                   NaN       NaN                      NaN            NaN   \n",
       "\n",
       "   your_listings  your_reservations  your_trips  gender_x_FEMALE  \\\n",
       "0            NaN                NaN         NaN                1   \n",
       "1            NaN                NaN         NaN                0   \n",
       "2            NaN                NaN         NaN                1   \n",
       "3            NaN                NaN         NaN                1   \n",
       "4            NaN                NaN         NaN                0   \n",
       "\n",
       "   gender_x_MALE  gender_x_OTHER  \n",
       "0              0               0  \n",
       "1              1               0  \n",
       "2              0               0  \n",
       "3              0               0  \n",
       "4              1               0  \n",
       "\n",
       "[5 rows x 316 columns]"
      ]
     },
     "execution_count": 60,
     "metadata": {},
     "output_type": "execute_result"
    }
   ],
   "source": [
    "new_all_users.head()"
   ]
  },
  {
   "cell_type": "code",
   "execution_count": 61,
   "metadata": {
    "collapsed": false
   },
   "outputs": [],
   "source": [
    "destination = t_users['country_destination'].reset_index()"
   ]
  },
  {
   "cell_type": "code",
   "execution_count": 62,
   "metadata": {
    "collapsed": false
   },
   "outputs": [
    {
     "data": {
      "text/html": [
       "<div>\n",
       "<table border=\"1\" class=\"dataframe\">\n",
       "  <thead>\n",
       "    <tr style=\"text-align: right;\">\n",
       "      <th></th>\n",
       "      <th>id</th>\n",
       "      <th>country_destination</th>\n",
       "    </tr>\n",
       "  </thead>\n",
       "  <tbody>\n",
       "    <tr>\n",
       "      <th>0</th>\n",
       "      <td>gxn3p5htnn</td>\n",
       "      <td>NDF</td>\n",
       "    </tr>\n",
       "    <tr>\n",
       "      <th>1</th>\n",
       "      <td>820tgsjxq7</td>\n",
       "      <td>NDF</td>\n",
       "    </tr>\n",
       "    <tr>\n",
       "      <th>2</th>\n",
       "      <td>4ft3gnwmtx</td>\n",
       "      <td>US</td>\n",
       "    </tr>\n",
       "    <tr>\n",
       "      <th>3</th>\n",
       "      <td>bjjt8pjhuk</td>\n",
       "      <td>other</td>\n",
       "    </tr>\n",
       "    <tr>\n",
       "      <th>4</th>\n",
       "      <td>87mebub9p4</td>\n",
       "      <td>US</td>\n",
       "    </tr>\n",
       "  </tbody>\n",
       "</table>\n",
       "</div>"
      ],
      "text/plain": [
       "           id country_destination\n",
       "0  gxn3p5htnn                 NDF\n",
       "1  820tgsjxq7                 NDF\n",
       "2  4ft3gnwmtx                  US\n",
       "3  bjjt8pjhuk               other\n",
       "4  87mebub9p4                  US"
      ]
     },
     "execution_count": 62,
     "metadata": {},
     "output_type": "execute_result"
    }
   ],
   "source": [
    "destination.head()"
   ]
  },
  {
   "cell_type": "code",
   "execution_count": 63,
   "metadata": {
    "collapsed": true
   },
   "outputs": [],
   "source": [
    "new_all_users = pd.merge(new_all_users, destination, how='inner', on='id')"
   ]
  },
  {
   "cell_type": "code",
   "execution_count": 64,
   "metadata": {
    "collapsed": false
   },
   "outputs": [
    {
     "data": {
      "text/plain": [
       "(275547, 317)"
      ]
     },
     "execution_count": 64,
     "metadata": {},
     "output_type": "execute_result"
    }
   ],
   "source": [
    "new_all_users.shape"
   ]
  },
  {
   "cell_type": "code",
   "execution_count": 66,
   "metadata": {
    "collapsed": false
   },
   "outputs": [],
   "source": [
    "# Split train and test data\n",
    "df_test = new_all_users[new_all_users['country_destination'].isnull()]\n",
    "df_train = new_all_users[new_all_users['country_destination'].isnull()==False]"
   ]
  },
  {
   "cell_type": "code",
   "execution_count": 67,
   "metadata": {
    "collapsed": true
   },
   "outputs": [],
   "source": [
    "from sklearn.preprocessing import LabelEncoder\n",
    "labels = df_train['country_destination']\n",
    "le = LabelEncoder()\n",
    "y = le.fit_transform(labels)\n",
    "X = df_train.drop('country_destination', axis=1, inplace=False)"
   ]
  },
  {
   "cell_type": "code",
   "execution_count": 68,
   "metadata": {
    "collapsed": true
   },
   "outputs": [],
   "source": [
    "X = X.fillna(0)"
   ]
  },
  {
   "cell_type": "code",
   "execution_count": 70,
   "metadata": {
    "collapsed": true
   },
   "outputs": [],
   "source": [
    "idtrain = df_train['id']\n",
    "X = X.drop('id', axis=1, inplace=False)"
   ]
  },
  {
   "cell_type": "code",
   "execution_count": 71,
   "metadata": {
    "collapsed": false
   },
   "outputs": [
    {
     "data": {
      "text/plain": [
       "((213451, 315), (213451,))"
      ]
     },
     "execution_count": 71,
     "metadata": {},
     "output_type": "execute_result"
    }
   ],
   "source": [
    "X.shape, y.shape"
   ]
  },
  {
   "cell_type": "code",
   "execution_count": 72,
   "metadata": {
    "collapsed": false
   },
   "outputs": [
    {
     "data": {
      "text/plain": [
       "XGBClassifier(base_score=0.5, colsample_bylevel=1, colsample_bytree=0.5,\n",
       "       gamma=0, learning_rate=0.1, max_delta_step=0, max_depth=3,\n",
       "       min_child_weight=1, missing=None, n_estimators=25, nthread=-1,\n",
       "       objective='multi:softprob', reg_alpha=0, reg_lambda=1,\n",
       "       scale_pos_weight=1, seed=0, silent=True, subsample=0.5)"
      ]
     },
     "execution_count": 72,
     "metadata": {},
     "output_type": "execute_result"
    }
   ],
   "source": [
    "# Model 2\n",
    "# Grid Search - Used to find best combination of parameters\n",
    "import xgboost as xgb\n",
    "from xgboost.sklearn import XGBClassifier\n",
    "from sklearn import cross_validation, metrics   #Additional scklearn functions\n",
    "from sklearn.grid_search import GridSearchCV   #Performing grid search\n",
    "\n",
    "# Skip Grid search for time saving\n",
    "final_model = XGBClassifier(\n",
    "        learning_rate =0.1,\n",
    "        n_estimators=25,\n",
    "        max_depth=3,\n",
    "        objective='multi:softprob', \n",
    "        subsample=0.5, \n",
    "        colsample_bytree=0.5, \n",
    "        seed=0)\n",
    "final_model.fit(X,y)"
   ]
  },
  {
   "cell_type": "code",
   "execution_count": 73,
   "metadata": {
    "collapsed": false
   },
   "outputs": [
    {
     "data": {
      "text/plain": [
       "<matplotlib.text.Text at 0x124794050>"
      ]
     },
     "execution_count": 73,
     "metadata": {},
     "output_type": "execute_result"
    },
    {
     "data": {
      "image/png": "[encoded data removed]",
      "text/plain": [
       "<matplotlib.figure.Figure at 0x1246bf890>"
      ]
     },
     "metadata": {},
     "output_type": "display_data"
    }
   ],
   "source": [
    "import matplotlib.pyplot as plt\n",
    "%matplotlib inline\n",
    "feat_imp = pd.Series(final_model.booster().get_fscore()).sort_values(ascending=False)\n",
    "feat_imp.plot(kind='bar', title='Feature Importances')\n",
    "plt.ylabel('Feature Importance Score')"
   ]
  },
  {
   "cell_type": "code",
   "execution_count": 75,
   "metadata": {
    "collapsed": false
   },
   "outputs": [
    {
     "data": {
      "text/plain": [
       "age                              196\n",
       "p5                                88\n",
       "pending                           70\n",
       "signup_flow                       60\n",
       "year_account_created              58\n",
       "post_checkout_action              56\n",
       "year_first_active                 50\n",
       "signup_method_basic               45\n",
       "view_search_results               40\n",
       "signup_app_Web                    40\n",
       "signup_method_facebook            40\n",
       "create_phone_numbers              38\n",
       "message_post                      38\n",
       "translate_listing_reviews         36\n",
       "your_trips                        31\n",
       "hour_first_active                 29\n",
       "first_device_type_Mac Desktop     26\n",
       "month_account_created             26\n",
       "change_trip_characteristics       23\n",
       "first_browser_-unknown-           23\n",
       "listing_reviews_page              21\n",
       "month_first_active                19\n",
       "affiliate_channel_other           19\n",
       "contact_host                      19\n",
       "p3                                18\n",
       "header_userpic                    17\n",
       "Tablet                            17\n",
       "wishlist_content_update           16\n",
       "phone_verification_success        15\n",
       "payment_instruments               14\n",
       "dtype: int64"
      ]
     },
     "execution_count": 75,
     "metadata": {},
     "output_type": "execute_result"
    }
   ],
   "source": [
    "feat_imp[:30]"
   ]
  },
  {
   "cell_type": "code",
   "execution_count": 76,
   "metadata": {
    "collapsed": true
   },
   "outputs": [],
   "source": [
    "df_test = df_test.fillna(0)"
   ]
  },
  {
   "cell_type": "code",
   "execution_count": 77,
   "metadata": {
    "collapsed": false
   },
   "outputs": [
    {
     "data": {
      "text/plain": [
       "(62096, 315)"
      ]
     },
     "execution_count": 77,
     "metadata": {},
     "output_type": "execute_result"
    }
   ],
   "source": [
    "#Prepare data for prediction\n",
    "df_test = df_test.drop('country_destination', axis=1, inplace=False)\n",
    "id_test = df_test['id']\n",
    "X_test = df_test.drop('id', axis=1, inplace=False)\n",
    "X_test.shape"
   ]
  },
  {
   "cell_type": "code",
   "execution_count": 78,
   "metadata": {
    "collapsed": true
   },
   "outputs": [],
   "source": [
    "# Make predictions\n",
    "y_pred = final_model.predict_proba(X_test)"
   ]
  },
  {
   "cell_type": "code",
   "execution_count": 79,
   "metadata": {
    "collapsed": true
   },
   "outputs": [],
   "source": [
    "id_test = id_test.reset_index()\n",
    "ids_test = id_test.id.values"
   ]
  },
  {
   "cell_type": "code",
   "execution_count": 80,
   "metadata": {
    "collapsed": true
   },
   "outputs": [],
   "source": [
    "#Taking the 5 classes with highest probabilities\n",
    "ids = []  #list of ids\n",
    "cts = []  #list of countries\n",
    "for i in range(len(ids_test)):\n",
    "    idx = ids_test[i]\n",
    "    ids += [idx] * 5\n",
    "    cts += le.inverse_transform(np.argsort(y_pred[i])[::-1])[:5].tolist()"
   ]
  },
  {
   "cell_type": "code",
   "execution_count": 81,
   "metadata": {
    "collapsed": false
   },
   "outputs": [
    {
     "data": {
      "text/plain": [
       "(310480,\n",
       " 310480,\n",
       " ['5uwns89zht',\n",
       "  '5uwns89zht',\n",
       "  '5uwns89zht',\n",
       "  '5uwns89zht',\n",
       "  '5uwns89zht',\n",
       "  'jtl0dijy2j',\n",
       "  'jtl0dijy2j',\n",
       "  'jtl0dijy2j',\n",
       "  'jtl0dijy2j',\n",
       "  'jtl0dijy2j'],\n",
       " ['NDF', 'US', 'other', 'FR', 'IT', 'NDF', 'US', 'other', 'FR', 'IT'])"
      ]
     },
     "execution_count": 81,
     "metadata": {},
     "output_type": "execute_result"
    }
   ],
   "source": [
    "len(ids), len(cts), ids[:10], cts[:10]"
   ]
  },
  {
   "cell_type": "code",
   "execution_count": 82,
   "metadata": {
    "collapsed": false
   },
   "outputs": [
    {
     "name": "stdout",
     "output_type": "stream",
     "text": [
      "Outputting final results...\n"
     ]
    }
   ],
   "source": [
    "#Generate submission\n",
    "print(\"Outputting final results...\")\n",
    "sub = pd.DataFrame(np.column_stack((ids, cts)), columns=['id', 'country'])\n",
    "sub.to_csv('./data/submission-2016-10-31-r2.csv', index=False)"
   ]
  },
  {
   "cell_type": "code",
   "execution_count": 83,
   "metadata": {
    "collapsed": false
   },
   "outputs": [
    {
     "data": {
      "text/plain": [
       "((310480, 2), (62096, 316))"
      ]
     },
     "execution_count": 83,
     "metadata": {},
     "output_type": "execute_result"
    }
   ],
   "source": [
    "sub.shape, df_test.shape"
   ]
  },
  {
   "cell_type": "code",
   "execution_count": null,
   "metadata": {
    "collapsed": true
   },
   "outputs": [],
   "source": []
  }
 ],
 "metadata": {
  "kernelspec": {
   "display_name": "Python 2",
   "language": "python",
   "name": "python2"
  },
  "language_info": {
   "codemirror_mode": {
    "name": "ipython",
    "version": 2
   },
   "file_extension": ".py",
   "mimetype": "text/x-python",
   "name": "python",
   "nbconvert_exporter": "python",
   "pygments_lexer": "ipython2",
   "version": "2.7.10"
  }
 },
 "nbformat": 4,
 "nbformat_minor": 0
}
